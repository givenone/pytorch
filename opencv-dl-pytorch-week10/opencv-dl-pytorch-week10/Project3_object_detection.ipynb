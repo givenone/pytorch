{
 "cells": [
  {
   "cell_type": "markdown",
   "metadata": {},
   "source": [
    "# <font style=\"color:blue\">Project 3: Object Detection</font>\n",
    "\n",
    "\n",
    "#### Maximum Points: 100\n",
    "\n",
    "<div>\n",
    "    <table>\n",
    "        <tr><td><h3>Sr. no.</h3></td> <td><h3>Section</h3></td> <td><h3>Points</h3></td> </tr>\n",
    "        <tr><td><h3>1</h3></td> <td><h3>Plot Ground Truth Bounding Boxes</h3></td> <td><h3>20</h3></td> </tr>\n",
    "        <tr><td><h3>2</h3></td> <td><h3>Training</h3></td> <td><h3>25</h3></td> </tr>\n",
    "        <tr><td><h3>3</h3></td> <td><h3>Inference</h3></td> <td><h3>15</h3></td> </tr>\n",
    "        <tr><td><h3>4</h3></td> <td><h3>COCO Detection Evaluation</h3></td> <td><h3>25</h3></td> </tr>\n",
    "        <tr><td><h3>5</h3></td> <td><h3>Run Inference on a Video</h3></td> <td><h3>15</h3></td> </tr>\n",
    "    </table>\n",
    "</div>\n"
   ]
  },
  {
   "cell_type": "markdown",
   "metadata": {},
   "source": [
    "# <font style=\"color:purple\">Download the Dataset</font> \n",
    "\n",
    "**[Download the Vehicle registration plate](https://www.dropbox.com/s/k81ljpmzy3fgtx9/Dataset.zip?dl=1)**\n",
    "\n",
    "\n",
    "Download the Vehicle Registration Plate dataset from [here](https://www.dropbox.com/s/k81ljpmzy3fgtx9/Dataset.zip?dl=1) and unzip it. \n",
    "\n",
    "We will have the following directory structure:\n",
    "\n",
    "```\n",
    "Dataset\n",
    "├── train\n",
    "│   └── Vehicle registration plate\n",
    "│       └── Label\n",
    "└── validation\n",
    "    └── Vehicle registration plate\n",
    "        └── Label\n",
    "```\n",
    "\n",
    "Unzipping the file will give you a directory `Dataset`. This directory has two folder `train` and `validation`. Each train and validation folder has `Vehicle registration plate`  folder with `.jpg` images and a folder `Labels`.  `Labels` folder has bounding box data for the images.\n",
    "\n",
    "\n",
    "For example,\n",
    "For image: `Dataset/train/Vehicle registration plate/bf4689922cdfd532.jpg`\n",
    "Label file is  `Dataset/train/Vehicle registration plate/Label/bf4689922cdfd532.txt`\n",
    "\n",
    "There are one or more lines in each `.txt` file. Each line represents one bounding box.\n",
    "For example,\n",
    "```\n",
    "Vehicle registration plate 385.28 445.15 618.24 514.225\n",
    "Vehicle registration plate 839.68 266.066462 874.24 289.091462\n",
    "```\n",
    "\n",
    "We have a single class detection (`Vehicle registration plate detection`) problem. So bounding box details start from the fourth column in each row.\n",
    "\n",
    "Representation is in `xmin`, `ymin`, `xmax`, and `ymax` format.\n",
    "\n",
    "**It has `5308` training and `386` validation dataset.**\n",
    "\n",
    "Data is downloaded from [Open Images Dataset](https://storage.googleapis.com/openimages/web/index.html)"
   ]
  },
  {
   "cell_type": "markdown",
   "metadata": {},
   "source": [
    "#  <font style=\"color:green\">1. Plot Ground Truth Bounding Boxes [20 Points]</font> \n",
    "\n",
    "**You have to show three images from validation data with the bounding boxes.**\n",
    "\n",
    "The plotted images should be similar to the following:\n",
    "\n",
    "<img src='https://www.learnopencv.com/wp-content/uploads/2020/04/c3-w10-g1.png'>\n",
    "\n",
    "\n",
    "\n",
    "<img src='https://www.learnopencv.com/wp-content/uploads/2020/04/c3-w10-g2.png'>\n",
    "\n",
    "\n",
    "\n",
    "<img src='https://www.learnopencv.com/wp-content/uploads/2020/04/c3-w10-g3.png'>\n",
    "\n"
   ]
  },
  {
   "cell_type": "code",
   "execution_count": null,
   "metadata": {},
   "outputs": [],
   "source": []
  },
  {
   "cell_type": "code",
   "execution_count": null,
   "metadata": {},
   "outputs": [],
   "source": []
  },
  {
   "cell_type": "code",
   "execution_count": null,
   "metadata": {},
   "outputs": [],
   "source": []
  },
  {
   "cell_type": "markdown",
   "metadata": {},
   "source": [
    "#  <font style=\"color:green\">2. Training [25 Points]</font> \n",
    "\n",
    "- **Write your training code in this section.**\n",
    "\n",
    "- **You also have to share ([shared logs example](https://tensorboard.dev/experiment/JRtnsKbwTaq1ow6nPLPGeg)) the loss plot of your training using tensorboard.dev.** \n",
    "\n",
    "How to share TensorBoard logs using tensorboard.dev find [here](https://courses.opencv.org/courses/course-v1:OpenCV+OpenCV-106+2019_T1/courseware/b1c43ffe765246658e537109e188addb/d62572ec8bd344db9aeae81235ede618/4?activate_block_id=block-v1%3AOpenCV%2BOpenCV-106%2B2019_T1%2Btype%40vertical%2Bblock%40398b46ddcd5c465fa52cb4d572ba3229)."
   ]
  },
  {
   "cell_type": "code",
   "execution_count": null,
   "metadata": {},
   "outputs": [],
   "source": []
  },
  {
   "cell_type": "code",
   "execution_count": null,
   "metadata": {},
   "outputs": [],
   "source": []
  },
  {
   "cell_type": "code",
   "execution_count": null,
   "metadata": {},
   "outputs": [],
   "source": []
  },
  {
   "cell_type": "markdown",
   "metadata": {},
   "source": [
    "#  <font style=\"color:green\">3. Inference [15 Points]</font> \n",
    "\n",
    "**You have to make predictions from your trained model on three images from the validation dataset.**\n",
    "\n",
    "The plotted images should be similar to the following:\n",
    "\n",
    "<img src='https://www.learnopencv.com/wp-content/uploads/2020/04/c3-w10-p1.png'>\n",
    "\n",
    "\n",
    "\n",
    "<img src='https://www.learnopencv.com/wp-content/uploads/2020/04/c3-w10-p2.png'>\n",
    "\n",
    "\n",
    "\n",
    "<img src='https://www.learnopencv.com/wp-content/uploads/2020/04/c3-w10-p3.png'>\n",
    "\n",
    "\n"
   ]
  },
  {
   "cell_type": "code",
   "execution_count": null,
   "metadata": {},
   "outputs": [],
   "source": []
  },
  {
   "cell_type": "code",
   "execution_count": null,
   "metadata": {},
   "outputs": [],
   "source": []
  },
  {
   "cell_type": "code",
   "execution_count": null,
   "metadata": {},
   "outputs": [],
   "source": []
  },
  {
   "cell_type": "markdown",
   "metadata": {},
   "source": [
    "#  <font style=\"color:green\">4. COCO Detection Evaluation [25 Points]</font> \n",
    "\n",
    "**You have to evaluate your detection model on COCO detection evaluation metric.**\n",
    "\n",
    "For your reference here is the coco evaluation metric chart:\n",
    "\n",
    "\n",
    "---\n",
    "\n",
    "<img src=\"https://www.learnopencv.com/wp-content/uploads/2020/03/c3-w9-coco_metric.png\">\n",
    "\n",
    "---\n",
    "\n",
    "#### <font style=\"color:red\">The expected `AP` (primary challenge metric) is more than `0.5`.</font>\n",
    "\n",
    "**The expected output should look similar to the following:**\n",
    "\n",
    "```\n",
    " Average Precision  (AP) @[ IoU=0.50:0.95 | area=   all | maxDets=100 ] = 0.550\n",
    " Average Precision  (AP) @[ IoU=0.50      | area=   all | maxDets=100 ] = 0.886\n",
    " Average Precision  (AP) @[ IoU=0.75      | area=   all | maxDets=100 ] = 0.629\n",
    " Average Precision  (AP) @[ IoU=0.50:0.95 | area= small | maxDets=100 ] = 0.256\n",
    " Average Precision  (AP) @[ IoU=0.50:0.95 | area=medium | maxDets=100 ] = 0.653\n",
    " Average Precision  (AP) @[ IoU=0.50:0.95 | area= large | maxDets=100 ] = 0.627\n",
    " Average Recall     (AR) @[ IoU=0.50:0.95 | area=   all | maxDets=  1 ] = 0.504\n",
    " Average Recall     (AR) @[ IoU=0.50:0.95 | area=   all | maxDets= 10 ] = 0.629\n",
    " Average Recall     (AR) @[ IoU=0.50:0.95 | area=   all | maxDets=100 ] = 0.633\n",
    " Average Recall     (AR) @[ IoU=0.50:0.95 | area= small | maxDets=100 ] = 0.380\n",
    " Average Recall     (AR) @[ IoU=0.50:0.95 | area=medium | maxDets=100 ] = 0.722\n",
    " Average Recall     (AR) @[ IoU=0.50:0.95 | area= large | maxDets=100 ] = 0.704\n",
    "```\n",
    "\n"
   ]
  },
  {
   "cell_type": "code",
   "execution_count": null,
   "metadata": {},
   "outputs": [],
   "source": []
  },
  {
   "cell_type": "code",
   "execution_count": null,
   "metadata": {},
   "outputs": [],
   "source": []
  },
  {
   "cell_type": "code",
   "execution_count": null,
   "metadata": {},
   "outputs": [],
   "source": []
  },
  {
   "cell_type": "markdown",
   "metadata": {},
   "source": [
    "# <font style=\"color:green\">5. Run Inference on a Video [15 Points]</font>\n",
    "\n",
    "#### [Download the Input Video](https://www.dropbox.com/s/g88o4dx18zpgn8k/projet3-input-video.mp4?dl=1)\n",
    "\n",
    "**You have to run inference on a video.** \n",
    "\n",
    "You can download the video from [here](https://www.dropbox.com/s/g88o4dx18zpgn8k/projet3-input-video.mp4?dl=1).\n",
    "\n",
    "#### <font style=\"color:red\">Upload the output video on youtube and share the link. Do not upload the video in the lab.</font>"
   ]
  },
  {
   "cell_type": "code",
   "execution_count": 1,
   "metadata": {},
   "outputs": [
    {
     "data": {
      "image/jpeg": "[encoded data removed]",
      "text/html": [
       "\n",
       "        <iframe\n",
       "            width=\"640\"\n",
       "            height=\"360\"\n",
       "            src=\"https://www.youtube.com/embed/18HWHCevFdU\"\n",
       "            frameborder=\"0\"\n",
       "            allowfullscreen\n",
       "        ></iframe>\n",
       "        "
      ],
      "text/plain": [
       "<IPython.lib.display.YouTubeVideo at 0x7fe91fa43650>"
      ]
     },
     "metadata": {},
     "output_type": "display_data"
    }
   ],
   "source": [
    "from IPython.display import YouTubeVideo, display\n",
    "video = YouTubeVideo(\"18HWHCevFdU\", width=640, height=360)\n",
    "display(video)"
   ]
  },
  {
   "cell_type": "markdown",
   "metadata": {},
   "source": [
    "**Your output video should have a bounding box around the vehicle registration plate.**"
   ]
  },
  {
   "cell_type": "code",
   "execution_count": 2,
   "metadata": {},
   "outputs": [
    {
     "data": {
      "image/jpeg": "[encoded data removed]",
      "text/html": [
       "\n",
       "        <iframe\n",
       "            width=\"640\"\n",
       "            height=\"360\"\n",
       "            src=\"https://www.youtube.com/embed/5SgCuee7AMs\"\n",
       "            frameborder=\"0\"\n",
       "            allowfullscreen\n",
       "        ></iframe>\n",
       "        "
      ],
      "text/plain": [
       "<IPython.lib.display.YouTubeVideo at 0x7fe91c265550>"
      ]
     },
     "metadata": {},
     "output_type": "display_data"
    }
   ],
   "source": [
    "video = YouTubeVideo(\"5SgCuee7AMs\", width=640, height=360)\n",
    "display(video)"
   ]
  },
  {
   "cell_type": "markdown",
   "metadata": {},
   "source": [
    "**You can use the following sample code to read and write a video.**"
   ]
  },
  {
   "cell_type": "code",
   "execution_count": null,
   "metadata": {},
   "outputs": [],
   "source": [
    "def video_read_write(video_path):\n",
    "    \"\"\"\n",
    "    Read video frames one-by-one, flip it, and write in the other video.\n",
    "    video_path (str): path/to/video\n",
    "    \"\"\"\n",
    "    video = cv2.VideoCapture(video_path)\n",
    "    \n",
    "    # Check if camera opened successfully\n",
    "    if not video.isOpened(): \n",
    "        print(\"Error opening video file\")\n",
    "        return\n",
    "    \n",
    "    # create video writer\n",
    "    width = int(video.get(cv2.CAP_PROP_FRAME_WIDTH))\n",
    "    height = int(video.get(cv2.CAP_PROP_FRAME_HEIGHT))\n",
    "    frames_per_second = video.get(cv2.CAP_PROP_FPS)\n",
    "    num_frames = int(video.get(cv2.CAP_PROP_FRAME_COUNT))\n",
    "    \n",
    "    output_fname = '{}_out.mp4'.format(os.path.splitext(video_path)[0])\n",
    "    \n",
    "    output_file = cv2.VideoWriter(\n",
    "        filename=output_fname,\n",
    "        # some installation of opencv may not support x264 (due to its license),\n",
    "        # you can try other format (e.g. MPEG)\n",
    "        fourcc=cv2.VideoWriter_fourcc(*\"x264\"),\n",
    "        fps=float(frames_per_second),\n",
    "        frameSize=(width, height),\n",
    "        isColor=True,\n",
    "    )\n",
    "    \n",
    "        \n",
    "    i = 0\n",
    "    while video.isOpened():\n",
    "        ret, frame = video.read()\n",
    "        if ret:\n",
    "            \n",
    "            output_file.write(frame[:, ::-1, :])\n",
    "#             cv2.imwrite('anpd_out/frame_{}.png'.format(str(i).zfill(3)), frame[:, ::-1, :])\n",
    "            i += 1\n",
    "        else:\n",
    "            break\n",
    "        \n",
    "    video.release()\n",
    "    output_file.release()\n",
    "    \n",
    "    return"
   ]
  },
  {
   "cell_type": "code",
   "execution_count": null,
   "metadata": {},
   "outputs": [],
   "source": []
  },
  {
   "cell_type": "code",
   "execution_count": null,
   "metadata": {},
   "outputs": [],
   "source": []
  },
  {
   "cell_type": "code",
   "execution_count": null,
   "metadata": {},
   "outputs": [],
   "source": []
  }
 ],
 "metadata": {
  "kernelspec": {
   "display_name": "Python 3",
   "language": "python",
   "name": "python3"
  },
  "language_info": {
   "codemirror_mode": {
    "name": "ipython",
    "version": 3
   },
   "file_extension": ".py",
   "mimetype": "text/x-python",
   "name": "python",
   "nbconvert_exporter": "python",
   "pygments_lexer": "ipython3",
   "version": "3.7.4"
  }
 },
 "nbformat": 4,
 "nbformat_minor": 2
}
