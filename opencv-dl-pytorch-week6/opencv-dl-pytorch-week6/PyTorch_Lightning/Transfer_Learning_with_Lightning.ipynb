{
 "cells": [
  {
   "cell_type": "markdown",
   "metadata": {},
   "source": [
    "# <font style=\"color:blue\">Transfer Learning with Lightning</font>\n",
    "\n",
    "In this unit, we will see how to do transfer learning training with PyTorch Lightning. \n",
    "\n",
    "Once the pre-trained model is loaded, training is not different from normal model training. \n",
    "\n",
    "**So, the unit boils down to how to load a pre-trained model with PyTorch Lightning?**\n",
    "\n",
    "\n",
    "\n",
    "Since, **`LightningModule` is a `torch.nn.Module` with added features**. So we can load models from `torchvision.models` as PyTorch Lightning models. \n",
    "\n",
    "**Once the model is loaded, we know how to train it using Lightning.**"
   ]
  },
  {
   "cell_type": "code",
   "execution_count": 1,
   "metadata": {
    "collapsed": true
   },
   "outputs": [],
   "source": [
    "%matplotlib inline"
   ]
  },
  {
   "cell_type": "code",
   "execution_count": 2,
   "metadata": {
    "collapsed": true
   },
   "outputs": [],
   "source": [
    "import matplotlib.pyplot as plt  "
   ]
  },
  {
   "cell_type": "code",
   "execution_count": 3,
   "metadata": {
    "collapsed": true
   },
   "outputs": [],
   "source": [
    "import pytorch_lightning as pl\n",
    "from pytorch_lightning.metrics.functional import accuracy\n",
    "\n",
    "import torch\n",
    "import torch.nn as nn\n",
    "import torch.optim as optim\n",
    "import torch.nn.functional as F\n",
    "from torchvision import datasets, transforms, models"
   ]
  },
  {
   "cell_type": "markdown",
   "metadata": {},
   "source": [
    "## <font style=\"color:green\">Lightning Module</font>\n",
    "\n",
    "**We have chosen the ResNet family for transfer learning/fine-tuning.**\n",
    "\n",
    "- The ResNet family model uses to have five named layers; `layer1`, `layer2`, `layer3`, `layer4`, and `fc`. \n",
    "\n",
    "\n",
    "- It is mandatory to replace (and re-train) the last fully connected layer (`fc`) for fine-tuning. \n",
    "\n",
    "\n",
    "- However, it is a matter of experiment on how many more layers should be fine-tuned to get the best result.  So, we have written a `LightningModule` class that takes `fine_tune_start` as an argument and update `requires_grad` parameters accordingly of the ResNet model."
   ]
  },
  {
   "cell_type": "code",
   "execution_count": 4,
   "metadata": {
    "collapsed": true
   },
   "outputs": [],
   "source": [
    "class TransferLearningWithResNet(pl.LightningModule):\n",
    "    \n",
    "    def __init__(self, resnet_model_name='resnet18', pretrained=True, fine_tune_start=1, num_class=3, \n",
    "                 learning_rate=0.01):\n",
    "        super().__init__()\n",
    "        \n",
    "        self.save_hyperparameters()\n",
    "\n",
    "        resnet = getattr(models, resnet_model_name)(pretrained=pretrained)\n",
    "    \n",
    "        if pretrained:\n",
    "            for param in resnet.parameters():\n",
    "                param.requires_grad = False\n",
    "            \n",
    "        if pretrained and fine_tune_start <= 1:\n",
    "            for param in resnet.layer1.parameters():\n",
    "                param.requires_grad = True\n",
    "            \n",
    "        if pretrained and fine_tune_start <= 2:\n",
    "            for param in resnet.layer2.parameters():\n",
    "                param.requires_grad = True\n",
    "            \n",
    "        if pretrained and fine_tune_start <= 3:\n",
    "            for param in resnet.layer3.parameters():\n",
    "                param.requires_grad = True\n",
    "    \n",
    "        if pretrained and fine_tune_start <= 4:\n",
    "            for param in resnet.layer4.parameters():\n",
    "                param.requires_grad = True    \n",
    "        \n",
    "            \n",
    "        last_layer_in = resnet.fc.in_features\n",
    "        resnet.fc = nn.Linear(last_layer_in, num_class)\n",
    "        \n",
    "        self.resnet = resnet\n",
    "\n",
    "    def forward(self, x):\n",
    "       \n",
    "        return self.resnet(x)\n",
    "    \n",
    "    def training_step(self, batch, batch_idx):\n",
    "        \n",
    "        # get data and labels from batch\n",
    "        data, target = batch\n",
    "\n",
    "        # get prediction\n",
    "        output = self(data)\n",
    "        \n",
    "        # calculate loss\n",
    "        loss = F.cross_entropy(output, target)\n",
    "        \n",
    "        # get probability score using softmax\n",
    "        prob = F.softmax(output, dim=1)\n",
    "        \n",
    "        # get the index of the max probability\n",
    "        pred = prob.data.max(dim=1)[1]\n",
    "        \n",
    "        acc = accuracy(pred=pred, target=target, num_classes=self.hparams.num_class)\n",
    "        \n",
    "        \n",
    "        dic = {\n",
    "            'train_loss': loss,\n",
    "            'train_acc': acc\n",
    "        }\n",
    "        \n",
    "\n",
    "        return {'loss': loss, 'log': dic, 'progress_bar': dic}\n",
    "\n",
    "    def training_epoch_end(self, training_step_outputs):\n",
    "        # training_step_outputs = [{'loss': loss, 'log': dic, 'progress_bar': dic}, ..., \n",
    "        #{'loss': loss, 'log': dic, 'progress_bar': dic}]\n",
    "        avg_train_loss = torch.tensor([x['progress_bar']['train_loss'] for x in training_step_outputs]).mean()\n",
    "        avg_train_acc = torch.tensor([x['progress_bar']['train_acc'] for x in training_step_outputs]).mean()\n",
    "        \n",
    "        \n",
    "        dic = {\n",
    "            'epoch_train_loss': avg_train_loss,\n",
    "            'epoch_train_acc': avg_train_acc\n",
    "        }\n",
    "        return {'log': dic, 'progress_bar': dic}\n",
    "        \n",
    "    \n",
    "    def validation_step(self, batch, batch_idx):\n",
    "        \n",
    "        # get data and labels from batch\n",
    "        data, target = batch\n",
    "        \n",
    "        # get prediction\n",
    "        output = self(data)\n",
    "        \n",
    "        # calculate loss\n",
    "        loss = F.cross_entropy(output, target)\n",
    "        \n",
    "        # get probability score using softmax\n",
    "        prob = F.softmax(output, dim=1)\n",
    "        \n",
    "        # get the index of the max probability\n",
    "        pred = prob.data.max(dim=1)[1]\n",
    "        \n",
    "        acc = accuracy(pred=pred, target=target, num_classes=self.hparams.num_class)\n",
    "        \n",
    "        \n",
    "        dic = {\n",
    "            'v_loss': loss,\n",
    "            'v_acc': acc\n",
    "        }\n",
    "        \n",
    "        \n",
    "        return dic\n",
    "    \n",
    "    \n",
    "    def validation_epoch_end(self, validation_step_outputs):\n",
    "        # validation_step_outputs = [dic, ..., dic]\n",
    "        avg_val_loss = torch.tensor([x['v_loss'] for x in validation_step_outputs]).mean()\n",
    "        avg_val_acc = torch.tensor([x['v_acc'] for x in validation_step_outputs]).mean()\n",
    "        \n",
    "        \n",
    "        dic = {\n",
    "            'avg_val_loss': avg_val_loss,\n",
    "            'avg_val_acc': avg_val_acc\n",
    "        }\n",
    "        return {'val_loss': avg_val_loss, 'log': dic, 'progress_bar': dic}\n",
    "    \n",
    "    def configure_optimizers(self):\n",
    "        return torch.optim.SGD(self.parameters(), lr=self.hparams.learning_rate)"
   ]
  },
  {
   "cell_type": "markdown",
   "metadata": {},
   "source": [
    "## <font style=\"color:green\">Lightning Data Module</font>\n",
    "\n",
    "We will be using a dataset from kaggle. [**Check it out here**](https://www.kaggle.com/ashishsaxena2209/animal-image-datasetdog-cat-and-panda).\n",
    "It consists of `1000` images of each animal with all images of a particular animal in a separate folder. We have split it into `80:20` ratio for the `train: validation` which you can download from [**here**](https://www.dropbox.com/sh/n5nya3g3airlub6/AACi7vaUjdTA0t2j_iKWgp4Ra?dl=1).\n",
    "\n",
    "**Let's create the Lightning data module.**"
   ]
  },
  {
   "cell_type": "code",
   "execution_count": 5,
   "metadata": {
    "collapsed": true,
    "lines_to_next_cell": 2
   },
   "outputs": [],
   "source": [
    "import os\n",
    "\n",
    "class CatDogPandaDataModule(pl.LightningDataModule):\n",
    "\n",
    "    def __init__(self, data_root, batch_size, num_workers):\n",
    "        \n",
    "        super().__init__()\n",
    "        \n",
    "        self.data_root = data_root\n",
    "        self.batch_size = batch_size\n",
    "        self.num_workers = num_workers\n",
    "        \n",
    "        mean = [0.485, 0.456, 0.406] \n",
    "        std = [0.229, 0.224, 0.225]\n",
    "        \n",
    "        preprocess = transforms.Compose([\n",
    "            transforms.Resize(256),\n",
    "            transforms.CenterCrop(224),\n",
    "            transforms.ToTensor()\n",
    "        ])\n",
    "        \n",
    "        self.common_transforms = transforms.Compose([\n",
    "            preprocess, \n",
    "            transforms.Normalize(mean, std)\n",
    "        ])\n",
    "        \n",
    "        self.aug_transforms = transforms.Compose([\n",
    "            transforms.RandomResizedCrop(256),\n",
    "            transforms.ColorJitter(brightness=0.5, contrast=0.5, saturation=0.5, hue=0.3),\n",
    "            transforms.RandomHorizontalFlip(),\n",
    "            transforms.RandomVerticalFlip(),\n",
    "            transforms.RandomRotation(90),\n",
    "            transforms.RandomGrayscale(p=0.1),\n",
    "            self.common_transforms,\n",
    "            transforms.RandomErasing(),\n",
    "            ])\n",
    "        \n",
    "    def prepare_data(self):\n",
    "\n",
    "        pass\n",
    "        \n",
    "    def setup(self, stage=None):\n",
    "        \n",
    "        train_data_path = os.path.join(self.data_root, 'training')\n",
    "        val_data_path = os.path.join(self.data_root, 'validation')\n",
    "        \n",
    "        self.train_dataset = datasets.ImageFolder(root=train_data_path, transform=self.aug_transforms)\n",
    "        \n",
    "        self.val_dataset = datasets.ImageFolder(root=val_data_path, transform=self.common_transforms)\n",
    "\n",
    "\n",
    "    def train_dataloader(self):\n",
    "        # train loader\n",
    "        train_loader = torch.utils.data.DataLoader(\n",
    "            self.train_dataset,\n",
    "            batch_size=self.batch_size, \n",
    "            shuffle=True,\n",
    "            num_workers=self.num_workers\n",
    "        )\n",
    "        return train_loader\n",
    "\n",
    "    def val_dataloader(self):\n",
    "        # validation loader\n",
    "        test_loader = torch.utils.data.DataLoader(\n",
    "            self.val_dataset,\n",
    "            batch_size=self.batch_size, \n",
    "            shuffle=False,\n",
    "            num_workers=self.num_workers\n",
    "        )\n",
    "        return test_loader"
   ]
  },
  {
   "cell_type": "markdown",
   "metadata": {},
   "source": [
    "## <font style=\"color:green\">Hyperparameters</font>"
   ]
  },
  {
   "cell_type": "code",
   "execution_count": 6,
   "metadata": {
    "collapsed": true
   },
   "outputs": [],
   "source": [
    "from argparse import ArgumentParser\n",
    "\n",
    "\n",
    "def configuration_parser(parent_parser):\n",
    "    parser = ArgumentParser(parents=[parent_parser], add_help=False)\n",
    "    parser.add_argument('--batch_size', type=int, default=16)\n",
    "    parser.add_argument('--epochs_count', type=int, default=20)\n",
    "    parser.add_argument('--data_root', type=str, default='../resource/lib/publicdata/images/cat-dog-panda')\n",
    "    parser.add_argument('--num_workers', type=int, default=10)\n",
    "    parser.add_argument('--learning_rate', type=float, default=0.01)\n",
    "    parser.add_argument('--resnet_model_name', type=str, default='resnet18')\n",
    "    parser.add_argument('--pretrained', type=bool, default=True)\n",
    "    parser.add_argument('--fine_tune_start', type=int, default=4)\n",
    "    parser.add_argument('--num_class', type=int, default=3)\n",
    "    return parser\n",
    "\n",
    "\n"
   ]
  },
  {
   "cell_type": "markdown",
   "metadata": {},
   "source": [
    "## <font style=\"color:green\">Training</font>"
   ]
  },
  {
   "cell_type": "code",
   "execution_count": 1,
   "metadata": {
    "collapsed": true,
    "lines_to_end_of_cell_marker": 2,
    "lines_to_next_cell": 2
   },
   "outputs": [],
   "source": [
    "def training_validation():\n",
    "    pl.seed_everything(21)    \n",
    "    parser = ArgumentParser()\n",
    "    parser = pl.Trainer.add_argparse_args(parser)\n",
    "\n",
    "    parser = configuration_parser(parser)\n",
    "\n",
    "    # args = parser.parse_args()\n",
    "    args, unknown = parser.parse_known_args()\n",
    "    # print(args)\n",
    "\n",
    "    # init model\n",
    "    \n",
    "    model = TransferLearningWithResNet(resnet_model_name=args.resnet_model_name, \n",
    "                                       pretrained=args.pretrained, \n",
    "                                       fine_tune_start=args.fine_tune_start, \n",
    "                                       num_class=args.num_class, \n",
    "                                       learning_rate=args.learning_rate)\n",
    "\n",
    "    data_module = CatDogPandaDataModule(data_root=args.data_root,\n",
    "                                        batch_size=args.batch_size, \n",
    "                                        num_workers=args.num_workers)\n",
    "    \n",
    "\n",
    "    # most basic trainer, uses good defaults\n",
    "    trainer = pl.Trainer.from_argparse_args(args,\n",
    "    # fast_dev_run=True,\n",
    "    max_epochs=10, \n",
    "    deterministic=True, \n",
    "    gpus=1, \n",
    "    progress_bar_refresh_rate=1, \n",
    "    early_stop_callback=True)\n",
    "    \n",
    "    trainer.fit(model, data_module)\n",
    "    \n",
    "    return model, data_module"
   ]
  },
  {
   "cell_type": "markdown",
   "metadata": {},
   "source": [
    "### <font style=\"color:green\">Tensorboard Dashboard</font>"
   ]
  },
  {
   "cell_type": "code",
   "execution_count": null,
   "metadata": {
    "collapsed": true
   },
   "outputs": [],
   "source": [
    "# To reload tensorBoard\n",
    "%load_ext tensorboard\n",
    "\n",
    "# logs folder path\n",
    "%tensorboard --logdir=lightning_logs"
   ]
  },
  {
   "cell_type": "code",
   "execution_count": 9,
   "metadata": {
    "scrolled": false
   },
   "outputs": [
    {
     "name": "stderr",
     "output_type": "stream",
     "text": [
      "GPU available: True, used: True\n",
      "TPU available: False, using: 0 TPU cores\n",
      "CUDA_VISIBLE_DEVICES: [0]\n",
      "\n",
      "  | Name   | Type   | Params\n",
      "----------------------------------\n",
      "0 | resnet | ResNet | 11 M  \n"
     ]
    },
    {
     "data": {
      "application/vnd.jupyter.widget-view+json": {
       "model_id": "",
       "version_major": 2,
       "version_minor": 0
      },
      "text/plain": [
       "HBox(children=(FloatProgress(value=1.0, bar_style='info', description='Validation sanity check', layout=Layout…"
      ]
     },
     "metadata": {},
     "output_type": "display_data"
    },
    {
     "data": {
      "application/vnd.jupyter.widget-view+json": {
       "model_id": "aacb5f4af2b147639f6627eeb2b7f8e3",
       "version_major": 2,
       "version_minor": 0
      },
      "text/plain": [
       "HBox(children=(FloatProgress(value=1.0, bar_style='info', description='Training', layout=Layout(flex='2'), max…"
      ]
     },
     "metadata": {},
     "output_type": "display_data"
    },
    {
     "data": {
      "application/vnd.jupyter.widget-view+json": {
       "model_id": "",
       "version_major": 2,
       "version_minor": 0
      },
      "text/plain": [
       "HBox(children=(FloatProgress(value=1.0, bar_style='info', description='Validating', layout=Layout(flex='2'), m…"
      ]
     },
     "metadata": {},
     "output_type": "display_data"
    },
    {
     "name": "stderr",
     "output_type": "stream",
     "text": [
      "/home/prakash/anaconda3/envs/pl/lib/python3.7/site-packages/pytorch_lightning/utilities/distributed.py:23: UserWarning: You have set 3 number of classes if different from predicted (2) and target (1) number of classes\n",
      "  warnings.warn(*args, **kwargs)\n",
      "/home/prakash/anaconda3/envs/pl/lib/python3.7/site-packages/pytorch_lightning/utilities/distributed.py:23: UserWarning: You have set 3 number of classes if different from predicted (1) and target (1) number of classes\n",
      "  warnings.warn(*args, **kwargs)\n",
      "/home/prakash/anaconda3/envs/pl/lib/python3.7/site-packages/pytorch_lightning/utilities/distributed.py:23: UserWarning: You have set 3 number of classes if different from predicted (2) and target (2) number of classes\n",
      "  warnings.warn(*args, **kwargs)\n"
     ]
    },
    {
     "data": {
      "application/vnd.jupyter.widget-view+json": {
       "model_id": "",
       "version_major": 2,
       "version_minor": 0
      },
      "text/plain": [
       "HBox(children=(FloatProgress(value=1.0, bar_style='info', description='Validating', layout=Layout(flex='2'), m…"
      ]
     },
     "metadata": {},
     "output_type": "display_data"
    },
    {
     "data": {
      "application/vnd.jupyter.widget-view+json": {
       "model_id": "",
       "version_major": 2,
       "version_minor": 0
      },
      "text/plain": [
       "HBox(children=(FloatProgress(value=1.0, bar_style='info', description='Validating', layout=Layout(flex='2'), m…"
      ]
     },
     "metadata": {},
     "output_type": "display_data"
    },
    {
     "data": {
      "application/vnd.jupyter.widget-view+json": {
       "model_id": "",
       "version_major": 2,
       "version_minor": 0
      },
      "text/plain": [
       "HBox(children=(FloatProgress(value=1.0, bar_style='info', description='Validating', layout=Layout(flex='2'), m…"
      ]
     },
     "metadata": {},
     "output_type": "display_data"
    },
    {
     "data": {
      "application/vnd.jupyter.widget-view+json": {
       "model_id": "",
       "version_major": 2,
       "version_minor": 0
      },
      "text/plain": [
       "HBox(children=(FloatProgress(value=1.0, bar_style='info', description='Validating', layout=Layout(flex='2'), m…"
      ]
     },
     "metadata": {},
     "output_type": "display_data"
    },
    {
     "data": {
      "application/vnd.jupyter.widget-view+json": {
       "model_id": "",
       "version_major": 2,
       "version_minor": 0
      },
      "text/plain": [
       "HBox(children=(FloatProgress(value=1.0, bar_style='info', description='Validating', layout=Layout(flex='2'), m…"
      ]
     },
     "metadata": {},
     "output_type": "display_data"
    },
    {
     "data": {
      "application/vnd.jupyter.widget-view+json": {
       "model_id": "",
       "version_major": 2,
       "version_minor": 0
      },
      "text/plain": [
       "HBox(children=(FloatProgress(value=1.0, bar_style='info', description='Validating', layout=Layout(flex='2'), m…"
      ]
     },
     "metadata": {},
     "output_type": "display_data"
    },
    {
     "data": {
      "application/vnd.jupyter.widget-view+json": {
       "model_id": "",
       "version_major": 2,
       "version_minor": 0
      },
      "text/plain": [
       "HBox(children=(FloatProgress(value=1.0, bar_style='info', description='Validating', layout=Layout(flex='2'), m…"
      ]
     },
     "metadata": {},
     "output_type": "display_data"
    },
    {
     "data": {
      "application/vnd.jupyter.widget-view+json": {
       "model_id": "",
       "version_major": 2,
       "version_minor": 0
      },
      "text/plain": [
       "HBox(children=(FloatProgress(value=1.0, bar_style='info', description='Validating', layout=Layout(flex='2'), m…"
      ]
     },
     "metadata": {},
     "output_type": "display_data"
    },
    {
     "data": {
      "application/vnd.jupyter.widget-view+json": {
       "model_id": "",
       "version_major": 2,
       "version_minor": 0
      },
      "text/plain": [
       "HBox(children=(FloatProgress(value=1.0, bar_style='info', description='Validating', layout=Layout(flex='2'), m…"
      ]
     },
     "metadata": {},
     "output_type": "display_data"
    },
    {
     "name": "stdout",
     "output_type": "stream",
     "text": [
      "\n"
     ]
    }
   ],
   "source": [
    "model, data_module = training_validation()"
   ]
  },
  {
   "cell_type": "markdown",
   "metadata": {},
   "source": [
    "# <font style=\"color:blue\">References</font>\n",
    "\n",
    "1. https://pytorch-lightning.readthedocs.io/en/latest/transfer_learning.html\n",
    "1. https://pytorch.org/tutorials/beginner/data_loading_tutorial.html\n",
    "1. https://pytorch.org/tutorials/beginner/saving_loading_models.html\n",
    "1. https://colab.research.google.com/drive/1F_RNcHzTfFuQf-LeKvSlud6x7jXYkG31#scrollTo=gEulmrbxwaYL\n",
    "1. https://pytorch-lightning.readthedocs.io\n",
    "1. https://github.com/PyTorchLightning/pytorch-lightning\n",
    "1. https://www.youtube.com/watch?v=QHww1JH7IDU\n",
    "1. https://pytorch-lightning.readthedocs.io/en/latest/\n",
    "1. https://www.youtube.com/channel/UC8m-y0yAFJpX0hRvxH8wJVw/featured"
   ]
  }
 ],
 "metadata": {
  "jupytext": {
   "formats": "ipynb,py:light"
  },
  "kernelspec": {
   "display_name": "Python 3",
   "language": "python",
   "name": "python3"
  },
  "language_info": {
   "codemirror_mode": {
    "name": "ipython",
    "version": 3
   },
   "file_extension": ".py",
   "mimetype": "text/x-python",
   "name": "python",
   "nbconvert_exporter": "python",
   "pygments_lexer": "ipython3",
   "version": "3.7.4"
  }
 },
 "nbformat": 4,
 "nbformat_minor": 2
}
