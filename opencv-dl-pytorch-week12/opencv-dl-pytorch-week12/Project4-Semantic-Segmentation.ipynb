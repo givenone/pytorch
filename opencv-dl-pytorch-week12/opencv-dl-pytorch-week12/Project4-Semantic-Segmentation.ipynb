{
 "cells": [
  {
   "cell_type": "markdown",
   "metadata": {
    "lines_to_next_cell": 0
   },
   "source": [
    "# <font style=\"color:blue\">Project 4: Kaggle Competition - Semantic Segmentation</font>\n",
    "\n",
    "#### Maximum Points: 100\n",
    "\n",
    "<div>\n",
    "    <table>\n",
    "        <tr><td><h3>Sr. no.</h3></td> <td><h3>Section</h3></td> <td><h3>Points</h3></td> </tr>\n",
    "        <tr><td><h3>1</h3></td> <td><h3>1.1. Dataset Class</h3></td> <td><h3>7</h3></td> </tr>\n",
    "        <tr><td><h3>2</h3></td> <td><h3>1.2. Visualize dataset</h3></td> <td><h3>3</h3></td> </tr>\n",
    "        <tr><td><h3>3</h3></td> <td><h3>2. Evaluation Metrics</h3></td> <td><h3>10</h3></td> </tr>\n",
    "        <tr><td><h3>4</h3></td> <td><h3>3. Model</h3></td> <td><h3>10</h3></td> </tr>\n",
    "        <tr><td><h3>5</h3></td> <td><h3>4.1. Train</h3></td> <td><h3>7</h3></td> </tr>\n",
    "        <tr><td><h3>6</h3></td> <td><h3>4.2. Inference</h3></td> <td><h3>3</h3></td> </tr>\n",
    "        <tr><td><h3>7</h3></td> <td><h3>5. Prepare Submission CSV</h3></td><td><h3>10</h3></td> </tr>\n",
    "        <tr><td><h3>8</h3></td> <td><h3>6. Kaggle Profile Link</h3></td> <td><h3>50</h3></td> </tr>\n",
    "    </table>\n",
    "</div>\n",
    "\n",
    "---\n",
    "\n",
    "**In this project, you have participated in the Kaggle competition, and also submit the notebook and othe code in the course lab.**\n",
    "\n",
    "**This Kaggle competition is a semantic segmentation challenge.**\n",
    "\n",
    "<h2>Dataset Description </h2>\n",
    "<p>The dataset consists of 3,269 images in 12 classes (including background). All images were taken from drones in a variety of scales. Samples are shown below:\n",
    "<img src=\"https://github.com/ishann/aeroscapes/blob/master/assets/data_montage.png?raw=true\" width=\"800\" height=\"800\">\n",
    "<p>The data was splitted into public train set and private test set which is used for evaluation of submissions. You can split public subset into train and validation sets yourself.\n",
    "Images are named with a unique <code>ImageId</code>. </p>\n",
    "<p> You should segment and classify the images in the test set.</p>\n",
    "<p>The dataset consists of landscape images taken from drones in a variety of scales.</p>\n",
    "\n",
    "**The notebook is divided into sections. You have to write code, as mention in the section.  For other helper functions, you can write `.py` files and import them in the notebook. You have to submit the notebook along with `.py` files. Your submitted code must be runnable without any bug.**"
   ]
  },
  {
   "cell_type": "markdown",
   "metadata": {
    "lines_to_next_cell": 0
   },
   "source": [
    "# <font style=\"color:green\">1. Data Exploration</font>\n",
    "\n",
    "In this section, you have to write your custom dataset class and visualize a few images (max five images) and its mask."
   ]
  },
  {
   "cell_type": "markdown",
   "metadata": {
    "lines_to_next_cell": 0
   },
   "source": [
    "## <font style=\"color:green\">1.1. Dataset Class [7 Points]</font>\n",
    "\n",
    "**In this sub-section, write your custom dataset class.**\n",
    "\n",
    "\n",
    "**Note that there are not separate validation data, so you will have to create your validation set by dividing train data into train and validation data. Usually, in practice, we do `80:20` ratio for train and validation, respectively.** \n",
    "\n",
    "**for example:**\n",
    "\n",
    "```\n",
    "class SemSegDataset(Dataset):\n",
    "    \"\"\" Generic Dataset class for semantic segmentation datasets.\n",
    "\n",
    "        Arguments:\n",
    "            data_path (string): Path to the dataset folder.\n",
    "            images_folder (string): Name of the folder containing the images (related to the data_path).\n",
    "            masks_folder (string): Name of the folder containing the masks (related to the data_path).\n",
    "            csv_path (string): train or test csv file name\n",
    "            image_ids (list): List of images.\n",
    "            train_val_test (string): 'train', 'val' or 'test'\n",
    "            transforms (callable, optional): A function/transform that inputs a sample\n",
    "                and returns its transformed version.\n",
    "            class_names (list, optional): Names of the classes.\n",
    "            \n",
    "\n",
    "        Dataset folder structure:\n",
    "            Folder containing the dataset should look like:\n",
    "            - data_path\n",
    "            -- images_folder\n",
    "            -- masks_folder\n",
    "\n",
    "            Names of images in the images_folder and masks_folder should be the same for same samples.\n",
    "    \"\"\"\n",
    "```"
   ]
  },
  {
   "cell_type": "code",
   "execution_count": null,
   "metadata": {},
   "outputs": [],
   "source": []
  },
  {
   "cell_type": "code",
   "execution_count": null,
   "metadata": {},
   "outputs": [],
   "source": []
  },
  {
   "cell_type": "code",
   "execution_count": null,
   "metadata": {},
   "outputs": [],
   "source": []
  },
  {
   "cell_type": "markdown",
   "metadata": {
    "lines_to_next_cell": 0
   },
   "source": [
    "## <font style=\"color:green\">1.2. Visualize dataset [3 Points]</font>\n",
    "\n",
    "**In this sub-section,  you have to plot a few images and its mask.**\n",
    "\n",
    "**for example:**\n",
    "\n",
    "---\n",
    "\n",
    "<img src=\"https://www.learnopencv.com/wp-content/uploads/2020/04/c3-w12-data-sample.png\">\n",
    "\n",
    "---"
   ]
  },
  {
   "cell_type": "code",
   "execution_count": null,
   "metadata": {},
   "outputs": [],
   "source": []
  },
  {
   "cell_type": "code",
   "execution_count": null,
   "metadata": {},
   "outputs": [],
   "source": []
  },
  {
   "cell_type": "code",
   "execution_count": null,
   "metadata": {},
   "outputs": [],
   "source": []
  },
  {
   "cell_type": "markdown",
   "metadata": {
    "lines_to_next_cell": 0
   },
   "source": [
    "# <font style=\"color:green\">2. Evaluation Metrics [10 Points]</font>\n",
    "\n",
    "<p>This competition is evaluated on the mean <a href='https://en.wikipedia.org/wiki/Sørensen–Dice_coefficient'>Dice coefficient</a\n",
    ">. The Dice coefficient can be used to compare the pixel-wise agreement between a predicted segmentation and its corresponding ground truth. The formula is given by: </p>\n",
    "\n",
    "<p>$$DSC =  \\frac{2 |X \\cap Y|}{|X|+ |Y|}$$\n",
    "$$ \\small \\mathrm{where}\\ X = Predicted\\ Set\\ of\\ Pixels,\\ \\ Y = Ground\\ Truth $$ </p>\n",
    "<p>The Dice coefficient is defined to be 1 when both X and Y are empty.</p>\n",
    "\n",
    "**In this section, you have to implement the dice coefficient evaluation metric.**"
   ]
  },
  {
   "cell_type": "code",
   "execution_count": null,
   "metadata": {},
   "outputs": [],
   "source": []
  },
  {
   "cell_type": "code",
   "execution_count": null,
   "metadata": {},
   "outputs": [],
   "source": []
  },
  {
   "cell_type": "code",
   "execution_count": null,
   "metadata": {},
   "outputs": [],
   "source": []
  },
  {
   "cell_type": "markdown",
   "metadata": {
    "lines_to_next_cell": 0
   },
   "source": [
    "# <font style=\"color:green\">3. Model [10 Points]</font>\n",
    "\n",
    "**In this section, you have to define your model.**"
   ]
  },
  {
   "cell_type": "code",
   "execution_count": null,
   "metadata": {},
   "outputs": [],
   "source": []
  },
  {
   "cell_type": "code",
   "execution_count": null,
   "metadata": {},
   "outputs": [],
   "source": []
  },
  {
   "cell_type": "code",
   "execution_count": null,
   "metadata": {},
   "outputs": [],
   "source": []
  },
  {
   "cell_type": "markdown",
   "metadata": {
    "lines_to_next_cell": 0
   },
   "source": [
    "# <font style=\"color:green\">4. Train & Inference</font>\n",
    "\n",
    "- **In this section, you have to train the model and infer on sample data.**\n",
    "\n",
    "\n",
    "- **You can write your trainer class in this section.**\n",
    "\n",
    "\n",
    "- **If you are using any loss function other than PyTorch standard loss function, you have to define in this section.**\n",
    "\n",
    "\n",
    "- **This section should also have optimizer and LR-schedular (if using) details.**\n",
    "\n"
   ]
  },
  {
   "cell_type": "markdown",
   "metadata": {},
   "source": [
    "## <font style=\"color:green\">4.1. Train [7 Points]</font>\n",
    "\n",
    "**Write your training code in this sub-section.**\n",
    "\n",
    "\n",
    "**This section must contain training plots (use matplotlib or share tensorboard.dev scalars logs).**\n",
    "\n",
    "**You must have to plot the following:**\n",
    "- **train loss**\n",
    "\n",
    "\n",
    "- **validation loss**\n",
    "\n",
    "\n",
    "- **IoU for all twelve classes (0-11) and the mean IoU of all classes on validatin data.** \n",
    "\n",
    "**an example of matplotlib plot:**\n",
    "\n",
    "---\n",
    "\n",
    "<img src='https://www.learnopencv.com/wp-content/uploads/2020/04/c3-w12-train-loss.png'>\n",
    "\n",
    "---\n",
    "\n",
    "<img src='https://www.learnopencv.com/wp-content/uploads/2020/04/c3-w12-val-loss.png'>\n",
    "\n",
    "---\n",
    "\n",
    "<img src='https://www.learnopencv.com/wp-content/uploads/2020/04/c3-w12-mean_iou.png'>\n",
    "\n",
    "---\n",
    "\n",
    "<img src='https://www.learnopencv.com/wp-content/uploads/2020/04/c3-w12-iou-0.png'>\n",
    "\n",
    "---\n",
    "\n",
    "<center>*</center>\n",
    "<center>*</center>\n",
    "<center>*</center>\n",
    "\n",
    "---\n",
    "\n",
    "<img src='https://www.learnopencv.com/wp-content/uploads/2020/04/c3-w12-iou-11.png'>\n",
    "\n",
    "---\n"
   ]
  },
  {
   "cell_type": "code",
   "execution_count": null,
   "metadata": {},
   "outputs": [],
   "source": []
  },
  {
   "cell_type": "code",
   "execution_count": null,
   "metadata": {},
   "outputs": [],
   "source": []
  },
  {
   "cell_type": "code",
   "execution_count": null,
   "metadata": {},
   "outputs": [],
   "source": []
  },
  {
   "cell_type": "markdown",
   "metadata": {},
   "source": [
    "## <font style=\"color:green\">4.2. Inference [3 Points]</font>\n",
    "\n",
    "**Plot some sample inference in this sub-section.**\n",
    "\n",
    "**for example:**\n",
    "\n",
    "---\n",
    "\n",
    "<img src='https://www.learnopencv.com/wp-content/uploads/2020/04/c3-w12-sample-predtiction.png'>\n",
    "\n",
    "---\n",
    "\n"
   ]
  },
  {
   "cell_type": "code",
   "execution_count": null,
   "metadata": {},
   "outputs": [],
   "source": []
  },
  {
   "cell_type": "code",
   "execution_count": null,
   "metadata": {},
   "outputs": [],
   "source": []
  },
  {
   "cell_type": "code",
   "execution_count": null,
   "metadata": {},
   "outputs": [],
   "source": []
  },
  {
   "cell_type": "markdown",
   "metadata": {},
   "source": [
    "# <font style=\"color:green\">5. Prepare Submission CSV [10 Points]</font>\n",
    "\n",
    "**Write your code to prepare the submission CSV file.**\n",
    "\n",
    "\n",
    "**Note that in the submission file, you have to write Encoded Pixels.**\n",
    "\n",
    "[Here is a blog to understand what is Encoded Pixels.](https://medium.com/analytics-vidhya/generating-masks-from-encoded-pixels-semantic-segmentation-18635e834ad0)"
   ]
  },
  {
   "cell_type": "code",
   "execution_count": null,
   "metadata": {},
   "outputs": [],
   "source": []
  },
  {
   "cell_type": "code",
   "execution_count": null,
   "metadata": {},
   "outputs": [],
   "source": []
  },
  {
   "cell_type": "code",
   "execution_count": null,
   "metadata": {},
   "outputs": [],
   "source": []
  },
  {
   "cell_type": "markdown",
   "metadata": {},
   "source": [
    "# <font style=\"color:green\">6. Kaggle Profile Link [50 Points]</font>\n",
    "\n",
    "Share your Kaggle profile link here with us so that we can give points for the competition score. \n",
    "\n",
    "You should have a minimum IoU of `0.60` on the test data to get all points. If the IoU is less than `0.55`, you will not get any points for the section. \n",
    "\n",
    "**You must have to submit `submission.csv` (prediction for images in `test.csv`) in `Submit Predictions` tab in Kaggle to get any evaluation in this section.**"
   ]
  }
 ],
 "metadata": {
  "jupytext": {
   "cell_metadata_json": true,
   "encoding": "# -*- coding: utf-8 -*-",
   "formats": "ipynb,py:percent"
  },
  "kernelspec": {
   "display_name": "Python 3",
   "language": "python",
   "name": "python3"
  },
  "language_info": {
   "codemirror_mode": {
    "name": "ipython",
    "version": 3
   },
   "file_extension": ".py",
   "mimetype": "text/x-python",
   "name": "python",
   "nbconvert_exporter": "python",
   "pygments_lexer": "ipython3",
   "version": "3.7.4"
  },
  "widgets": {
   "application/vnd.jupyter.widget-state+json": {
    "state": {
     "0083263cdfa843ebb73291cf4ea7ea85": {
      "model_module": "@jupyter-widgets/base",
      "model_module_version": "1.2.0",
      "model_name": "LayoutModel",
      "state": {
       "display": "inline-flex",
       "flex_flow": "row wrap",
       "width": "100%"
      }
     },
     "00931a92df9140b8958caaa416c652c3": {
      "model_module": "@jupyter-widgets/controls",
      "model_module_version": "1.5.0",
      "model_name": "HBoxModel",
      "state": {
       "children": [
        "IPY_MODEL_9c45113009c04c31bd61e90b0c379afd",
        "IPY_MODEL_e0782d544aa04f5dbd1e9d4b8c56e562"
       ],
       "layout": "IPY_MODEL_82d3185c1b4d4684a86d81745d8851e8"
      }
     },
     "00bae4d76339413982d376f0e861fff5": {
      "model_module": "@jupyter-widgets/controls",
      "model_module_version": "1.5.0",
      "model_name": "IntProgressModel",
      "state": {
       "bar_style": "success",
       "description": "[11/30][Train][22] Loss_avg: 0.31827, Loss: 0.30145, LR: 0.001: 100%",
       "layout": "IPY_MODEL_5a25b578c3c146edb51a815f1d6ca02c",
       "max": 23,
       "style": "IPY_MODEL_25d1ca3bec3c4f42b703e259d9ba8847",
       "value": 23
      }
     },
     "010b0000247e49d7bdbb4f9483223187": {
      "model_module": "@jupyter-widgets/controls",
      "model_module_version": "1.5.0",
      "model_name": "IntProgressModel",
      "state": {
       "bar_style": "success",
       "description": "[23/30][Test][14] Loss_avg: 0.39555, Metric_avg: 0.52257: 100%",
       "layout": "IPY_MODEL_953e82162e384182ab64c5a7678bbe78",
       "max": 15,
       "style": "IPY_MODEL_e4bd7ad3868245689c9bbd9814dc753a",
       "value": 15
      }
     },
     "02360f52ac5f42fa985194391d6959c9": {
      "model_module": "@jupyter-widgets/controls",
      "model_module_version": "1.5.0",
      "model_name": "HTMLModel",
      "state": {
       "layout": "IPY_MODEL_376c3a0c01824e16b33a205eaf16d66f",
       "style": "IPY_MODEL_92e14ed8856a438289004713e8073151",
       "value": " 23/23 [00:36&lt;00:00,  1.61s/it]"
      }
     },
     "0258d8f75fb44a2380cd70f4aa672592": {
      "model_module": "@jupyter-widgets/base",
      "model_module_version": "1.2.0",
      "model_name": "LayoutModel",
      "state": {
       "flex": "2"
      }
     },
     "02b4927d217842879402c93e90b672c7": {
      "model_module": "@jupyter-widgets/controls",
      "model_module_version": "1.5.0",
      "model_name": "DescriptionStyleModel",
      "state": {
       "description_width": ""
      }
     },
     "03056ecdc61d4e358a94e956844376cf": {
      "model_module": "@jupyter-widgets/controls",
      "model_module_version": "1.5.0",
      "model_name": "HTMLModel",
      "state": {
       "layout": "IPY_MODEL_8bacb638f3a2455389dc6d67c69a5df2",
       "style": "IPY_MODEL_eafedcf8ff0740b88459576f56543aac",
       "value": " 23/23 [04:27&lt;00:00, 11.61s/it]"
      }
     },
     "03322ba206c743a7b678e6402fe44bbb": {
      "model_module": "@jupyter-widgets/base",
      "model_module_version": "1.2.0",
      "model_name": "LayoutModel",
      "state": {}
     },
     "040b9afc5b984cd7b9568a071858b6d5": {
      "model_module": "@jupyter-widgets/controls",
      "model_module_version": "1.5.0",
      "model_name": "IntProgressModel",
      "state": {
       "bar_style": "success",
       "description": "[5/30][Test][14] Loss_avg: 0.51378, Metric_avg: 0.47036: 100%",
       "layout": "IPY_MODEL_104189ce24284911ab9614797dd3ef41",
       "max": 15,
       "style": "IPY_MODEL_0bb2e3781b97419d89635df67d3232a8",
       "value": 15
      }
     },
     "041a2159844c4f4b844ce584852f4968": {
      "model_module": "@jupyter-widgets/controls",
      "model_module_version": "1.5.0",
      "model_name": "DescriptionStyleModel",
      "state": {
       "description_width": ""
      }
     },
     "0490ad8511744e42917d779bb5b73fd1": {
      "model_module": "@jupyter-widgets/base",
      "model_module_version": "1.2.0",
      "model_name": "LayoutModel",
      "state": {
       "flex": "2"
      }
     },
     "04daad944fc74563b7dcfc83d1d3d2ec": {
      "model_module": "@jupyter-widgets/base",
      "model_module_version": "1.2.0",
      "model_name": "LayoutModel",
      "state": {
       "display": "inline-flex",
       "flex_flow": "row wrap",
       "width": "100%"
      }
     },
     "05193f6994df4347a5aebc8bc8e1a289": {
      "model_module": "@jupyter-widgets/controls",
      "model_module_version": "1.5.0",
      "model_name": "ProgressStyleModel",
      "state": {
       "description_width": "initial"
      }
     },
     "05ca79141a3d4d99801fd8f0b8e2387a": {
      "model_module": "@jupyter-widgets/controls",
      "model_module_version": "1.5.0",
      "model_name": "DescriptionStyleModel",
      "state": {
       "description_width": ""
      }
     },
     "05e243df818e4f45be699f214e3a9b88": {
      "model_module": "@jupyter-widgets/controls",
      "model_module_version": "1.5.0",
      "model_name": "DescriptionStyleModel",
      "state": {
       "description_width": ""
      }
     },
     "05e926f1a57540528562e82ad7e8d996": {
      "model_module": "@jupyter-widgets/controls",
      "model_module_version": "1.5.0",
      "model_name": "IntProgressModel",
      "state": {
       "bar_style": "success",
       "description": "[10/30][Train][22] Loss_avg: 0.32468, Loss: 0.33845, LR: 0.001: 100%",
       "layout": "IPY_MODEL_82fa917c8d244328a11f65ca204471b8",
       "max": 23,
       "style": "IPY_MODEL_13b7a12e6c4f42179531a9175952d284",
       "value": 23
      }
     },
     "0630722799a34ff6bfe2fc924749062d": {
      "model_module": "@jupyter-widgets/controls",
      "model_module_version": "1.5.0",
      "model_name": "HBoxModel",
      "state": {
       "children": [
        "IPY_MODEL_a2bf5201f63641b4a1f90a0a4ec241a9",
        "IPY_MODEL_8f5db8cdb3ed41a193bb70e942772274"
       ],
       "layout": "IPY_MODEL_8bc3e18825c24194a946f491c5f76af0"
      }
     },
     "063fd144102d413d8fa4d3c489f6b294": {
      "model_module": "@jupyter-widgets/base",
      "model_module_version": "1.2.0",
      "model_name": "LayoutModel",
      "state": {
       "display": "inline-flex",
       "flex_flow": "row wrap",
       "width": "100%"
      }
     },
     "065490f8b3e34255a882611b80c61813": {
      "model_module": "@jupyter-widgets/base",
      "model_module_version": "1.2.0",
      "model_name": "LayoutModel",
      "state": {}
     },
     "0657e28d34bf4582a13d1cf888403eab": {
      "model_module": "@jupyter-widgets/controls",
      "model_module_version": "1.5.0",
      "model_name": "HBoxModel",
      "state": {
       "children": [
        "IPY_MODEL_b0721781c3654771b64270102b7cf741",
        "IPY_MODEL_37fc439559be479ab722b775da3ffd98"
       ],
       "layout": "IPY_MODEL_a4144640800f4c23abeb3ef13d291e1a"
      }
     },
     "069ccfbee27e4e7ba4ae1122c810cba9": {
      "model_module": "@jupyter-widgets/base",
      "model_module_version": "1.2.0",
      "model_name": "LayoutModel",
      "state": {
       "display": "inline-flex",
       "flex_flow": "row wrap",
       "width": "100%"
      }
     },
     "07707c946dd5430eb49cb75b6bc2210c": {
      "model_module": "@jupyter-widgets/base",
      "model_module_version": "1.2.0",
      "model_name": "LayoutModel",
      "state": {
       "display": "inline-flex",
       "flex_flow": "row wrap",
       "width": "100%"
      }
     },
     "07c558596ad74210aefe5502afcb3bcb": {
      "model_module": "@jupyter-widgets/base",
      "model_module_version": "1.2.0",
      "model_name": "LayoutModel",
      "state": {}
     },
     "086520cb3d01484d895909122ec9c8db": {
      "model_module": "@jupyter-widgets/base",
      "model_module_version": "1.2.0",
      "model_name": "LayoutModel",
      "state": {}
     },
     "086b8db7874b4d54b01626cbda2a33b3": {
      "model_module": "@jupyter-widgets/base",
      "model_module_version": "1.2.0",
      "model_name": "LayoutModel",
      "state": {}
     },
     "0878a7978c584610ae4b3dac371dce08": {
      "model_module": "@jupyter-widgets/base",
      "model_module_version": "1.2.0",
      "model_name": "LayoutModel",
      "state": {
       "display": "inline-flex",
       "flex_flow": "row wrap",
       "width": "100%"
      }
     },
     "094e22d7027a469b9a04f73d1f23a6d3": {
      "model_module": "@jupyter-widgets/base",
      "model_module_version": "1.2.0",
      "model_name": "LayoutModel",
      "state": {
       "flex": "2"
      }
     },
     "09e07697ba7b477299286d169845b393": {
      "model_module": "@jupyter-widgets/controls",
      "model_module_version": "1.5.0",
      "model_name": "IntProgressModel",
      "state": {
       "bar_style": "success",
       "description": "[8/30][Test][14] Loss_avg: 0.383, Metric_avg: 0.50801: 100%",
       "layout": "IPY_MODEL_186277eb136a41a582a7f47fc9400e3e",
       "max": 15,
       "style": "IPY_MODEL_512fbf467706401589a56dc390c9b9a8",
       "value": 15
      }
     },
     "09eed88a86a243dd825aa43065a7ec91": {
      "model_module": "@jupyter-widgets/controls",
      "model_module_version": "1.5.0",
      "model_name": "ProgressStyleModel",
      "state": {
       "description_width": "initial"
      }
     },
     "0a19d67480df4e159e5cf3422a889711": {
      "model_module": "@jupyter-widgets/base",
      "model_module_version": "1.2.0",
      "model_name": "LayoutModel",
      "state": {}
     },
     "0a78c460259d450aa229629f58583bd5": {
      "model_module": "@jupyter-widgets/controls",
      "model_module_version": "1.5.0",
      "model_name": "DescriptionStyleModel",
      "state": {
       "description_width": ""
      }
     },
     "0b9dbfe0bd3b4722956084e5d062ae25": {
      "model_module": "@jupyter-widgets/base",
      "model_module_version": "1.2.0",
      "model_name": "LayoutModel",
      "state": {
       "flex": "2"
      }
     },
     "0bb2e3781b97419d89635df67d3232a8": {
      "model_module": "@jupyter-widgets/controls",
      "model_module_version": "1.5.0",
      "model_name": "ProgressStyleModel",
      "state": {
       "description_width": "initial"
      }
     },
     "0bc4a37e7bb5449f8571f8f4a6a79985": {
      "model_module": "@jupyter-widgets/base",
      "model_module_version": "1.2.0",
      "model_name": "LayoutModel",
      "state": {
       "display": "inline-flex",
       "flex_flow": "row wrap",
       "width": "100%"
      }
     },
     "0bf9a95bff56496f8f4e0d0ebceec284": {
      "model_module": "@jupyter-widgets/controls",
      "model_module_version": "1.5.0",
      "model_name": "HTMLModel",
      "state": {
       "layout": "IPY_MODEL_e5948d1454da476fb7fdfc9d99086e04",
       "style": "IPY_MODEL_d9f942ffd1a24a22ad883fb9e2003465",
       "value": " 15/15 [00:03&lt;00:00,  3.82it/s]"
      }
     },
     "0c048c18170648e39c8b30b155b3544b": {
      "model_module": "@jupyter-widgets/base",
      "model_module_version": "1.2.0",
      "model_name": "LayoutModel",
      "state": {
       "display": "inline-flex",
       "flex_flow": "row wrap",
       "width": "100%"
      }
     },
     "0ccbdbaca1864c84b48012039a20d347": {
      "model_module": "@jupyter-widgets/controls",
      "model_module_version": "1.5.0",
      "model_name": "DescriptionStyleModel",
      "state": {
       "description_width": ""
      }
     },
     "0d59c99b16a14e2ebbd4b384d4712675": {
      "model_module": "@jupyter-widgets/controls",
      "model_module_version": "1.5.0",
      "model_name": "ProgressStyleModel",
      "state": {
       "description_width": "initial"
      }
     },
     "0d7d0160cc9c455faa7499726c466cf9": {
      "model_module": "@jupyter-widgets/controls",
      "model_module_version": "1.5.0",
      "model_name": "DescriptionStyleModel",
      "state": {
       "description_width": ""
      }
     },
     "0dcb8bb5b4ac460fa7efb93839962c99": {
      "model_module": "@jupyter-widgets/base",
      "model_module_version": "1.2.0",
      "model_name": "LayoutModel",
      "state": {
       "flex": "2"
      }
     },
     "0e4fd01fc7c54ba88eacb398114134e7": {
      "model_module": "@jupyter-widgets/base",
      "model_module_version": "1.2.0",
      "model_name": "LayoutModel",
      "state": {
       "flex": "2"
      }
     },
     "0e54d891d6504fadb1af5e9e2f85939a": {
      "model_module": "@jupyter-widgets/controls",
      "model_module_version": "1.5.0",
      "model_name": "DescriptionStyleModel",
      "state": {
       "description_width": ""
      }
     },
     "0e5882be5a8340b3859f160379d48d17": {
      "model_module": "@jupyter-widgets/controls",
      "model_module_version": "1.5.0",
      "model_name": "IntProgressModel",
      "state": {
       "bar_style": "success",
       "description": "[16/30][Train][22] Loss_avg: 0.21182, Loss: 0.16969, LR: 0.001: 100%",
       "layout": "IPY_MODEL_32c09128e26b4bc29f854827ec19674d",
       "max": 23,
       "style": "IPY_MODEL_fecc458823c544d8a70b5a1102588755",
       "value": 23
      }
     },
     "0efd4db420be447690b40ebeb116072e": {
      "model_module": "@jupyter-widgets/controls",
      "model_module_version": "1.5.0",
      "model_name": "ProgressStyleModel",
      "state": {
       "description_width": "initial"
      }
     },
     "0f3540d192a54b2bbdb31c8318c97641": {
      "model_module": "@jupyter-widgets/base",
      "model_module_version": "1.2.0",
      "model_name": "LayoutModel",
      "state": {}
     },
     "0f385e395d8f490d917d7f1cce52f6e7": {
      "model_module": "@jupyter-widgets/controls",
      "model_module_version": "1.5.0",
      "model_name": "DescriptionStyleModel",
      "state": {
       "description_width": ""
      }
     },
     "0f721465bbe242aab07bb55ca9cbf6cb": {
      "model_module": "@jupyter-widgets/controls",
      "model_module_version": "1.5.0",
      "model_name": "DescriptionStyleModel",
      "state": {
       "description_width": ""
      }
     },
     "0f92c2b45aba49e98591cf34f3468963": {
      "model_module": "@jupyter-widgets/base",
      "model_module_version": "1.2.0",
      "model_name": "LayoutModel",
      "state": {
       "flex": "2"
      }
     },
     "0f92d709a01a4744a31276df77e9672a": {
      "model_module": "@jupyter-widgets/controls",
      "model_module_version": "1.5.0",
      "model_name": "HBoxModel",
      "state": {
       "children": [
        "IPY_MODEL_9438d268be4543069afbfc664d086b17",
        "IPY_MODEL_dcebe9e492994bf1bd2c4c205e6114f3"
       ],
       "layout": "IPY_MODEL_4b5965aceb454e4ba935ad18f57f1a36"
      }
     },
     "0fc98f139d93499eaa8973d2b6cb49d5": {
      "model_module": "@jupyter-widgets/controls",
      "model_module_version": "1.5.0",
      "model_name": "HBoxModel",
      "state": {
       "children": [
        "IPY_MODEL_a90c2f7f378b4869ba451b87fc1c92b8",
        "IPY_MODEL_e68078d7c1944026ba8008e03685cc7b"
       ],
       "layout": "IPY_MODEL_5baf3778e10044b09fdca5cb4b7d5f3a"
      }
     },
     "100283f89bb2480bbb99a50d2e1b05b1": {
      "model_module": "@jupyter-widgets/base",
      "model_module_version": "1.2.0",
      "model_name": "LayoutModel",
      "state": {
       "flex": "2"
      }
     },
     "100523bcff624dad97f59ea46ed305ce": {
      "model_module": "@jupyter-widgets/controls",
      "model_module_version": "1.5.0",
      "model_name": "IntProgressModel",
      "state": {
       "bar_style": "success",
       "description": "[27/30][Test][14] Loss_avg: 0.32099, Metric_avg: 0.59697: 100%",
       "layout": "IPY_MODEL_0dcb8bb5b4ac460fa7efb93839962c99",
       "max": 15,
       "style": "IPY_MODEL_4cccd04ed68244bfae24d0972957cd19",
       "value": 15
      }
     },
     "104189ce24284911ab9614797dd3ef41": {
      "model_module": "@jupyter-widgets/base",
      "model_module_version": "1.2.0",
      "model_name": "LayoutModel",
      "state": {
       "flex": "2"
      }
     },
     "107115cf59f8441ea0725970b2176000": {
      "model_module": "@jupyter-widgets/controls",
      "model_module_version": "1.5.0",
      "model_name": "HTMLModel",
      "state": {
       "layout": "IPY_MODEL_ff1c28ec4d34442497b5f3a2f5e45c52",
       "style": "IPY_MODEL_6675921fefd24ede8c3f4cc55d16c79a",
       "value": " 23/23 [00:05&lt;00:00,  4.56it/s]"
      }
     },
     "10c064f1ee1e4256a3ab70d85f1b354b": {
      "model_module": "@jupyter-widgets/controls",
      "model_module_version": "1.5.0",
      "model_name": "IntProgressModel",
      "state": {
       "bar_style": "success",
       "description": "[18/30][Train][22] Loss_avg: 0.21414, Loss: 0.17504, LR: 0.001: 100%",
       "layout": "IPY_MODEL_79f884c1ef9a4a2a8ed0814056b1027b",
       "max": 23,
       "style": "IPY_MODEL_0efd4db420be447690b40ebeb116072e",
       "value": 23
      }
     },
     "10d849b669dc464a93f092afc8add3c1": {
      "model_module": "@jupyter-widgets/base",
      "model_module_version": "1.2.0",
      "model_name": "LayoutModel",
      "state": {
       "display": "inline-flex",
       "flex_flow": "row wrap",
       "width": "100%"
      }
     },
     "11b5138d21d346e79d69f9091e56738b": {
      "model_module": "@jupyter-widgets/controls",
      "model_module_version": "1.5.0",
      "model_name": "HBoxModel",
      "state": {
       "children": [
        "IPY_MODEL_c5e4c041761c4f34b380623688a95974",
        "IPY_MODEL_cc99ea51e887423a8f637f1a84bdf8e7"
       ],
       "layout": "IPY_MODEL_fa652af136974a06a7ce2203f9b2e437"
      }
     },
     "12f09db4a3504e62acd2b02a7a9509b1": {
      "model_module": "@jupyter-widgets/controls",
      "model_module_version": "1.5.0",
      "model_name": "HBoxModel",
      "state": {
       "children": [
        "IPY_MODEL_a7c71a6cf93b431d893e066914117b11",
        "IPY_MODEL_81b06b0a78934a88b346ecb850c8c9ae"
       ],
       "layout": "IPY_MODEL_5175907ef89a486ba2c2b18b7fb843f2"
      }
     },
     "132b469b8314422d9619c9c8668507da": {
      "model_module": "@jupyter-widgets/controls",
      "model_module_version": "1.5.0",
      "model_name": "ProgressStyleModel",
      "state": {
       "description_width": "initial"
      }
     },
     "1331c3053513431aaba9f13036e6917f": {
      "model_module": "@jupyter-widgets/base",
      "model_module_version": "1.2.0",
      "model_name": "LayoutModel",
      "state": {}
     },
     "1348f1be4bab4f9592a6934fd6eb2b58": {
      "model_module": "@jupyter-widgets/controls",
      "model_module_version": "1.5.0",
      "model_name": "DescriptionStyleModel",
      "state": {
       "description_width": ""
      }
     },
     "13805a8b1e6f4cb4884dbd1016a8947c": {
      "model_module": "@jupyter-widgets/controls",
      "model_module_version": "1.5.0",
      "model_name": "HTMLModel",
      "state": {
       "layout": "IPY_MODEL_b68438b17b6740e7b7a952645d9a2687",
       "style": "IPY_MODEL_e9761a1724d74be9bf8c1c952d8b7228",
       "value": " 23/23 [00:09&lt;00:00,  2.55it/s]"
      }
     },
     "13b7a12e6c4f42179531a9175952d284": {
      "model_module": "@jupyter-widgets/controls",
      "model_module_version": "1.5.0",
      "model_name": "ProgressStyleModel",
      "state": {
       "description_width": "initial"
      }
     },
     "13f61ad1d2df422799396f39b9be864d": {
      "model_module": "@jupyter-widgets/controls",
      "model_module_version": "1.5.0",
      "model_name": "HTMLModel",
      "state": {
       "layout": "IPY_MODEL_03322ba206c743a7b678e6402fe44bbb",
       "style": "IPY_MODEL_a08cd78d5b41462b8eb9e87877865359",
       "value": " 15/15 [03:33&lt;00:00, 14.26s/it]"
      }
     },
     "150c5b2017cd41159df3744cf5a6f227": {
      "model_module": "@jupyter-widgets/controls",
      "model_module_version": "1.5.0",
      "model_name": "DescriptionStyleModel",
      "state": {
       "description_width": ""
      }
     },
     "152cf195f71e483789481a9bd96385d0": {
      "model_module": "@jupyter-widgets/controls",
      "model_module_version": "1.5.0",
      "model_name": "IntProgressModel",
      "state": {
       "bar_style": "success",
       "description": "[0/30][Test][14] Loss_avg: 0.71973, Metric_avg: 0.332: 100%",
       "layout": "IPY_MODEL_61693d7d831b49e78fe1587408e0b898",
       "max": 15,
       "style": "IPY_MODEL_d0e159e4af564012ab312f37059a36e1",
       "value": 15
      }
     },
     "15b65f9cf5994656a51053c465e7a657": {
      "model_module": "@jupyter-widgets/controls",
      "model_module_version": "1.5.0",
      "model_name": "HTMLModel",
      "state": {
       "layout": "IPY_MODEL_e0559061aaf24860863cbe20eb4da57a",
       "style": "IPY_MODEL_464909bbbe294f76bfec72877005373f",
       "value": " 15/15 [00:03&lt;00:00,  3.87it/s]"
      }
     },
     "160ec5ad99f141adaf04ae141a1b4bf6": {
      "model_module": "@jupyter-widgets/base",
      "model_module_version": "1.2.0",
      "model_name": "LayoutModel",
      "state": {
       "flex": "2"
      }
     },
     "1651130b8ac0402d88b436b29d43932f": {
      "model_module": "@jupyter-widgets/controls",
      "model_module_version": "1.5.0",
      "model_name": "HBoxModel",
      "state": {
       "children": [
        "IPY_MODEL_c23b06c0178445a288a78cd41521eb85",
        "IPY_MODEL_770f480ccb784964aee55358f7853161"
       ],
       "layout": "IPY_MODEL_1de768f46ab34471bf4e5e653024773c"
      }
     },
     "1673de1fb79347019ed8c33ba230d204": {
      "model_module": "@jupyter-widgets/controls",
      "model_module_version": "1.5.0",
      "model_name": "IntProgressModel",
      "state": {
       "bar_style": "success",
       "description": "[5/30][Train][22] Loss_avg: 0.33451, Loss: 0.45285, LR: 0.001: 100%",
       "layout": "IPY_MODEL_8f1dffa76c7c4411a2b454c32d226892",
       "max": 23,
       "style": "IPY_MODEL_d8186061629944e280e1c173d06de192",
       "value": 23
      }
     },
     "16e52a802a3449d88c2fa2215ffe5353": {
      "model_module": "@jupyter-widgets/controls",
      "model_module_version": "1.5.0",
      "model_name": "ProgressStyleModel",
      "state": {
       "description_width": "initial"
      }
     },
     "16fb67681eaf44258b25dddf522e314f": {
      "model_module": "@jupyter-widgets/controls",
      "model_module_version": "1.5.0",
      "model_name": "ProgressStyleModel",
      "state": {
       "description_width": "initial"
      }
     },
     "172c28053fae44c092a6ed2090d4392b": {
      "model_module": "@jupyter-widgets/base",
      "model_module_version": "1.2.0",
      "model_name": "LayoutModel",
      "state": {
       "display": "inline-flex",
       "flex_flow": "row wrap",
       "width": "100%"
      }
     },
     "175bedc2d3fe416ba26327edf307634d": {
      "model_module": "@jupyter-widgets/base",
      "model_module_version": "1.2.0",
      "model_name": "LayoutModel",
      "state": {
       "flex": "2"
      }
     },
     "17ce661398944ac2aea511490c150b88": {
      "model_module": "@jupyter-widgets/controls",
      "model_module_version": "1.5.0",
      "model_name": "IntProgressModel",
      "state": {
       "bar_style": "success",
       "description": "[22/30][Train][22] Loss_avg: 0.19084, Loss: 0.1811, LR: 0.001: 100%",
       "layout": "IPY_MODEL_2b33117154b74daa981b3d799fe0a846",
       "max": 23,
       "style": "IPY_MODEL_5ce6a17734be410dae0d7c509144ff68",
       "value": 23
      }
     },
     "186277eb136a41a582a7f47fc9400e3e": {
      "model_module": "@jupyter-widgets/base",
      "model_module_version": "1.2.0",
      "model_name": "LayoutModel",
      "state": {
       "flex": "2"
      }
     },
     "18912427026d47f2b7ac17f70fe81c1b": {
      "model_module": "@jupyter-widgets/controls",
      "model_module_version": "1.5.0",
      "model_name": "HBoxModel",
      "state": {
       "children": [
        "IPY_MODEL_1673de1fb79347019ed8c33ba230d204",
        "IPY_MODEL_c7bf8c14cd9c40129e4dbdb93759ddb8"
       ],
       "layout": "IPY_MODEL_83e84ad9c2db4240b5b6eeadf092fb84"
      }
     },
     "18eeb866b0b046fd95e41fdcbdb4cb7e": {
      "model_module": "@jupyter-widgets/base",
      "model_module_version": "1.2.0",
      "model_name": "LayoutModel",
      "state": {}
     },
     "1a099e0a31774cce864316862654a83d": {
      "model_module": "@jupyter-widgets/controls",
      "model_module_version": "1.5.0",
      "model_name": "HBoxModel",
      "state": {
       "children": [
        "IPY_MODEL_4f5a7718e7614743ad38bd08dcdd507e",
        "IPY_MODEL_a1f574f8129d4375b9eb4d31adb79be5"
       ],
       "layout": "IPY_MODEL_e21d441b0a174e909d84d6d9beda04f1"
      }
     },
     "1a0eff61bef943f8bd902ec40f632982": {
      "model_module": "@jupyter-widgets/base",
      "model_module_version": "1.2.0",
      "model_name": "LayoutModel",
      "state": {
       "display": "inline-flex",
       "flex_flow": "row wrap",
       "width": "100%"
      }
     },
     "1a4c045dff2b4f7d841b5086149c21a7": {
      "model_module": "@jupyter-widgets/controls",
      "model_module_version": "1.5.0",
      "model_name": "IntProgressModel",
      "state": {
       "bar_style": "success",
       "description": "[2/30][Train][22] Loss_avg: 0.45457, Loss: 0.42143, LR: 0.001: 100%",
       "layout": "IPY_MODEL_cd8694e857514d2fba78b5bdc231535d",
       "max": 23,
       "style": "IPY_MODEL_2124b0989d49443e9fe7f0b5b18fb73f",
       "value": 23
      }
     },
     "1abfea4f66e74730b1b6f322b6a93333": {
      "model_module": "@jupyter-widgets/controls",
      "model_module_version": "1.5.0",
      "model_name": "DescriptionStyleModel",
      "state": {
       "description_width": ""
      }
     },
     "1b1625b356144c8dbf67ad30deda73b8": {
      "model_module": "@jupyter-widgets/controls",
      "model_module_version": "1.5.0",
      "model_name": "HTMLModel",
      "state": {
       "layout": "IPY_MODEL_065490f8b3e34255a882611b80c61813",
       "style": "IPY_MODEL_8e1f3d42d73a4852b3be6498ae47a189",
       "value": " 15/15 [00:45&lt;00:00,  3.07s/it]"
      }
     },
     "1b66ad05ed32443785785653f26047c1": {
      "model_module": "@jupyter-widgets/controls",
      "model_module_version": "1.5.0",
      "model_name": "HTMLModel",
      "state": {
       "layout": "IPY_MODEL_78d1055abbf54fb4abd7ca3e48aad937",
       "style": "IPY_MODEL_2fccf0df631b4974b976b7e82159b0de",
       "value": " 23/23 [03:39&lt;00:00,  9.56s/it]"
      }
     },
     "1c75a5c05a4b4eb9adff48b6b95936a3": {
      "model_module": "@jupyter-widgets/controls",
      "model_module_version": "1.5.0",
      "model_name": "DescriptionStyleModel",
      "state": {
       "description_width": ""
      }
     },
     "1c897793be7941848bed3afd419e04e5": {
      "model_module": "@jupyter-widgets/controls",
      "model_module_version": "1.5.0",
      "model_name": "IntProgressModel",
      "state": {
       "bar_style": "success",
       "description": "[19/30][Test][14] Loss_avg: 0.31695, Metric_avg: 0.59837: 100%",
       "layout": "IPY_MODEL_3ab2d5de4a0c4cfe884e93ca3b3a2160",
       "max": 15,
       "style": "IPY_MODEL_75b98cde7f17434297405303ec132d05",
       "value": 15
      }
     },
     "1cc80c800e104a8eb08f3e4f8591934f": {
      "model_module": "@jupyter-widgets/controls",
      "model_module_version": "1.5.0",
      "model_name": "ProgressStyleModel",
      "state": {
       "description_width": "initial"
      }
     },
     "1cd8b8c06f5e4e0e929fdbb0ac6ea355": {
      "model_module": "@jupyter-widgets/controls",
      "model_module_version": "1.5.0",
      "model_name": "ProgressStyleModel",
      "state": {
       "description_width": "initial"
      }
     },
     "1ce3892e975547cfaa93153af2ee5430": {
      "model_module": "@jupyter-widgets/controls",
      "model_module_version": "1.5.0",
      "model_name": "HTMLModel",
      "state": {
       "layout": "IPY_MODEL_e4ea8106899c4ef3a7090f415d745e4c",
       "style": "IPY_MODEL_e43a896a68d94543ac16c0e1f0766840",
       "value": " 23/23 [00:08&lt;00:00,  2.58it/s]"
      }
     },
     "1d32fdacea8b403cb45d9e03f53c24c1": {
      "model_module": "@jupyter-widgets/controls",
      "model_module_version": "1.5.0",
      "model_name": "HBoxModel",
      "state": {
       "children": [
        "IPY_MODEL_534de271fefa41c4b4861295e904d5ed",
        "IPY_MODEL_44691375dc884567a82974f88befaffd"
       ],
       "layout": "IPY_MODEL_d9f9705efb734f62b9647dbeb2ad4c1f"
      }
     },
     "1d5d9455c5844c00b4e47dd85eb61880": {
      "model_module": "@jupyter-widgets/controls",
      "model_module_version": "1.5.0",
      "model_name": "IntProgressModel",
      "state": {
       "bar_style": "success",
       "description": "[7/30][Train][22] Loss_avg: 0.26587, Loss: 0.22135, LR: 0.001: 100%",
       "layout": "IPY_MODEL_3eccef66b55d426f8614fd21bd287a8b",
       "max": 23,
       "style": "IPY_MODEL_9122417b632848deaba664561f06cd0e",
       "value": 23
      }
     },
     "1d7b3235b6e246c18a581787490f4e8b": {
      "model_module": "@jupyter-widgets/controls",
      "model_module_version": "1.5.0",
      "model_name": "ProgressStyleModel",
      "state": {
       "description_width": "initial"
      }
     },
     "1da2c13a15514a32a44643a209370073": {
      "model_module": "@jupyter-widgets/base",
      "model_module_version": "1.2.0",
      "model_name": "LayoutModel",
      "state": {
       "display": "inline-flex",
       "flex_flow": "row wrap",
       "width": "100%"
      }
     },
     "1da58e3503a143a9a08d7ce936913772": {
      "model_module": "@jupyter-widgets/base",
      "model_module_version": "1.2.0",
      "model_name": "LayoutModel",
      "state": {
       "flex": "2"
      }
     },
     "1de768f46ab34471bf4e5e653024773c": {
      "model_module": "@jupyter-widgets/base",
      "model_module_version": "1.2.0",
      "model_name": "LayoutModel",
      "state": {
       "display": "inline-flex",
       "flex_flow": "row wrap",
       "width": "100%"
      }
     },
     "1dfe526fc9144cd7b8e4c21b415b56e5": {
      "model_module": "@jupyter-widgets/controls",
      "model_module_version": "1.5.0",
      "model_name": "HBoxModel",
      "state": {
       "children": [
        "IPY_MODEL_7d73de28270d482b8d534a03d4089a45",
        "IPY_MODEL_6c59380af00747079af12e8849ba3327"
       ],
       "layout": "IPY_MODEL_0bc4a37e7bb5449f8571f8f4a6a79985"
      }
     },
     "1e2654f4a13442d5810c2c00627f0173": {
      "model_module": "@jupyter-widgets/base",
      "model_module_version": "1.2.0",
      "model_name": "LayoutModel",
      "state": {}
     },
     "1e57746d5c7842639c32284dad4af523": {
      "model_module": "@jupyter-widgets/base",
      "model_module_version": "1.2.0",
      "model_name": "LayoutModel",
      "state": {
       "display": "inline-flex",
       "flex_flow": "row wrap",
       "width": "100%"
      }
     },
     "1e79d89b173248fa8d75f689927062ce": {
      "model_module": "@jupyter-widgets/base",
      "model_module_version": "1.2.0",
      "model_name": "LayoutModel",
      "state": {
       "display": "inline-flex",
       "flex_flow": "row wrap",
       "width": "100%"
      }
     },
     "1e7d6fa094f449b487d53e64b79b0f05": {
      "model_module": "@jupyter-widgets/controls",
      "model_module_version": "1.5.0",
      "model_name": "DescriptionStyleModel",
      "state": {
       "description_width": ""
      }
     },
     "1e84a856decb4a059fb029693597f4b3": {
      "model_module": "@jupyter-widgets/base",
      "model_module_version": "1.2.0",
      "model_name": "LayoutModel",
      "state": {}
     },
     "1e9f4ba312cd492b9eb29986296db17d": {
      "model_module": "@jupyter-widgets/controls",
      "model_module_version": "1.5.0",
      "model_name": "HBoxModel",
      "state": {
       "children": [
        "IPY_MODEL_43f4986095124d8ab8c361a13d5c0bc3",
        "IPY_MODEL_13f61ad1d2df422799396f39b9be864d"
       ],
       "layout": "IPY_MODEL_10d849b669dc464a93f092afc8add3c1"
      }
     },
     "1ebdb7d8995646dc9194246a1c1c47ba": {
      "model_module": "@jupyter-widgets/base",
      "model_module_version": "1.2.0",
      "model_name": "LayoutModel",
      "state": {}
     },
     "1f34cddfbd9d4f2d88a65690ac0b3972": {
      "model_module": "@jupyter-widgets/controls",
      "model_module_version": "1.5.0",
      "model_name": "ProgressStyleModel",
      "state": {
       "description_width": "initial"
      }
     },
     "1f6efbf3c27441438fade5cfdf4c6fc2": {
      "model_module": "@jupyter-widgets/controls",
      "model_module_version": "1.5.0",
      "model_name": "HBoxModel",
      "state": {
       "children": [
        "IPY_MODEL_3226d7e4ff674b34a02a398d1021e9af",
        "IPY_MODEL_26887cc4ed0149fa8fcf9f04db0251a4"
       ],
       "layout": "IPY_MODEL_5139b29ff6844cc59ffcbbd9c66cb386"
      }
     },
     "1fe53066b9834741a2040b6494ba4d55": {
      "model_module": "@jupyter-widgets/controls",
      "model_module_version": "1.5.0",
      "model_name": "HBoxModel",
      "state": {
       "children": [
        "IPY_MODEL_17ce661398944ac2aea511490c150b88",
        "IPY_MODEL_8150697ef6c84c99b78ff8fa46a93ccf"
       ],
       "layout": "IPY_MODEL_64c9e297f9dc49aa91bd2c46b4f2f24e"
      }
     },
     "20108ac2bbd8496db9f1374381286a84": {
      "model_module": "@jupyter-widgets/base",
      "model_module_version": "1.2.0",
      "model_name": "LayoutModel",
      "state": {
       "display": "inline-flex",
       "flex_flow": "row wrap",
       "width": "100%"
      }
     },
     "207c75d680e6436fbb6b9fe7fa2c09a0": {
      "model_module": "@jupyter-widgets/base",
      "model_module_version": "1.2.0",
      "model_name": "LayoutModel",
      "state": {
       "display": "inline-flex",
       "flex_flow": "row wrap",
       "width": "100%"
      }
     },
     "20aae0f4a8134a9a800a5b8da864d942": {
      "model_module": "@jupyter-widgets/controls",
      "model_module_version": "1.5.0",
      "model_name": "HTMLModel",
      "state": {
       "layout": "IPY_MODEL_beff4805fbe4463688bd587f0c92aded",
       "style": "IPY_MODEL_5fff3ebe33964c5db85158e08ff9f411",
       "value": " 23/23 [00:05&lt;00:00,  4.19it/s]"
      }
     },
     "20d34317f65440e9a8b7c150db48a901": {
      "model_module": "@jupyter-widgets/base",
      "model_module_version": "1.2.0",
      "model_name": "LayoutModel",
      "state": {}
     },
     "2124b0989d49443e9fe7f0b5b18fb73f": {
      "model_module": "@jupyter-widgets/controls",
      "model_module_version": "1.5.0",
      "model_name": "ProgressStyleModel",
      "state": {
       "description_width": "initial"
      }
     },
     "21b41ec2b130410094b43514da297b74": {
      "model_module": "@jupyter-widgets/controls",
      "model_module_version": "1.5.0",
      "model_name": "ProgressStyleModel",
      "state": {
       "description_width": "initial"
      }
     },
     "21dac352d77f4620ad506b547832b299": {
      "model_module": "@jupyter-widgets/controls",
      "model_module_version": "1.5.0",
      "model_name": "HBoxModel",
      "state": {
       "children": [
        "IPY_MODEL_afc2ac6baa1f431d90b9b6903b26197f",
        "IPY_MODEL_9b008d1c045547a087b63de5c54489c0"
       ],
       "layout": "IPY_MODEL_3d30b836154d4ed595ba581ff56537c9"
      }
     },
     "2203513613a44efd8cbebb9815b29f01": {
      "model_module": "@jupyter-widgets/controls",
      "model_module_version": "1.5.0",
      "model_name": "HBoxModel",
      "state": {
       "children": [
        "IPY_MODEL_7f78f03a44df4c4b9b07854b3d5d3005",
        "IPY_MODEL_b8ff8a75327a4541a250d699b43b3336"
       ],
       "layout": "IPY_MODEL_5d290f6ef277406baf8c32df03b6f117"
      }
     },
     "220429f41a274486ae79531b1cabc745": {
      "model_module": "@jupyter-widgets/base",
      "model_module_version": "1.2.0",
      "model_name": "LayoutModel",
      "state": {
       "flex": "2"
      }
     },
     "225c212630a34c0898bcb47bc21d1252": {
      "model_module": "@jupyter-widgets/base",
      "model_module_version": "1.2.0",
      "model_name": "LayoutModel",
      "state": {}
     },
     "226a8b74717d4242802f812e6f006f28": {
      "model_module": "@jupyter-widgets/controls",
      "model_module_version": "1.5.0",
      "model_name": "HTMLModel",
      "state": {
       "layout": "IPY_MODEL_2bd46d57cf5b4a0ea7297c6dce49c05d",
       "style": "IPY_MODEL_150c5b2017cd41159df3744cf5a6f227",
       "value": " 15/15 [00:03&lt;00:00,  3.85it/s]"
      }
     },
     "229606ac31e045488351cffad22d95ea": {
      "model_module": "@jupyter-widgets/base",
      "model_module_version": "1.2.0",
      "model_name": "LayoutModel",
      "state": {
       "flex": "2"
      }
     },
     "22ac54c75c2e49edafe11a2d1426590c": {
      "model_module": "@jupyter-widgets/base",
      "model_module_version": "1.2.0",
      "model_name": "LayoutModel",
      "state": {
       "flex": "2"
      }
     },
     "22d014cf6c0248e69f28a4c28833c27f": {
      "model_module": "@jupyter-widgets/controls",
      "model_module_version": "1.5.0",
      "model_name": "IntProgressModel",
      "state": {
       "bar_style": "success",
       "description": "[4/30][Train][22] Loss_avg: 0.34072, Loss: 0.31154, LR: 0.001: 100%",
       "layout": "IPY_MODEL_fc0efcedaca54c2a9711d9e557e5f6a6",
       "max": 23,
       "style": "IPY_MODEL_792a13671eb14a7fa8d51aaa097d0dc3",
       "value": 23
      }
     },
     "22e518437a35489f8c5eadad1909ba44": {
      "model_module": "@jupyter-widgets/base",
      "model_module_version": "1.2.0",
      "model_name": "LayoutModel",
      "state": {
       "flex": "2"
      }
     },
     "2317b12e097542aab7232738ee7a5c33": {
      "model_module": "@jupyter-widgets/controls",
      "model_module_version": "1.5.0",
      "model_name": "HTMLModel",
      "state": {
       "layout": "IPY_MODEL_280e387dc13643e09027070f16ab75bd",
       "style": "IPY_MODEL_5342102686fe48baa8eb906f6710384c",
       "value": " 15/15 [00:13&lt;00:00,  1.12it/s]"
      }
     },
     "2327edcb593142d7a0d1a7df5c527413": {
      "model_module": "@jupyter-widgets/controls",
      "model_module_version": "1.5.0",
      "model_name": "DescriptionStyleModel",
      "state": {
       "description_width": ""
      }
     },
     "2348997890204a0f907cc5ed9e405494": {
      "model_module": "@jupyter-widgets/controls",
      "model_module_version": "1.5.0",
      "model_name": "HBoxModel",
      "state": {
       "children": [
        "IPY_MODEL_1c897793be7941848bed3afd419e04e5",
        "IPY_MODEL_8fdaeb6eead446e0b2571499f811b93f"
       ],
       "layout": "IPY_MODEL_e9273726dc094a349882f930c66cbef7"
      }
     },
     "25107f35c0a44f0c98f244bac0fb39dd": {
      "model_module": "@jupyter-widgets/controls",
      "model_module_version": "1.5.0",
      "model_name": "HBoxModel",
      "state": {
       "children": [
        "IPY_MODEL_d8a14f984e144481ba25c33b2fcd99e7",
        "IPY_MODEL_e35c4db5f982410b822061163b722fc1"
       ],
       "layout": "IPY_MODEL_610f84e01f254270b81471d56743f879"
      }
     },
     "259ca7ba4d5445db9bdfdee193cc1baa": {
      "model_module": "@jupyter-widgets/base",
      "model_module_version": "1.2.0",
      "model_name": "LayoutModel",
      "state": {
       "flex": "2"
      }
     },
     "25bbe66d08d54f10a1610491466e02fd": {
      "model_module": "@jupyter-widgets/base",
      "model_module_version": "1.2.0",
      "model_name": "LayoutModel",
      "state": {}
     },
     "25d1ca3bec3c4f42b703e259d9ba8847": {
      "model_module": "@jupyter-widgets/controls",
      "model_module_version": "1.5.0",
      "model_name": "ProgressStyleModel",
      "state": {
       "description_width": "initial"
      }
     },
     "25da82dc71d5423fa66bb74e585275e9": {
      "model_module": "@jupyter-widgets/base",
      "model_module_version": "1.2.0",
      "model_name": "LayoutModel",
      "state": {
       "flex": "2"
      }
     },
     "2614995d84f14da7a4ec09ce28236ae0": {
      "model_module": "@jupyter-widgets/base",
      "model_module_version": "1.2.0",
      "model_name": "LayoutModel",
      "state": {
       "flex": "2"
      }
     },
     "2632654468b640aeafc10a9fb3241a57": {
      "model_module": "@jupyter-widgets/controls",
      "model_module_version": "1.5.0",
      "model_name": "DescriptionStyleModel",
      "state": {
       "description_width": ""
      }
     },
     "26887cc4ed0149fa8fcf9f04db0251a4": {
      "model_module": "@jupyter-widgets/controls",
      "model_module_version": "1.5.0",
      "model_name": "HTMLModel",
      "state": {
       "layout": "IPY_MODEL_0a19d67480df4e159e5cf3422a889711",
       "style": "IPY_MODEL_8ddc01be33e54b549ddb44a99ac695bb",
       "value": " 23/23 [00:09&lt;00:00,  2.55it/s]"
      }
     },
     "26d27787fc1c408c829724077b3d43aa": {
      "model_module": "@jupyter-widgets/base",
      "model_module_version": "1.2.0",
      "model_name": "LayoutModel",
      "state": {
       "display": "inline-flex",
       "flex_flow": "row wrap",
       "width": "100%"
      }
     },
     "26d7a2ddb4794e599e46bd210152e786": {
      "model_module": "@jupyter-widgets/controls",
      "model_module_version": "1.5.0",
      "model_name": "DescriptionStyleModel",
      "state": {
       "description_width": ""
      }
     },
     "274e5a5ce4f5440b88086b816b15596e": {
      "model_module": "@jupyter-widgets/controls",
      "model_module_version": "1.5.0",
      "model_name": "DescriptionStyleModel",
      "state": {
       "description_width": ""
      }
     },
     "277e176601424a47b23275e979073fdf": {
      "model_module": "@jupyter-widgets/controls",
      "model_module_version": "1.5.0",
      "model_name": "ProgressStyleModel",
      "state": {
       "description_width": "initial"
      }
     },
     "2802750c89084a98a1e28385a9802b13": {
      "model_module": "@jupyter-widgets/controls",
      "model_module_version": "1.5.0",
      "model_name": "HBoxModel",
      "state": {
       "children": [
        "IPY_MODEL_911ca2aabdf245d29869f351d3f666f5",
        "IPY_MODEL_4da5ac9f90fd4f32b367343c8425006b"
       ],
       "layout": "IPY_MODEL_d778d076feda4f9c8b883dc0fe0ea3c1"
      }
     },
     "280e387dc13643e09027070f16ab75bd": {
      "model_module": "@jupyter-widgets/base",
      "model_module_version": "1.2.0",
      "model_name": "LayoutModel",
      "state": {}
     },
     "2840632230724eccb51fd90838d1386c": {
      "model_module": "@jupyter-widgets/controls",
      "model_module_version": "1.5.0",
      "model_name": "DescriptionStyleModel",
      "state": {
       "description_width": ""
      }
     },
     "285fb40b3daf4847a3c4c0ad328538c8": {
      "model_module": "@jupyter-widgets/controls",
      "model_module_version": "1.5.0",
      "model_name": "DescriptionStyleModel",
      "state": {
       "description_width": ""
      }
     },
     "2877e7b14e554212854c9a4909f977d5": {
      "model_module": "@jupyter-widgets/controls",
      "model_module_version": "1.5.0",
      "model_name": "IntProgressModel",
      "state": {
       "bar_style": "success",
       "description": "[6/30][Test][14] Loss_avg: 0.43347, Metric_avg: 0.48143: 100%",
       "layout": "IPY_MODEL_e4fa0026588349ad87993a4ba722dd3c",
       "max": 15,
       "style": "IPY_MODEL_05193f6994df4347a5aebc8bc8e1a289",
       "value": 15
      }
     },
     "2926746707a34ff7b6975857894196e0": {
      "model_module": "@jupyter-widgets/controls",
      "model_module_version": "1.5.0",
      "model_name": "ProgressStyleModel",
      "state": {
       "description_width": "initial"
      }
     },
     "29618e24b8614b7ab07483e216ba7445": {
      "model_module": "@jupyter-widgets/controls",
      "model_module_version": "1.5.0",
      "model_name": "ProgressStyleModel",
      "state": {
       "description_width": "initial"
      }
     },
     "2ad0ed3f51ca49099d96cecebc02073d": {
      "model_module": "@jupyter-widgets/controls",
      "model_module_version": "1.5.0",
      "model_name": "ProgressStyleModel",
      "state": {
       "description_width": "initial"
      }
     },
     "2b33117154b74daa981b3d799fe0a846": {
      "model_module": "@jupyter-widgets/base",
      "model_module_version": "1.2.0",
      "model_name": "LayoutModel",
      "state": {
       "flex": "2"
      }
     },
     "2b97d942736f4ce2b042503645c4d3ac": {
      "model_module": "@jupyter-widgets/base",
      "model_module_version": "1.2.0",
      "model_name": "LayoutModel",
      "state": {}
     },
     "2bac5e2f534844fb9d41c0e5f4a91e8a": {
      "model_module": "@jupyter-widgets/controls",
      "model_module_version": "1.5.0",
      "model_name": "HTMLModel",
      "state": {
       "layout": "IPY_MODEL_e9bf27f16c024731822d20028795396f",
       "style": "IPY_MODEL_05ca79141a3d4d99801fd8f0b8e2387a",
       "value": " 15/15 [00:03&lt;00:00,  3.91it/s]"
      }
     },
     "2bb8a4ad7f904f3480f0dc7788107100": {
      "model_module": "@jupyter-widgets/base",
      "model_module_version": "1.2.0",
      "model_name": "LayoutModel",
      "state": {
       "display": "inline-flex",
       "flex_flow": "row wrap",
       "width": "100%"
      }
     },
     "2bc7336d4a86478098305cf9ca78c66d": {
      "model_module": "@jupyter-widgets/base",
      "model_module_version": "1.2.0",
      "model_name": "LayoutModel",
      "state": {}
     },
     "2bd46d57cf5b4a0ea7297c6dce49c05d": {
      "model_module": "@jupyter-widgets/base",
      "model_module_version": "1.2.0",
      "model_name": "LayoutModel",
      "state": {}
     },
     "2c03cab9a45d4b98b7fc994aa6bcf204": {
      "model_module": "@jupyter-widgets/controls",
      "model_module_version": "1.5.0",
      "model_name": "HTMLModel",
      "state": {
       "layout": "IPY_MODEL_96e171ebdf84494dbc04fd63f9ea8fc7",
       "style": "IPY_MODEL_1348f1be4bab4f9592a6934fd6eb2b58",
       "value": " 23/23 [00:16&lt;00:00,  1.41it/s]"
      }
     },
     "2c8db2ddc3294e05858c152dc0ec518f": {
      "model_module": "@jupyter-widgets/controls",
      "model_module_version": "1.5.0",
      "model_name": "ProgressStyleModel",
      "state": {
       "description_width": "initial"
      }
     },
     "2cc2bdcf4d1c4da2ae5c1072f7657de8": {
      "model_module": "@jupyter-widgets/controls",
      "model_module_version": "1.5.0",
      "model_name": "HTMLModel",
      "state": {
       "layout": "IPY_MODEL_cb4bd4c63ec54829a9368ad2f4b26f80",
       "style": "IPY_MODEL_4f1e63bd45634248aa296e88287defde",
       "value": " 15/15 [00:23&lt;00:00,  1.53s/it]"
      }
     },
     "2cc5cd6f09b64c79affc86a0afa731d4": {
      "model_module": "@jupyter-widgets/controls",
      "model_module_version": "1.5.0",
      "model_name": "IntProgressModel",
      "state": {
       "bar_style": "success",
       "description": "[6/30][Train][22] Loss_avg: 0.28979, Loss: 0.32138, LR: 0.001: 100%",
       "layout": "IPY_MODEL_b325d791cc2d4147be197cdee0d8f097",
       "max": 23,
       "style": "IPY_MODEL_c1957cbd0d7743978da1d8e9ec9f2dbe",
       "value": 23
      }
     },
     "2d053f7f67c649da8c4468b8156745f2": {
      "model_module": "@jupyter-widgets/controls",
      "model_module_version": "1.5.0",
      "model_name": "HTMLModel",
      "state": {
       "layout": "IPY_MODEL_8783e7945b02424c965f6a3494a8f031",
       "style": "IPY_MODEL_fa27482a71f14d31bcd04ed1e2b5c1cf",
       "value": " 15/15 [00:13&lt;00:00,  1.12it/s]"
      }
     },
     "2d3caf32992942f2ad6be61a5e415409": {
      "model_module": "@jupyter-widgets/base",
      "model_module_version": "1.2.0",
      "model_name": "LayoutModel",
      "state": {}
     },
     "2d70f2c3af7c4bfb8d8f83206945fb99": {
      "model_module": "@jupyter-widgets/controls",
      "model_module_version": "1.5.0",
      "model_name": "DescriptionStyleModel",
      "state": {
       "description_width": ""
      }
     },
     "2d8d967008274d9480f01e156b7d437f": {
      "model_module": "@jupyter-widgets/controls",
      "model_module_version": "1.5.0",
      "model_name": "IntProgressModel",
      "state": {
       "bar_style": "success",
       "description": "[23/30][Test][14] Loss_avg: 0.35072, Metric_avg: 0.5728: 100%",
       "layout": "IPY_MODEL_69e55246613a4066903ce36f5fe13628",
       "max": 15,
       "style": "IPY_MODEL_4be670edef3443cd9ef3198dc86820d9",
       "value": 15
      }
     },
     "2d8f8e70018c4a18bda30e0c60f8256f": {
      "model_module": "@jupyter-widgets/base",
      "model_module_version": "1.2.0",
      "model_name": "LayoutModel",
      "state": {}
     },
     "2dab36228abe4546864d9d039be97d4a": {
      "model_module": "@jupyter-widgets/controls",
      "model_module_version": "1.5.0",
      "model_name": "IntProgressModel",
      "state": {
       "bar_style": "success",
       "description": "[23/30][Train][22] Loss_avg: 0.18272, Loss: 0.20394, LR: 0.001: 100%",
       "layout": "IPY_MODEL_4afd254e1a37408d85150607003d953a",
       "max": 23,
       "style": "IPY_MODEL_29618e24b8614b7ab07483e216ba7445",
       "value": 23
      }
     },
     "2dc77ea041f14c09a939d2d097fa8380": {
      "model_module": "@jupyter-widgets/base",
      "model_module_version": "1.2.0",
      "model_name": "LayoutModel",
      "state": {
       "display": "inline-flex",
       "flex_flow": "row wrap",
       "width": "100%"
      }
     },
     "2e7496a6ba5746728c1ac6a5fa280aea": {
      "model_module": "@jupyter-widgets/controls",
      "model_module_version": "1.5.0",
      "model_name": "IntProgressModel",
      "state": {
       "bar_style": "success",
       "description": "[20/30][Test][14] Loss_avg: 0.41797, Metric_avg: 0.52413: 100%",
       "layout": "IPY_MODEL_982dbb669e25450cbad99edfc0c0d74a",
       "max": 15,
       "style": "IPY_MODEL_6a663eeed9b24e619cd95633586d9d19",
       "value": 15
      }
     },
     "2e7d293cd3034d23820aa668a6545824": {
      "model_module": "@jupyter-widgets/controls",
      "model_module_version": "1.5.0",
      "model_name": "HBoxModel",
      "state": {
       "children": [
        "IPY_MODEL_6eb0b6f18fd84ea398234e713231f4e7",
        "IPY_MODEL_d48e4e62ef854eceaa72394405a95450"
       ],
       "layout": "IPY_MODEL_9c6c77e9b2384310a1e4652ae484063e"
      }
     },
     "2e9acbfca6d24f58b22203bc6817ba71": {
      "model_module": "@jupyter-widgets/controls",
      "model_module_version": "1.5.0",
      "model_name": "DescriptionStyleModel",
      "state": {
       "description_width": ""
      }
     },
     "2fccf0df631b4974b976b7e82159b0de": {
      "model_module": "@jupyter-widgets/controls",
      "model_module_version": "1.5.0",
      "model_name": "DescriptionStyleModel",
      "state": {
       "description_width": ""
      }
     },
     "300d2e3ac7cb4523b8eb015cd95d0fab": {
      "model_module": "@jupyter-widgets/controls",
      "model_module_version": "1.5.0",
      "model_name": "DescriptionStyleModel",
      "state": {
       "description_width": ""
      }
     },
     "315bc8aa4aaa442e82fcca3a0a516d0c": {
      "model_module": "@jupyter-widgets/controls",
      "model_module_version": "1.5.0",
      "model_name": "HBoxModel",
      "state": {
       "children": [
        "IPY_MODEL_7352d5857a2d49e9a10974367f354745",
        "IPY_MODEL_3e0dcbb904214e3bb126c33ebe8bd64d"
       ],
       "layout": "IPY_MODEL_ef6127915df9417ab5819e865a917244"
      }
     },
     "32067f14021448cea9235991464e2ed0": {
      "model_module": "@jupyter-widgets/controls",
      "model_module_version": "1.5.0",
      "model_name": "HBoxModel",
      "state": {
       "children": [
        "IPY_MODEL_6a391614887e4616a7415ff9bd27780d",
        "IPY_MODEL_c742fd3ea3f149f2bad084d491813ee1"
       ],
       "layout": "IPY_MODEL_43d6d5f4ab1c4ffc90ee6b2a597b9f3a"
      }
     },
     "3226d7e4ff674b34a02a398d1021e9af": {
      "model_module": "@jupyter-widgets/controls",
      "model_module_version": "1.5.0",
      "model_name": "IntProgressModel",
      "state": {
       "bar_style": "success",
       "description": "[27/30][Train][22] Loss_avg: 0.17206, Loss: 0.15287, LR: 0.001: 100%",
       "layout": "IPY_MODEL_d333eee97c9a4722924b7590ce9778db",
       "max": 23,
       "style": "IPY_MODEL_c8aa054a298747208ba4c1c8b39cc69b",
       "value": 23
      }
     },
     "326eb6829a664ce6bded34ea336b0f21": {
      "model_module": "@jupyter-widgets/controls",
      "model_module_version": "1.5.0",
      "model_name": "IntProgressModel",
      "state": {
       "bar_style": "success",
       "description": "[22/30][Test][14] Loss_avg: 0.36026, Metric_avg: 0.5684: 100%",
       "layout": "IPY_MODEL_cb49371325ae4114ae6fb271642145b6",
       "max": 15,
       "style": "IPY_MODEL_49ce7a45c3424ac1a20a09a33f3f72f3",
       "value": 15
      }
     },
     "328aeac24db94d6c949cc5a82a333dd2": {
      "model_module": "@jupyter-widgets/controls",
      "model_module_version": "1.5.0",
      "model_name": "ProgressStyleModel",
      "state": {
       "description_width": "initial"
      }
     },
     "32c09128e26b4bc29f854827ec19674d": {
      "model_module": "@jupyter-widgets/base",
      "model_module_version": "1.2.0",
      "model_name": "LayoutModel",
      "state": {
       "flex": "2"
      }
     },
     "3344ac9cae9f450aa465112e095160d8": {
      "model_module": "@jupyter-widgets/controls",
      "model_module_version": "1.5.0",
      "model_name": "ProgressStyleModel",
      "state": {
       "description_width": "initial"
      }
     },
     "3385078c87794569ae2d61b207171ffd": {
      "model_module": "@jupyter-widgets/controls",
      "model_module_version": "1.5.0",
      "model_name": "HBoxModel",
      "state": {
       "children": [
        "IPY_MODEL_7fc21cd4307641f4a18383617f39652f",
        "IPY_MODEL_5e46be5a053f4cdf8242af43867cdc6c"
       ],
       "layout": "IPY_MODEL_9e26487410464064952a36074b4a5763"
      }
     },
     "343e1d38597641d899128e04bb1640ba": {
      "model_module": "@jupyter-widgets/controls",
      "model_module_version": "1.5.0",
      "model_name": "DescriptionStyleModel",
      "state": {
       "description_width": ""
      }
     },
     "3451cb9c2c9a4d6f8968dd0be3539261": {
      "model_module": "@jupyter-widgets/base",
      "model_module_version": "1.2.0",
      "model_name": "LayoutModel",
      "state": {
       "flex": "2"
      }
     },
     "3495480b58c047988f306d590735bd2a": {
      "model_module": "@jupyter-widgets/controls",
      "model_module_version": "1.5.0",
      "model_name": "HBoxModel",
      "state": {
       "children": [
        "IPY_MODEL_a78c67af2af8452ab433d91badd28950",
        "IPY_MODEL_ef4c8dcc2dc7434286d3f6be49f1939c"
       ],
       "layout": "IPY_MODEL_ada5290f4d7c413baefbc5d71032d2cd"
      }
     },
     "34c74f50cc6f4d8c88b3c6b5e9886f13": {
      "model_module": "@jupyter-widgets/controls",
      "model_module_version": "1.5.0",
      "model_name": "IntProgressModel",
      "state": {
       "bar_style": "success",
       "description": "[18/30][Test][14] Loss_avg: 0.38117, Metric_avg: 0.52921: 100%",
       "layout": "IPY_MODEL_912b7cee2bf64cf2885d324c7d8512a5",
       "max": 15,
       "style": "IPY_MODEL_1cc80c800e104a8eb08f3e4f8591934f",
       "value": 15
      }
     },
     "3503b1b7ff1e4435acb799ac0e079652": {
      "model_module": "@jupyter-widgets/base",
      "model_module_version": "1.2.0",
      "model_name": "LayoutModel",
      "state": {}
     },
     "358b73fcc6994105a88f6c27f65a0ad5": {
      "model_module": "@jupyter-widgets/controls",
      "model_module_version": "1.5.0",
      "model_name": "HBoxModel",
      "state": {
       "children": [
        "IPY_MODEL_3af81dabfea4480c9980c6b4a1b0e53e",
        "IPY_MODEL_abe0429ad5a44ef6b78d2ca1c04b57aa"
       ],
       "layout": "IPY_MODEL_07707c946dd5430eb49cb75b6bc2210c"
      }
     },
     "35de89ff13a04a39a96ab2e501f99eb0": {
      "model_module": "@jupyter-widgets/base",
      "model_module_version": "1.2.0",
      "model_name": "LayoutModel",
      "state": {
       "flex": "2"
      }
     },
     "36e6bb9676594de4abf2e867b57ff7a5": {
      "model_module": "@jupyter-widgets/controls",
      "model_module_version": "1.5.0",
      "model_name": "HBoxModel",
      "state": {
       "children": [
        "IPY_MODEL_868ea0064ebc4f9daa7766181ab9d798",
        "IPY_MODEL_be16847225f8401d8c15b44dd6d03384"
       ],
       "layout": "IPY_MODEL_2bb8a4ad7f904f3480f0dc7788107100"
      }
     },
     "36fb531ef78246a7bce12c56e493a65c": {
      "model_module": "@jupyter-widgets/base",
      "model_module_version": "1.2.0",
      "model_name": "LayoutModel",
      "state": {
       "display": "inline-flex",
       "flex_flow": "row wrap",
       "width": "100%"
      }
     },
     "37203fe7e0584384926a1b60cbdac255": {
      "model_module": "@jupyter-widgets/controls",
      "model_module_version": "1.5.0",
      "model_name": "ProgressStyleModel",
      "state": {
       "description_width": "initial"
      }
     },
     "3738d0a98b074029b18c1254e065d23a": {
      "model_module": "@jupyter-widgets/base",
      "model_module_version": "1.2.0",
      "model_name": "LayoutModel",
      "state": {}
     },
     "373a80f649fc41c09d4f5516407028b2": {
      "model_module": "@jupyter-widgets/controls",
      "model_module_version": "1.5.0",
      "model_name": "IntProgressModel",
      "state": {
       "bar_style": "success",
       "description": "[11/30][Test][14] Loss_avg: 0.38436, Metric_avg: 0.54274: 100%",
       "layout": "IPY_MODEL_8b6576d85a384010ac98f0609fbaedde",
       "max": 15,
       "style": "IPY_MODEL_6b2f9caf3f994f8d83912c45f104a774",
       "value": 15
      }
     },
     "376c3a0c01824e16b33a205eaf16d66f": {
      "model_module": "@jupyter-widgets/base",
      "model_module_version": "1.2.0",
      "model_name": "LayoutModel",
      "state": {}
     },
     "37b7f9b1f9b0497bbc834a5111512716": {
      "model_module": "@jupyter-widgets/controls",
      "model_module_version": "1.5.0",
      "model_name": "HTMLModel",
      "state": {
       "layout": "IPY_MODEL_914d1d5ef79d439a8845ec837cf63826",
       "style": "IPY_MODEL_db545b808c6245dea13c273a351d3535",
       "value": " 23/23 [00:09&lt;00:00,  2.52it/s]"
      }
     },
     "37bfc95cb9044fe686f121f1c4b687a7": {
      "model_module": "@jupyter-widgets/base",
      "model_module_version": "1.2.0",
      "model_name": "LayoutModel",
      "state": {}
     },
     "37fc439559be479ab722b775da3ffd98": {
      "model_module": "@jupyter-widgets/controls",
      "model_module_version": "1.5.0",
      "model_name": "HTMLModel",
      "state": {
       "layout": "IPY_MODEL_f8386f8489c54d7ba76f94b8f9e6b681",
       "style": "IPY_MODEL_7de17fcbbc9e4006bfb4110ed6319a78",
       "value": " 15/15 [00:03&lt;00:00,  3.94it/s]"
      }
     },
     "383a6161f041476f84d6f13b2fe385a3": {
      "model_module": "@jupyter-widgets/base",
      "model_module_version": "1.2.0",
      "model_name": "LayoutModel",
      "state": {
       "flex": "2"
      }
     },
     "38625b2a07434a38a5b6785b56e95770": {
      "model_module": "@jupyter-widgets/controls",
      "model_module_version": "1.5.0",
      "model_name": "HBoxModel",
      "state": {
       "children": [
        "IPY_MODEL_c2d482cfb6014c0893ca42778ba40fbb",
        "IPY_MODEL_814be7df350b48208ac4c5b680caaf14"
       ],
       "layout": "IPY_MODEL_ab4d55992cd541078c58334a5845a36e"
      }
     },
     "396b7381235446568aa1fb161205b333": {
      "model_module": "@jupyter-widgets/controls",
      "model_module_version": "1.5.0",
      "model_name": "DescriptionStyleModel",
      "state": {
       "description_width": ""
      }
     },
     "39ba7c0c3d6d49fe893e4af99e1f29a3": {
      "model_module": "@jupyter-widgets/base",
      "model_module_version": "1.2.0",
      "model_name": "LayoutModel",
      "state": {
       "display": "inline-flex",
       "flex_flow": "row wrap",
       "width": "100%"
      }
     },
     "3a15a8597f384bf39f4dbb05c204343e": {
      "model_module": "@jupyter-widgets/controls",
      "model_module_version": "1.5.0",
      "model_name": "HTMLModel",
      "state": {
       "layout": "IPY_MODEL_8d759c845faa4abb9b2ef4097707422b",
       "style": "IPY_MODEL_c4f238408c034c54a831443083e19e82",
       "value": " 23/23 [00:16&lt;00:00,  1.39it/s]"
      }
     },
     "3a1aeaa66938421690c39a00d1eb4bbf": {
      "model_module": "@jupyter-widgets/controls",
      "model_module_version": "1.5.0",
      "model_name": "HTMLModel",
      "state": {
       "layout": "IPY_MODEL_ac8336ac2f06498b9afd78ac55ff438d",
       "style": "IPY_MODEL_9c8658d591ec41889df6f2aed4d402ad",
       "value": " 23/23 [00:08&lt;00:00,  2.87it/s]"
      }
     },
     "3ab2d5de4a0c4cfe884e93ca3b3a2160": {
      "model_module": "@jupyter-widgets/base",
      "model_module_version": "1.2.0",
      "model_name": "LayoutModel",
      "state": {
       "flex": "2"
      }
     },
     "3af81dabfea4480c9980c6b4a1b0e53e": {
      "model_module": "@jupyter-widgets/controls",
      "model_module_version": "1.5.0",
      "model_name": "IntProgressModel",
      "state": {
       "bar_style": "success",
       "description": "[4/30][Train][22] Loss_avg: 0.33798, Loss: 0.33636, LR: 0.001: 100%",
       "layout": "IPY_MODEL_9371bebb1da140359d85977ddf6e346c",
       "max": 23,
       "style": "IPY_MODEL_742edfc4c48346a0a3a8149b6b160547",
       "value": 23
      }
     },
     "3b01964215ca40709b01183437b98ce5": {
      "model_module": "@jupyter-widgets/controls",
      "model_module_version": "1.5.0",
      "model_name": "DescriptionStyleModel",
      "state": {
       "description_width": ""
      }
     },
     "3b0e7ff39abd463d80caa62e02d8d8e3": {
      "model_module": "@jupyter-widgets/controls",
      "model_module_version": "1.5.0",
      "model_name": "HBoxModel",
      "state": {
       "children": [
        "IPY_MODEL_10c064f1ee1e4256a3ab70d85f1b354b",
        "IPY_MODEL_780a032f977b405c89c2c8b3bb60e533"
       ],
       "layout": "IPY_MODEL_85dd1a69cf214575a147e756d2f50ad0"
      }
     },
     "3b2437513b7c4116a2e9f94eab3d59b3": {
      "model_module": "@jupyter-widgets/base",
      "model_module_version": "1.2.0",
      "model_name": "LayoutModel",
      "state": {}
     },
     "3b26d8078e8f4cd69eaa4cce598da1a7": {
      "model_module": "@jupyter-widgets/controls",
      "model_module_version": "1.5.0",
      "model_name": "HBoxModel",
      "state": {
       "children": [
        "IPY_MODEL_09e07697ba7b477299286d169845b393",
        "IPY_MODEL_c84db80468c246f38db16c284890db54"
       ],
       "layout": "IPY_MODEL_cfdc4dbd31d447a98dd157dc7034ea18"
      }
     },
     "3b7ccd6a95614dbd8026e52230947781": {
      "model_module": "@jupyter-widgets/controls",
      "model_module_version": "1.5.0",
      "model_name": "HTMLModel",
      "state": {
       "layout": "IPY_MODEL_62eaf1ca20ec45cca5ccc1ab11ef13dc",
       "style": "IPY_MODEL_a745eb4681774e5f9de61f44db467e8d",
       "value": " 23/23 [01:15&lt;00:00,  3.29s/it]"
      }
     },
     "3b7d7a2a23074cb5aafcfbbf60d0f3ef": {
      "model_module": "@jupyter-widgets/base",
      "model_module_version": "1.2.0",
      "model_name": "LayoutModel",
      "state": {
       "flex": "2"
      }
     },
     "3cf70fa561d14caa88302b4d86efb651": {
      "model_module": "@jupyter-widgets/controls",
      "model_module_version": "1.5.0",
      "model_name": "HTMLModel",
      "state": {
       "layout": "IPY_MODEL_c02a9a1584c2407e9d246a4e7ac9a92b",
       "style": "IPY_MODEL_fe2f0560acdf4d5a84107e779dd508ea",
       "value": " 15/15 [00:13&lt;00:00,  1.10it/s]"
      }
     },
     "3d0888895d42417498ec53442d6a13cd": {
      "model_module": "@jupyter-widgets/base",
      "model_module_version": "1.2.0",
      "model_name": "LayoutModel",
      "state": {}
     },
     "3d30b836154d4ed595ba581ff56537c9": {
      "model_module": "@jupyter-widgets/base",
      "model_module_version": "1.2.0",
      "model_name": "LayoutModel",
      "state": {
       "display": "inline-flex",
       "flex_flow": "row wrap",
       "width": "100%"
      }
     },
     "3d4b597fafa04253b8a7ebb97e1cd457": {
      "model_module": "@jupyter-widgets/controls",
      "model_module_version": "1.5.0",
      "model_name": "IntProgressModel",
      "state": {
       "bar_style": "success",
       "description": "[26/30][Test][14] Loss_avg: 0.39948, Metric_avg: 0.53519: 100%",
       "layout": "IPY_MODEL_ca6be96ebb01485aa4f822587df24df5",
       "max": 15,
       "style": "IPY_MODEL_a8f33b45683747219135066dac5c6f70",
       "value": 15
      }
     },
     "3d984a1270e94b1d8d076839199422e2": {
      "model_module": "@jupyter-widgets/controls",
      "model_module_version": "1.5.0",
      "model_name": "IntProgressModel",
      "state": {
       "bar_style": "success",
       "description": "[8/30][Train][22] Loss_avg: 0.32301, Loss: 0.32189, LR: 0.001: 100%",
       "layout": "IPY_MODEL_175bedc2d3fe416ba26327edf307634d",
       "max": 23,
       "style": "IPY_MODEL_47962507cf8b4a21a26cf2b86e20a1bc",
       "value": 23
      }
     },
     "3d9e83b95aa042dfb99cc6059a8f4caa": {
      "model_module": "@jupyter-widgets/controls",
      "model_module_version": "1.5.0",
      "model_name": "HBoxModel",
      "state": {
       "children": [
        "IPY_MODEL_22d014cf6c0248e69f28a4c28833c27f",
        "IPY_MODEL_f09875d73ded4652b53388366d4f7e75"
       ],
       "layout": "IPY_MODEL_c8e0a5983337433c9ef7202b4b90963f"
      }
     },
     "3db30a6efaa74716b65993b31c283a9d": {
      "model_module": "@jupyter-widgets/base",
      "model_module_version": "1.2.0",
      "model_name": "LayoutModel",
      "state": {
       "flex": "2"
      }
     },
     "3e0dcbb904214e3bb126c33ebe8bd64d": {
      "model_module": "@jupyter-widgets/controls",
      "model_module_version": "1.5.0",
      "model_name": "HTMLModel",
      "state": {
       "layout": "IPY_MODEL_6dba4206cdbb4971af12ccab32db2300",
       "style": "IPY_MODEL_02b4927d217842879402c93e90b672c7",
       "value": " 23/23 [00:25&lt;00:00,  1.10s/it]"
      }
     },
     "3e6cf7d358cd4d2f90fa861a4e612a4a": {
      "model_module": "@jupyter-widgets/controls",
      "model_module_version": "1.5.0",
      "model_name": "DescriptionStyleModel",
      "state": {
       "description_width": ""
      }
     },
     "3ea3233d5ba54b26ace4fb4abcdf307c": {
      "model_module": "@jupyter-widgets/controls",
      "model_module_version": "1.5.0",
      "model_name": "DescriptionStyleModel",
      "state": {
       "description_width": ""
      }
     },
     "3eccef66b55d426f8614fd21bd287a8b": {
      "model_module": "@jupyter-widgets/base",
      "model_module_version": "1.2.0",
      "model_name": "LayoutModel",
      "state": {
       "flex": "2"
      }
     },
     "3f20b4791e6c41da97343fc7a9934a64": {
      "model_module": "@jupyter-widgets/controls",
      "model_module_version": "1.5.0",
      "model_name": "HTMLModel",
      "state": {
       "layout": "IPY_MODEL_ef6d28b1ad8049d599ec65a5b2c93b14",
       "style": "IPY_MODEL_fc4d96c734444c61995209fbd2bd7e37",
       "value": " 23/23 [00:37&lt;00:00,  1.62s/it]"
      }
     },
     "4001fbdb80cf494d99da1f1bf99eea2d": {
      "model_module": "@jupyter-widgets/base",
      "model_module_version": "1.2.0",
      "model_name": "LayoutModel",
      "state": {}
     },
     "40cdcd6c811b46c8932a2a625cfd7647": {
      "model_module": "@jupyter-widgets/base",
      "model_module_version": "1.2.0",
      "model_name": "LayoutModel",
      "state": {
       "flex": "2"
      }
     },
     "40f2b372996a47b8a628de6fc7b4b3be": {
      "model_module": "@jupyter-widgets/base",
      "model_module_version": "1.2.0",
      "model_name": "LayoutModel",
      "state": {
       "display": "inline-flex",
       "flex_flow": "row wrap",
       "width": "100%"
      }
     },
     "41ee41f95ffc4f63b0b2c951d3587db0": {
      "model_module": "@jupyter-widgets/controls",
      "model_module_version": "1.5.0",
      "model_name": "HBoxModel",
      "state": {
       "children": [
        "IPY_MODEL_ba6b240f98384909936f36ec96d67cea",
        "IPY_MODEL_15b65f9cf5994656a51053c465e7a657"
       ],
       "layout": "IPY_MODEL_bce9ac2ad97d4df196c1208cd11b021c"
      }
     },
     "424834586d1b42db8c6d4f81a3dd8552": {
      "model_module": "@jupyter-widgets/controls",
      "model_module_version": "1.5.0",
      "model_name": "HTMLModel",
      "state": {
       "layout": "IPY_MODEL_2d8f8e70018c4a18bda30e0c60f8256f",
       "style": "IPY_MODEL_e73a984a09164d9e90bccdcc4ef3d553",
       "value": " 23/23 [00:05&lt;00:00,  4.42it/s]"
      }
     },
     "42ad38a7058642cb953d82ec234b8111": {
      "model_module": "@jupyter-widgets/controls",
      "model_module_version": "1.5.0",
      "model_name": "HBoxModel",
      "state": {
       "children": [
        "IPY_MODEL_a6103371583d48dfb2310f8e1dad0628",
        "IPY_MODEL_3a15a8597f384bf39f4dbb05c204343e"
       ],
       "layout": "IPY_MODEL_4874f06c63c54c8ebe81326f16d3bef6"
      }
     },
     "42b76233a2cc4eba80e85cc42378039f": {
      "model_module": "@jupyter-widgets/controls",
      "model_module_version": "1.5.0",
      "model_name": "HTMLModel",
      "state": {
       "layout": "IPY_MODEL_e54b5a91f3a44e4fb75df43d5f7ec4c4",
       "style": "IPY_MODEL_933c50649286451c9840638d0d652bb6",
       "value": " 15/15 [02:57&lt;00:00, 11.83s/it]"
      }
     },
     "42debbce8ecc40b3b268b91f870df7c5": {
      "model_module": "@jupyter-widgets/controls",
      "model_module_version": "1.5.0",
      "model_name": "HBoxModel",
      "state": {
       "children": [
        "IPY_MODEL_a80f296f025a4c20bfe06002bb7f8d02",
        "IPY_MODEL_72886f87011e4edc85c6ae91bd80e15c"
       ],
       "layout": "IPY_MODEL_b58ce6dbfdc2452e92fd42e99f36f50a"
      }
     },
     "4321fc4566bf49dbb027228753849cf4": {
      "model_module": "@jupyter-widgets/controls",
      "model_module_version": "1.5.0",
      "model_name": "ProgressStyleModel",
      "state": {
       "description_width": "initial"
      }
     },
     "43485b99206943ab831616b3845b0c6b": {
      "model_module": "@jupyter-widgets/controls",
      "model_module_version": "1.5.0",
      "model_name": "HBoxModel",
      "state": {
       "children": [
        "IPY_MODEL_ed1f87ad9944467d98f5192ca78f5557",
        "IPY_MODEL_bb7998bd5cbd432aa694666927b24cc9"
       ],
       "layout": "IPY_MODEL_60fb69dea52242d196f9ee3a2990d249"
      }
     },
     "43d6d5f4ab1c4ffc90ee6b2a597b9f3a": {
      "model_module": "@jupyter-widgets/base",
      "model_module_version": "1.2.0",
      "model_name": "LayoutModel",
      "state": {
       "display": "inline-flex",
       "flex_flow": "row wrap",
       "width": "100%"
      }
     },
     "43e3cf4ffda8489b9f257281f6395589": {
      "model_module": "@jupyter-widgets/controls",
      "model_module_version": "1.5.0",
      "model_name": "ProgressStyleModel",
      "state": {
       "description_width": "initial"
      }
     },
     "43e6d750b475445782aa8b17d31a9882": {
      "model_module": "@jupyter-widgets/controls",
      "model_module_version": "1.5.0",
      "model_name": "ProgressStyleModel",
      "state": {
       "description_width": "initial"
      }
     },
     "43f4986095124d8ab8c361a13d5c0bc3": {
      "model_module": "@jupyter-widgets/controls",
      "model_module_version": "1.5.0",
      "model_name": "IntProgressModel",
      "state": {
       "bar_style": "success",
       "description": "[2/30][Test][14] Loss_avg: 0.57552, Metric_avg: 0.37749: 100%",
       "layout": "IPY_MODEL_100283f89bb2480bbb99a50d2e1b05b1",
       "max": 15,
       "style": "IPY_MODEL_c37ff2524ac041049ba7a0cf349c918d",
       "value": 15
      }
     },
     "4443ef1c7ec44691b58048b01a9eb13b": {
      "model_module": "@jupyter-widgets/controls",
      "model_module_version": "1.5.0",
      "model_name": "HTMLModel",
      "state": {
       "layout": "IPY_MODEL_9228aae9029a49d8baea54f7812b6807",
       "style": "IPY_MODEL_e0bc574b9d884c6a94afb1b66911d302",
       "value": " 23/23 [00:09&lt;00:00,  2.51it/s]"
      }
     },
     "44691375dc884567a82974f88befaffd": {
      "model_module": "@jupyter-widgets/controls",
      "model_module_version": "1.5.0",
      "model_name": "HTMLModel",
      "state": {
       "layout": "IPY_MODEL_c6be9e88b0a444c4a9f270341334cab3",
       "style": "IPY_MODEL_59a23146eb064c8590065e69ed4d1b32",
       "value": " 23/23 [01:00&lt;00:00,  2.63s/it]"
      }
     },
     "4529ed63814343198c9352c8024e3c70": {
      "model_module": "@jupyter-widgets/controls",
      "model_module_version": "1.5.0",
      "model_name": "ProgressStyleModel",
      "state": {
       "description_width": "initial"
      }
     },
     "452b53ab84a04626a4ba83dc1ce35770": {
      "model_module": "@jupyter-widgets/controls",
      "model_module_version": "1.5.0",
      "model_name": "ProgressStyleModel",
      "state": {
       "description_width": "initial"
      }
     },
     "4540a6378e9f42f4abc6a9a90ee58fcf": {
      "model_module": "@jupyter-widgets/controls",
      "model_module_version": "1.5.0",
      "model_name": "ProgressStyleModel",
      "state": {
       "description_width": "initial"
      }
     },
     "45dab96c8d904365900bd5ddc52050fb": {
      "model_module": "@jupyter-widgets/controls",
      "model_module_version": "1.5.0",
      "model_name": "IntProgressModel",
      "state": {
       "bar_style": "success",
       "description": "[5/30][Train][22] Loss_avg: 0.31379, Loss: 0.30075, LR: 0.001: 100%",
       "layout": "IPY_MODEL_615079dcf0944ad09e9f7f6cd2ca4d9c",
       "max": 23,
       "style": "IPY_MODEL_7f6b7482b5af460fbd8b9e508eae918b",
       "value": 23
      }
     },
     "45f2edd1e53d4429b43da191725a2d9b": {
      "model_module": "@jupyter-widgets/base",
      "model_module_version": "1.2.0",
      "model_name": "LayoutModel",
      "state": {
       "display": "inline-flex",
       "flex_flow": "row wrap",
       "width": "100%"
      }
     },
     "461a27799ada4faea6fe642cbfabe814": {
      "model_module": "@jupyter-widgets/controls",
      "model_module_version": "1.5.0",
      "model_name": "HTMLModel",
      "state": {
       "layout": "IPY_MODEL_4001fbdb80cf494d99da1f1bf99eea2d",
       "style": "IPY_MODEL_0f385e395d8f490d917d7f1cce52f6e7",
       "value": " 15/15 [00:13&lt;00:00,  1.09it/s]"
      }
     },
     "464909bbbe294f76bfec72877005373f": {
      "model_module": "@jupyter-widgets/controls",
      "model_module_version": "1.5.0",
      "model_name": "DescriptionStyleModel",
      "state": {
       "description_width": ""
      }
     },
     "465b5c2048844fc0923d2b3da99569d3": {
      "model_module": "@jupyter-widgets/base",
      "model_module_version": "1.2.0",
      "model_name": "LayoutModel",
      "state": {}
     },
     "46ad2d2d9d3b45c58c84e6d693d4af02": {
      "model_module": "@jupyter-widgets/controls",
      "model_module_version": "1.5.0",
      "model_name": "HBoxModel",
      "state": {
       "children": [
        "IPY_MODEL_a4683e7913dd47668d437027e61ff454",
        "IPY_MODEL_3b7ccd6a95614dbd8026e52230947781"
       ],
       "layout": "IPY_MODEL_83dfc69671f44ee9ae942a2941113c72"
      }
     },
     "46e81897d6874d1f8213ad9df58e07bb": {
      "model_module": "@jupyter-widgets/controls",
      "model_module_version": "1.5.0",
      "model_name": "HBoxModel",
      "state": {
       "children": [
        "IPY_MODEL_50ff56b76a00464f86cdb63c802ed7d0",
        "IPY_MODEL_107115cf59f8441ea0725970b2176000"
       ],
       "layout": "IPY_MODEL_5c90e24900734f1d8b887cc70588ef13"
      }
     },
     "47962507cf8b4a21a26cf2b86e20a1bc": {
      "model_module": "@jupyter-widgets/controls",
      "model_module_version": "1.5.0",
      "model_name": "ProgressStyleModel",
      "state": {
       "description_width": "initial"
      }
     },
     "47dfcb3cf193420aacd85b60365c5028": {
      "model_module": "@jupyter-widgets/controls",
      "model_module_version": "1.5.0",
      "model_name": "DescriptionStyleModel",
      "state": {
       "description_width": ""
      }
     },
     "48071e910f484d688572e63b9ed301fe": {
      "model_module": "@jupyter-widgets/base",
      "model_module_version": "1.2.0",
      "model_name": "LayoutModel",
      "state": {
       "flex": "2"
      }
     },
     "480ab8a17ce04f079e21a04728eb36ff": {
      "model_module": "@jupyter-widgets/controls",
      "model_module_version": "1.5.0",
      "model_name": "HBoxModel",
      "state": {
       "children": [
        "IPY_MODEL_b46c240e17e44f5e9bfaa1a98ea2658f",
        "IPY_MODEL_ae36c0db472d4fcaa2d47cffd05a5786"
       ],
       "layout": "IPY_MODEL_8801046edf5e43e98bd31e07ef35935c"
      }
     },
     "4874f06c63c54c8ebe81326f16d3bef6": {
      "model_module": "@jupyter-widgets/base",
      "model_module_version": "1.2.0",
      "model_name": "LayoutModel",
      "state": {
       "display": "inline-flex",
       "flex_flow": "row wrap",
       "width": "100%"
      }
     },
     "49738e519e2b4264b43a9ba02e78404a": {
      "model_module": "@jupyter-widgets/base",
      "model_module_version": "1.2.0",
      "model_name": "LayoutModel",
      "state": {
       "display": "inline-flex",
       "flex_flow": "row wrap",
       "width": "100%"
      }
     },
     "49ce7a45c3424ac1a20a09a33f3f72f3": {
      "model_module": "@jupyter-widgets/controls",
      "model_module_version": "1.5.0",
      "model_name": "ProgressStyleModel",
      "state": {
       "description_width": "initial"
      }
     },
     "4a0fed634ad949668cfd5f0268647f82": {
      "model_module": "@jupyter-widgets/controls",
      "model_module_version": "1.5.0",
      "model_name": "HTMLModel",
      "state": {
       "layout": "IPY_MODEL_826fa5c3dc254cbb82461b74d4597c5c",
       "style": "IPY_MODEL_bfef486b05c74851ae778b8f63452bde",
       "value": " 15/15 [00:03&lt;00:00,  3.91it/s]"
      }
     },
     "4afd254e1a37408d85150607003d953a": {
      "model_module": "@jupyter-widgets/base",
      "model_module_version": "1.2.0",
      "model_name": "LayoutModel",
      "state": {
       "flex": "2"
      }
     },
     "4b1b885fc2d44e0f9266710a4db69ff8": {
      "model_module": "@jupyter-widgets/controls",
      "model_module_version": "1.5.0",
      "model_name": "ProgressStyleModel",
      "state": {
       "description_width": "initial"
      }
     },
     "4b5965aceb454e4ba935ad18f57f1a36": {
      "model_module": "@jupyter-widgets/base",
      "model_module_version": "1.2.0",
      "model_name": "LayoutModel",
      "state": {
       "display": "inline-flex",
       "flex_flow": "row wrap",
       "width": "100%"
      }
     },
     "4b5c99f9717845449b41189433c25642": {
      "model_module": "@jupyter-widgets/controls",
      "model_module_version": "1.5.0",
      "model_name": "IntProgressModel",
      "state": {
       "bar_style": "success",
       "description": "[26/30][Train][22] Loss_avg: 0.16952, Loss: 0.1658, LR: 0.001: 100%",
       "layout": "IPY_MODEL_51dd14eb979444c3bc410eda0b53c628",
       "max": 23,
       "style": "IPY_MODEL_a625a29572b445cda4a9b9944e127226",
       "value": 23
      }
     },
     "4b68f470a64743e194883f46f264a54a": {
      "model_module": "@jupyter-widgets/controls",
      "model_module_version": "1.5.0",
      "model_name": "HBoxModel",
      "state": {
       "children": [
        "IPY_MODEL_d13bdca8ffbb4ff48998012d3a6b880a",
        "IPY_MODEL_ee07210456844a55ac16b44dffed8a48"
       ],
       "layout": "IPY_MODEL_e7b8c73920eb408bbed8760b72cd706d"
      }
     },
     "4b7117982e604ef2b4b2bba9d649482f": {
      "model_module": "@jupyter-widgets/controls",
      "model_module_version": "1.5.0",
      "model_name": "DescriptionStyleModel",
      "state": {
       "description_width": ""
      }
     },
     "4be670edef3443cd9ef3198dc86820d9": {
      "model_module": "@jupyter-widgets/controls",
      "model_module_version": "1.5.0",
      "model_name": "ProgressStyleModel",
      "state": {
       "description_width": "initial"
      }
     },
     "4be73ffe2adb436c94a6f9969f522475": {
      "model_module": "@jupyter-widgets/controls",
      "model_module_version": "1.5.0",
      "model_name": "ProgressStyleModel",
      "state": {
       "description_width": "initial"
      }
     },
     "4bf33ef056244828a1827862de66e355": {
      "model_module": "@jupyter-widgets/base",
      "model_module_version": "1.2.0",
      "model_name": "LayoutModel",
      "state": {
       "flex": "2"
      }
     },
     "4c02241939aa4eb59b433929b5c5ff29": {
      "model_module": "@jupyter-widgets/base",
      "model_module_version": "1.2.0",
      "model_name": "LayoutModel",
      "state": {
       "flex": "2"
      }
     },
     "4c3a30b5efa640e1bf73f9e662ec915d": {
      "model_module": "@jupyter-widgets/controls",
      "model_module_version": "1.5.0",
      "model_name": "IntProgressModel",
      "state": {
       "bar_style": "success",
       "description": "[0/30][Train][22] Loss_avg: 0.83783, Loss: 0.61124, LR: 0.001: 100%",
       "layout": "IPY_MODEL_3db30a6efaa74716b65993b31c283a9d",
       "max": 23,
       "style": "IPY_MODEL_947a027318a84149ac3fdf8cfe98a34f",
       "value": 23
      }
     },
     "4c896e721e5249218ddffc8df25cdbf9": {
      "model_module": "@jupyter-widgets/controls",
      "model_module_version": "1.5.0",
      "model_name": "ProgressStyleModel",
      "state": {
       "description_width": "initial"
      }
     },
     "4c902bcd1e144ce2857a0b51fa653e3d": {
      "model_module": "@jupyter-widgets/base",
      "model_module_version": "1.2.0",
      "model_name": "LayoutModel",
      "state": {}
     },
     "4ca57effcc27415397f15ed31dd2c74c": {
      "model_module": "@jupyter-widgets/base",
      "model_module_version": "1.2.0",
      "model_name": "LayoutModel",
      "state": {
       "flex": "2"
      }
     },
     "4cccd04ed68244bfae24d0972957cd19": {
      "model_module": "@jupyter-widgets/controls",
      "model_module_version": "1.5.0",
      "model_name": "ProgressStyleModel",
      "state": {
       "description_width": "initial"
      }
     },
     "4ce9cb12b4584d9c8cd8c0c209a35a6e": {
      "model_module": "@jupyter-widgets/base",
      "model_module_version": "1.2.0",
      "model_name": "LayoutModel",
      "state": {}
     },
     "4d85e0ff36124884b3fb302f4bbc12e8": {
      "model_module": "@jupyter-widgets/base",
      "model_module_version": "1.2.0",
      "model_name": "LayoutModel",
      "state": {
       "flex": "2"
      }
     },
     "4da5ac9f90fd4f32b367343c8425006b": {
      "model_module": "@jupyter-widgets/controls",
      "model_module_version": "1.5.0",
      "model_name": "HTMLModel",
      "state": {
       "layout": "IPY_MODEL_3b2437513b7c4116a2e9f94eab3d59b3",
       "style": "IPY_MODEL_d91500ce06d74f11993ff7ea88adbe75",
       "value": " 15/15 [00:04&lt;00:00,  3.44it/s]"
      }
     },
     "4e99e702486b40c5965e95652c8632e4": {
      "model_module": "@jupyter-widgets/base",
      "model_module_version": "1.2.0",
      "model_name": "LayoutModel",
      "state": {}
     },
     "4eb0129436d34532bee36158a18ab434": {
      "model_module": "@jupyter-widgets/base",
      "model_module_version": "1.2.0",
      "model_name": "LayoutModel",
      "state": {
       "flex": "2"
      }
     },
     "4f1e63bd45634248aa296e88287defde": {
      "model_module": "@jupyter-widgets/controls",
      "model_module_version": "1.5.0",
      "model_name": "DescriptionStyleModel",
      "state": {
       "description_width": ""
      }
     },
     "4f5a7718e7614743ad38bd08dcdd507e": {
      "model_module": "@jupyter-widgets/controls",
      "model_module_version": "1.5.0",
      "model_name": "IntProgressModel",
      "state": {
       "bar_style": "success",
       "description": "[7/30][Train][22] Loss_avg: 0.30669, Loss: 0.26596, LR: 0.001: 100%",
       "layout": "IPY_MODEL_c9d37f683ed54b11be1b15de46c97f35",
       "max": 23,
       "style": "IPY_MODEL_72742d387136488897a2a5ab7e256a16",
       "value": 23
      }
     },
     "4fa79718ea7e4d8fa1572e66e59114db": {
      "model_module": "@jupyter-widgets/base",
      "model_module_version": "1.2.0",
      "model_name": "LayoutModel",
      "state": {}
     },
     "4fd33e79a0cf4750a64d484e872999be": {
      "model_module": "@jupyter-widgets/base",
      "model_module_version": "1.2.0",
      "model_name": "LayoutModel",
      "state": {}
     },
     "4ff3d4f37be74a4e87d6db0e312f233d": {
      "model_module": "@jupyter-widgets/controls",
      "model_module_version": "1.5.0",
      "model_name": "ProgressStyleModel",
      "state": {
       "description_width": "initial"
      }
     },
     "4ffee32eb29a49bd9f15c8a5221ccc39": {
      "model_module": "@jupyter-widgets/controls",
      "model_module_version": "1.5.0",
      "model_name": "IntProgressModel",
      "state": {
       "bar_style": "success",
       "description": "[25/30][Train][22] Loss_avg: 0.18081, Loss: 0.17406, LR: 0.001: 100%",
       "layout": "IPY_MODEL_220429f41a274486ae79531b1cabc745",
       "max": 23,
       "style": "IPY_MODEL_f721aeeda0e840cc84e739f1937f06b6",
       "value": 23
      }
     },
     "503384cb1d1f4c9f9dc04e83f09fc39e": {
      "model_module": "@jupyter-widgets/controls",
      "model_module_version": "1.5.0",
      "model_name": "DescriptionStyleModel",
      "state": {
       "description_width": ""
      }
     },
     "50ff56b76a00464f86cdb63c802ed7d0": {
      "model_module": "@jupyter-widgets/controls",
      "model_module_version": "1.5.0",
      "model_name": "IntProgressModel",
      "state": {
       "bar_style": "success",
       "description": "[11/30][Train][22] Loss_avg: 0.24099, Loss: 0.25609, LR: 0.001: 100%",
       "layout": "IPY_MODEL_bdd01a2d8fca4ba1853899be220488cc",
       "max": 23,
       "style": "IPY_MODEL_6165739ed3844642af2126db59cdb330",
       "value": 23
      }
     },
     "512fbf467706401589a56dc390c9b9a8": {
      "model_module": "@jupyter-widgets/controls",
      "model_module_version": "1.5.0",
      "model_name": "ProgressStyleModel",
      "state": {
       "description_width": "initial"
      }
     },
     "5139b29ff6844cc59ffcbbd9c66cb386": {
      "model_module": "@jupyter-widgets/base",
      "model_module_version": "1.2.0",
      "model_name": "LayoutModel",
      "state": {
       "display": "inline-flex",
       "flex_flow": "row wrap",
       "width": "100%"
      }
     },
     "51410e9293e0434badc6bd803daba11b": {
      "model_module": "@jupyter-widgets/base",
      "model_module_version": "1.2.0",
      "model_name": "LayoutModel",
      "state": {
       "flex": "2"
      }
     },
     "514821af7695446ab6d4adbf3217f54b": {
      "model_module": "@jupyter-widgets/controls",
      "model_module_version": "1.5.0",
      "model_name": "HBoxModel",
      "state": {
       "children": [
        "IPY_MODEL_7094a8b32e624badadd8aa0a8e9380f9",
        "IPY_MODEL_ae06443c98cf4a0cb1fdfd090669894a"
       ],
       "layout": "IPY_MODEL_39ba7c0c3d6d49fe893e4af99e1f29a3"
      }
     },
     "5175907ef89a486ba2c2b18b7fb843f2": {
      "model_module": "@jupyter-widgets/base",
      "model_module_version": "1.2.0",
      "model_name": "LayoutModel",
      "state": {
       "display": "inline-flex",
       "flex_flow": "row wrap",
       "width": "100%"
      }
     },
     "5196a39266864375bae913dc6db2fc07": {
      "model_module": "@jupyter-widgets/controls",
      "model_module_version": "1.5.0",
      "model_name": "HBoxModel",
      "state": {
       "children": [
        "IPY_MODEL_dc9aa5ead1a44659979577cab21aaa74",
        "IPY_MODEL_71375baec1fe4a88a10fe1a7a213df9d"
       ],
       "layout": "IPY_MODEL_e4d1bbfc93784539b307cef43562535e"
      }
     },
     "51dd14eb979444c3bc410eda0b53c628": {
      "model_module": "@jupyter-widgets/base",
      "model_module_version": "1.2.0",
      "model_name": "LayoutModel",
      "state": {
       "flex": "2"
      }
     },
     "51e9a8fd30ca47348ba92acd3721e770": {
      "model_module": "@jupyter-widgets/base",
      "model_module_version": "1.2.0",
      "model_name": "LayoutModel",
      "state": {
       "flex": "2"
      }
     },
     "520e06b6a6014a3ca2d6eb2df214526c": {
      "model_module": "@jupyter-widgets/controls",
      "model_module_version": "1.5.0",
      "model_name": "HTMLModel",
      "state": {
       "layout": "IPY_MODEL_59a075921e81480cb4c36c02bf751e67",
       "style": "IPY_MODEL_0e54d891d6504fadb1af5e9e2f85939a",
       "value": " 15/15 [03:08&lt;00:00, 12.59s/it]"
      }
     },
     "526765177b344e9da1d1459f89ce0b1e": {
      "model_module": "@jupyter-widgets/controls",
      "model_module_version": "1.5.0",
      "model_name": "HTMLModel",
      "state": {
       "layout": "IPY_MODEL_f6275733020e4400988613e0c4cd2634",
       "style": "IPY_MODEL_0ccbdbaca1864c84b48012039a20d347",
       "value": " 23/23 [00:05&lt;00:00,  4.59it/s]"
      }
     },
     "529555a5de094a40bb352e77c8da5038": {
      "model_module": "@jupyter-widgets/controls",
      "model_module_version": "1.5.0",
      "model_name": "IntProgressModel",
      "state": {
       "bar_style": "success",
       "description": "[13/30][Test][14] Loss_avg: 0.59162, Metric_avg: 0.4206: 100%",
       "layout": "IPY_MODEL_48071e910f484d688572e63b9ed301fe",
       "max": 15,
       "style": "IPY_MODEL_59902f5d66894ec68e0a61919bed33b8",
       "value": 15
      }
     },
     "531549df220a4289b495261d50437444": {
      "model_module": "@jupyter-widgets/base",
      "model_module_version": "1.2.0",
      "model_name": "LayoutModel",
      "state": {
       "display": "inline-flex",
       "flex_flow": "row wrap",
       "width": "100%"
      }
     },
     "532c71e51e304b60adff61988bf32c6f": {
      "model_module": "@jupyter-widgets/base",
      "model_module_version": "1.2.0",
      "model_name": "LayoutModel",
      "state": {
       "flex": "2"
      }
     },
     "5331733ed28a43778d4508e07f48c8d4": {
      "model_module": "@jupyter-widgets/controls",
      "model_module_version": "1.5.0",
      "model_name": "HTMLModel",
      "state": {
       "layout": "IPY_MODEL_5556835292e5478e90a3e57642905667",
       "style": "IPY_MODEL_9f81ccedcb6c4dc4a07ab80bde888910",
       "value": " 23/23 [00:09&lt;00:00,  2.54it/s]"
      }
     },
     "5342102686fe48baa8eb906f6710384c": {
      "model_module": "@jupyter-widgets/controls",
      "model_module_version": "1.5.0",
      "model_name": "DescriptionStyleModel",
      "state": {
       "description_width": ""
      }
     },
     "534de271fefa41c4b4861295e904d5ed": {
      "model_module": "@jupyter-widgets/controls",
      "model_module_version": "1.5.0",
      "model_name": "IntProgressModel",
      "state": {
       "bar_style": "success",
       "description": "[24/30][Train][22] Loss_avg: 0.17863, Loss: 0.1654, LR: 0.001: 100%",
       "layout": "IPY_MODEL_db5c10d879e04ba88f236703a96ad349",
       "max": 23,
       "style": "IPY_MODEL_e7d3b96b06364920910c804c96340280",
       "value": 23
      }
     },
     "54121b1199b347b58e08e7f8ed214ab6": {
      "model_module": "@jupyter-widgets/base",
      "model_module_version": "1.2.0",
      "model_name": "LayoutModel",
      "state": {}
     },
     "54765c0b7ab546b18bdc62b6c9559de9": {
      "model_module": "@jupyter-widgets/base",
      "model_module_version": "1.2.0",
      "model_name": "LayoutModel",
      "state": {
       "display": "inline-flex",
       "flex_flow": "row wrap",
       "width": "100%"
      }
     },
     "54fe2aa8d0134d6989ad55298ff242d7": {
      "model_module": "@jupyter-widgets/base",
      "model_module_version": "1.2.0",
      "model_name": "LayoutModel",
      "state": {}
     },
     "5500a0006ed64370a4b00c0504a77165": {
      "model_module": "@jupyter-widgets/controls",
      "model_module_version": "1.5.0",
      "model_name": "HBoxModel",
      "state": {
       "children": [
        "IPY_MODEL_6cc062dc7ba44c5f9187a0079c681ea1",
        "IPY_MODEL_db45d01ad73a4610b8b824df08b73f0f"
       ],
       "layout": "IPY_MODEL_f240b72a5c7a4c428eea126732436fff"
      }
     },
     "554e2ffae46f4c1d9abf5819b7f757c8": {
      "model_module": "@jupyter-widgets/controls",
      "model_module_version": "1.5.0",
      "model_name": "IntProgressModel",
      "state": {
       "bar_style": "success",
       "description": "[8/30][Train][22] Loss_avg: 0.29254, Loss: 0.28568, LR: 0.001: 100%",
       "layout": "IPY_MODEL_4d85e0ff36124884b3fb302f4bbc12e8",
       "max": 23,
       "style": "IPY_MODEL_683e5874a89c43c099a126e295376871",
       "value": 23
      }
     },
     "5556835292e5478e90a3e57642905667": {
      "model_module": "@jupyter-widgets/base",
      "model_module_version": "1.2.0",
      "model_name": "LayoutModel",
      "state": {}
     },
     "557e1b79c125461f9d998a99a400cd31": {
      "model_module": "@jupyter-widgets/base",
      "model_module_version": "1.2.0",
      "model_name": "LayoutModel",
      "state": {}
     },
     "55df8e9454d049e796e094de065355e8": {
      "model_module": "@jupyter-widgets/controls",
      "model_module_version": "1.5.0",
      "model_name": "ProgressStyleModel",
      "state": {
       "description_width": "initial"
      }
     },
     "55fcb573cbcb4498a04eb269d272abba": {
      "model_module": "@jupyter-widgets/controls",
      "model_module_version": "1.5.0",
      "model_name": "ProgressStyleModel",
      "state": {
       "description_width": "initial"
      }
     },
     "56834cac404144d8913b8277da2c527f": {
      "model_module": "@jupyter-widgets/base",
      "model_module_version": "1.2.0",
      "model_name": "LayoutModel",
      "state": {}
     },
     "56b60f4df74c4d3eb4b91e786ca38bc3": {
      "model_module": "@jupyter-widgets/base",
      "model_module_version": "1.2.0",
      "model_name": "LayoutModel",
      "state": {
       "display": "inline-flex",
       "flex_flow": "row wrap",
       "width": "100%"
      }
     },
     "5787c8ffae43415386a98d171b900a61": {
      "model_module": "@jupyter-widgets/controls",
      "model_module_version": "1.5.0",
      "model_name": "IntProgressModel",
      "state": {
       "bar_style": "success",
       "description": "[8/30][Test][14] Loss_avg: 0.79434, Metric_avg: 0.38733: 100%",
       "layout": "IPY_MODEL_d165142d0ed84175997f934f7d131ee9",
       "max": 15,
       "style": "IPY_MODEL_1d7b3235b6e246c18a581787490f4e8b",
       "value": 15
      }
     },
     "58a88abb558f44b98110dbb1929d2ea4": {
      "model_module": "@jupyter-widgets/base",
      "model_module_version": "1.2.0",
      "model_name": "LayoutModel",
      "state": {
       "flex": "2"
      }
     },
     "58c5ee16b3eb41d683556c74a4404f99": {
      "model_module": "@jupyter-widgets/controls",
      "model_module_version": "1.5.0",
      "model_name": "HTMLModel",
      "state": {
       "layout": "IPY_MODEL_3738d0a98b074029b18c1254e065d23a",
       "style": "IPY_MODEL_887ccd011cc24e2489b7e93d5ee15027",
       "value": " 15/15 [00:03&lt;00:00,  3.90it/s]"
      }
     },
     "58d9387496df4e88ad7a2547bcbb526c": {
      "model_module": "@jupyter-widgets/base",
      "model_module_version": "1.2.0",
      "model_name": "LayoutModel",
      "state": {
       "flex": "2"
      }
     },
     "590258bf4e5849a7a0e5396d28c0df4f": {
      "model_module": "@jupyter-widgets/controls",
      "model_module_version": "1.5.0",
      "model_name": "HBoxModel",
      "state": {
       "children": [
        "IPY_MODEL_59c70730f1f9474f963ca21beb8b1c45",
        "IPY_MODEL_9a5138f9ce364c5d88e6b30dc844576e"
       ],
       "layout": "IPY_MODEL_6f5d3ed0759b4167af56a4cd4dba8eed"
      }
     },
     "5959b915bedf42388298f666b8b5be0a": {
      "model_module": "@jupyter-widgets/controls",
      "model_module_version": "1.5.0",
      "model_name": "IntProgressModel",
      "state": {
       "bar_style": "success",
       "description": "[16/30][Train][22] Loss_avg: 0.26685, Loss: 0.19338, LR: 0.001: 100%",
       "layout": "IPY_MODEL_ef86fcaed401407cabfc6ea174ee704d",
       "max": 23,
       "style": "IPY_MODEL_0d59c99b16a14e2ebbd4b384d4712675",
       "value": 23
      }
     },
     "59739584bf9d4172b7bc78b99181f258": {
      "model_module": "@jupyter-widgets/base",
      "model_module_version": "1.2.0",
      "model_name": "LayoutModel",
      "state": {
       "display": "inline-flex",
       "flex_flow": "row wrap",
       "width": "100%"
      }
     },
     "59902f5d66894ec68e0a61919bed33b8": {
      "model_module": "@jupyter-widgets/controls",
      "model_module_version": "1.5.0",
      "model_name": "ProgressStyleModel",
      "state": {
       "description_width": "initial"
      }
     },
     "59a075921e81480cb4c36c02bf751e67": {
      "model_module": "@jupyter-widgets/base",
      "model_module_version": "1.2.0",
      "model_name": "LayoutModel",
      "state": {}
     },
     "59a23146eb064c8590065e69ed4d1b32": {
      "model_module": "@jupyter-widgets/controls",
      "model_module_version": "1.5.0",
      "model_name": "DescriptionStyleModel",
      "state": {
       "description_width": ""
      }
     },
     "59c70730f1f9474f963ca21beb8b1c45": {
      "model_module": "@jupyter-widgets/controls",
      "model_module_version": "1.5.0",
      "model_name": "IntProgressModel",
      "state": {
       "bar_style": "success",
       "description": "[20/30][Train][22] Loss_avg: 0.23248, Loss: 0.20162, LR: 0.001: 100%",
       "layout": "IPY_MODEL_58a88abb558f44b98110dbb1929d2ea4",
       "max": 23,
       "style": "IPY_MODEL_e26d4358b16a4737ac144d7ba9228859",
       "value": 23
      }
     },
     "59eb0331c00e47feb300935c54f46c2c": {
      "model_module": "@jupyter-widgets/controls",
      "model_module_version": "1.5.0",
      "model_name": "IntProgressModel",
      "state": {
       "bar_style": "success",
       "description": "[15/30][Test][14] Loss_avg: 0.40448, Metric_avg: 0.50793: 100%",
       "layout": "IPY_MODEL_c97d400c4f3d4d8ba48d7cb46a9d37b4",
       "max": 15,
       "style": "IPY_MODEL_cf5cc7f42344489b930e174a1c9aa879",
       "value": 15
      }
     },
     "5a25b578c3c146edb51a815f1d6ca02c": {
      "model_module": "@jupyter-widgets/base",
      "model_module_version": "1.2.0",
      "model_name": "LayoutModel",
      "state": {
       "flex": "2"
      }
     },
     "5a29de9112174bc4b0f7b27137e996c3": {
      "model_module": "@jupyter-widgets/base",
      "model_module_version": "1.2.0",
      "model_name": "LayoutModel",
      "state": {
       "display": "inline-flex",
       "flex_flow": "row wrap",
       "width": "100%"
      }
     },
     "5a70507c0f8546eba0e7a6ec08cf2325": {
      "model_module": "@jupyter-widgets/controls",
      "model_module_version": "1.5.0",
      "model_name": "DescriptionStyleModel",
      "state": {
       "description_width": ""
      }
     },
     "5b0a6fc18e4144639a2ff34e7b5c0a79": {
      "model_module": "@jupyter-widgets/controls",
      "model_module_version": "1.5.0",
      "model_name": "DescriptionStyleModel",
      "state": {
       "description_width": ""
      }
     },
     "5ba6b6e24500440793550ae5daeea35b": {
      "model_module": "@jupyter-widgets/controls",
      "model_module_version": "1.5.0",
      "model_name": "HBoxModel",
      "state": {
       "children": [
        "IPY_MODEL_554e2ffae46f4c1d9abf5819b7f757c8",
        "IPY_MODEL_2c03cab9a45d4b98b7fc994aa6bcf204"
       ],
       "layout": "IPY_MODEL_b22f426df6c74b55b4086626b3848cdc"
      }
     },
     "5baf3778e10044b09fdca5cb4b7d5f3a": {
      "model_module": "@jupyter-widgets/base",
      "model_module_version": "1.2.0",
      "model_name": "LayoutModel",
      "state": {
       "display": "inline-flex",
       "flex_flow": "row wrap",
       "width": "100%"
      }
     },
     "5bdedf2d9e0b4a399c475be63d215bb1": {
      "model_module": "@jupyter-widgets/base",
      "model_module_version": "1.2.0",
      "model_name": "LayoutModel",
      "state": {
       "display": "inline-flex",
       "flex_flow": "row wrap",
       "width": "100%"
      }
     },
     "5c3f56c6ecb046f781bd60c00096a737": {
      "model_module": "@jupyter-widgets/controls",
      "model_module_version": "1.5.0",
      "model_name": "HBoxModel",
      "state": {
       "children": [
        "IPY_MODEL_2d8d967008274d9480f01e156b7d437f",
        "IPY_MODEL_fffce8f3ef6046488faec45a32183646"
       ],
       "layout": "IPY_MODEL_82d2683a54e34699b42aa4d5675910e8"
      }
     },
     "5c669fe4583544148ae52d5248013617": {
      "model_module": "@jupyter-widgets/controls",
      "model_module_version": "1.5.0",
      "model_name": "IntProgressModel",
      "state": {
       "bar_style": "success",
       "description": "[5/30][Test][14] Loss_avg: 0.35931, Metric_avg: 0.50864: 100%",
       "layout": "IPY_MODEL_f70b615c9ce24edeb39a2f8fab99bcf1",
       "max": 15,
       "style": "IPY_MODEL_43e3cf4ffda8489b9f257281f6395589",
       "value": 15
      }
     },
     "5c90e24900734f1d8b887cc70588ef13": {
      "model_module": "@jupyter-widgets/base",
      "model_module_version": "1.2.0",
      "model_name": "LayoutModel",
      "state": {
       "display": "inline-flex",
       "flex_flow": "row wrap",
       "width": "100%"
      }
     },
     "5ce6a17734be410dae0d7c509144ff68": {
      "model_module": "@jupyter-widgets/controls",
      "model_module_version": "1.5.0",
      "model_name": "ProgressStyleModel",
      "state": {
       "description_width": "initial"
      }
     },
     "5d290f6ef277406baf8c32df03b6f117": {
      "model_module": "@jupyter-widgets/base",
      "model_module_version": "1.2.0",
      "model_name": "LayoutModel",
      "state": {
       "display": "inline-flex",
       "flex_flow": "row wrap",
       "width": "100%"
      }
     },
     "5d45bc89064242a0899218aae1cef9c4": {
      "model_module": "@jupyter-widgets/controls",
      "model_module_version": "1.5.0",
      "model_name": "DescriptionStyleModel",
      "state": {
       "description_width": ""
      }
     },
     "5e46be5a053f4cdf8242af43867cdc6c": {
      "model_module": "@jupyter-widgets/controls",
      "model_module_version": "1.5.0",
      "model_name": "HTMLModel",
      "state": {
       "layout": "IPY_MODEL_a0938c78314241c984daae64610d496e",
       "style": "IPY_MODEL_5a70507c0f8546eba0e7a6ec08cf2325",
       "value": " 23/23 [00:27&lt;00:00,  1.21s/it]"
      }
     },
     "5e79dc52115a4c6a86aa8b72f7115030": {
      "model_module": "@jupyter-widgets/base",
      "model_module_version": "1.2.0",
      "model_name": "LayoutModel",
      "state": {
       "display": "inline-flex",
       "flex_flow": "row wrap",
       "width": "100%"
      }
     },
     "5e7ff4e423f54077a66347989861cc7c": {
      "model_module": "@jupyter-widgets/controls",
      "model_module_version": "1.5.0",
      "model_name": "DescriptionStyleModel",
      "state": {
       "description_width": ""
      }
     },
     "5ece75be0a994743ac62c04126e51d44": {
      "model_module": "@jupyter-widgets/base",
      "model_module_version": "1.2.0",
      "model_name": "LayoutModel",
      "state": {
       "display": "inline-flex",
       "flex_flow": "row wrap",
       "width": "100%"
      }
     },
     "5f1617500aaa4abbba6e442d86628941": {
      "model_module": "@jupyter-widgets/controls",
      "model_module_version": "1.5.0",
      "model_name": "HBoxModel",
      "state": {
       "children": [
        "IPY_MODEL_c892f331c8074956b721bac8f9b6225e",
        "IPY_MODEL_fd37be40030e4f8ea520b359d6532430"
       ],
       "layout": "IPY_MODEL_1e57746d5c7842639c32284dad4af523"
      }
     },
     "5fb8fe62defc47758d5980bdfca26f69": {
      "model_module": "@jupyter-widgets/base",
      "model_module_version": "1.2.0",
      "model_name": "LayoutModel",
      "state": {
       "flex": "2"
      }
     },
     "5fff3ebe33964c5db85158e08ff9f411": {
      "model_module": "@jupyter-widgets/controls",
      "model_module_version": "1.5.0",
      "model_name": "DescriptionStyleModel",
      "state": {
       "description_width": ""
      }
     },
     "60271751d2af4c5db9bcf6c91f9bc1ed": {
      "model_module": "@jupyter-widgets/controls",
      "model_module_version": "1.5.0",
      "model_name": "DescriptionStyleModel",
      "state": {
       "description_width": ""
      }
     },
     "603a036e29104d5191a1e7c96713f3d8": {
      "model_module": "@jupyter-widgets/controls",
      "model_module_version": "1.5.0",
      "model_name": "HTMLModel",
      "state": {
       "layout": "IPY_MODEL_0f3540d192a54b2bbdb31c8318c97641",
       "style": "IPY_MODEL_285fb40b3daf4847a3c4c0ad328538c8",
       "value": " 23/23 [00:04&lt;00:00,  5.05it/s]"
      }
     },
     "60d90ef5b6f348ec86495a3e98eb3820": {
      "model_module": "@jupyter-widgets/controls",
      "model_module_version": "1.5.0",
      "model_name": "ProgressStyleModel",
      "state": {
       "description_width": "initial"
      }
     },
     "60fb69dea52242d196f9ee3a2990d249": {
      "model_module": "@jupyter-widgets/base",
      "model_module_version": "1.2.0",
      "model_name": "LayoutModel",
      "state": {
       "display": "inline-flex",
       "flex_flow": "row wrap",
       "width": "100%"
      }
     },
     "610f84e01f254270b81471d56743f879": {
      "model_module": "@jupyter-widgets/base",
      "model_module_version": "1.2.0",
      "model_name": "LayoutModel",
      "state": {
       "display": "inline-flex",
       "flex_flow": "row wrap",
       "width": "100%"
      }
     },
     "6123b7f8ef4248cab051a1bf7dbc5c91": {
      "model_module": "@jupyter-widgets/base",
      "model_module_version": "1.2.0",
      "model_name": "LayoutModel",
      "state": {
       "display": "inline-flex",
       "flex_flow": "row wrap",
       "width": "100%"
      }
     },
     "615079dcf0944ad09e9f7f6cd2ca4d9c": {
      "model_module": "@jupyter-widgets/base",
      "model_module_version": "1.2.0",
      "model_name": "LayoutModel",
      "state": {
       "flex": "2"
      }
     },
     "6165739ed3844642af2126db59cdb330": {
      "model_module": "@jupyter-widgets/controls",
      "model_module_version": "1.5.0",
      "model_name": "ProgressStyleModel",
      "state": {
       "description_width": "initial"
      }
     },
     "61693d7d831b49e78fe1587408e0b898": {
      "model_module": "@jupyter-widgets/base",
      "model_module_version": "1.2.0",
      "model_name": "LayoutModel",
      "state": {
       "flex": "2"
      }
     },
     "623aed6bda8f4d218b9f61aef6c3c77b": {
      "model_module": "@jupyter-widgets/base",
      "model_module_version": "1.2.0",
      "model_name": "LayoutModel",
      "state": {
       "display": "inline-flex",
       "flex_flow": "row wrap",
       "width": "100%"
      }
     },
     "62586a7a989c47da8c8c711c211137b8": {
      "model_module": "@jupyter-widgets/controls",
      "model_module_version": "1.5.0",
      "model_name": "ProgressStyleModel",
      "state": {
       "description_width": "initial"
      }
     },
     "62e581f87dce4317863050ced987712e": {
      "model_module": "@jupyter-widgets/base",
      "model_module_version": "1.2.0",
      "model_name": "LayoutModel",
      "state": {
       "flex": "2"
      }
     },
     "62eaf1ca20ec45cca5ccc1ab11ef13dc": {
      "model_module": "@jupyter-widgets/base",
      "model_module_version": "1.2.0",
      "model_name": "LayoutModel",
      "state": {}
     },
     "630531efcda54d1ea85bf80fbcbd8a5d": {
      "model_module": "@jupyter-widgets/controls",
      "model_module_version": "1.5.0",
      "model_name": "DescriptionStyleModel",
      "state": {
       "description_width": ""
      }
     },
     "630abe88962f4a9bb62fe7e705ab115c": {
      "model_module": "@jupyter-widgets/controls",
      "model_module_version": "1.5.0",
      "model_name": "HBoxModel",
      "state": {
       "children": [
        "IPY_MODEL_2cc5cd6f09b64c79affc86a0afa731d4",
        "IPY_MODEL_92df42acd07a46a88f84c19cbbb31d0f"
       ],
       "layout": "IPY_MODEL_1da2c13a15514a32a44643a209370073"
      }
     },
     "63850b7f4c3d442790f12992951a085b": {
      "model_module": "@jupyter-widgets/controls",
      "model_module_version": "1.5.0",
      "model_name": "IntProgressModel",
      "state": {
       "bar_style": "success",
       "description": "[28/30][Train][22] Loss_avg: 0.18174, Loss: 0.13168, LR: 0.001: 100%",
       "layout": "IPY_MODEL_7b495b88605548839f2d08f899bb36e7",
       "max": 23,
       "style": "IPY_MODEL_6cede9aa63264aaaaae6799238ee722b",
       "value": 23
      }
     },
     "63b30271d0cc470090cedbcbceecb416": {
      "model_module": "@jupyter-widgets/controls",
      "model_module_version": "1.5.0",
      "model_name": "IntProgressModel",
      "state": {
       "bar_style": "success",
       "description": "[14/30][Test][14] Loss_avg: 0.37948, Metric_avg: 0.50995: 100%",
       "layout": "IPY_MODEL_532c71e51e304b60adff61988bf32c6f",
       "max": 15,
       "style": "IPY_MODEL_7a2d76d6ee984349a954314c3725e7da",
       "value": 15
      }
     },
     "647f9eb60a1c47cda821a7d7f5672546": {
      "model_module": "@jupyter-widgets/base",
      "model_module_version": "1.2.0",
      "model_name": "LayoutModel",
      "state": {
       "display": "inline-flex",
       "flex_flow": "row wrap",
       "width": "100%"
      }
     },
     "64c9e297f9dc49aa91bd2c46b4f2f24e": {
      "model_module": "@jupyter-widgets/base",
      "model_module_version": "1.2.0",
      "model_name": "LayoutModel",
      "state": {
       "display": "inline-flex",
       "flex_flow": "row wrap",
       "width": "100%"
      }
     },
     "64fc467402784a4d9e757a182eb152c5": {
      "model_module": "@jupyter-widgets/controls",
      "model_module_version": "1.5.0",
      "model_name": "ProgressStyleModel",
      "state": {
       "description_width": "initial"
      }
     },
     "65039eddcdb24f958e847e1c3887159c": {
      "model_module": "@jupyter-widgets/controls",
      "model_module_version": "1.5.0",
      "model_name": "IntProgressModel",
      "state": {
       "bar_style": "success",
       "description": "[20/30][Test][14] Loss_avg: 0.33969, Metric_avg: 0.57917: 100%",
       "layout": "IPY_MODEL_d9031915d0a542a7a91e58be322da06c",
       "max": 15,
       "style": "IPY_MODEL_676565db334448c3a020d958c7c7bbce",
       "value": 15
      }
     },
     "6510fe194b5949c5b99ca10a746df798": {
      "model_module": "@jupyter-widgets/controls",
      "model_module_version": "1.5.0",
      "model_name": "ProgressStyleModel",
      "state": {
       "description_width": "initial"
      }
     },
     "6519157610594cec9d833e6cbbae8ca8": {
      "model_module": "@jupyter-widgets/controls",
      "model_module_version": "1.5.0",
      "model_name": "HBoxModel",
      "state": {
       "children": [
        "IPY_MODEL_373a80f649fc41c09d4f5516407028b2",
        "IPY_MODEL_b695b27f8e9e4e62ac8fa6619b152b9a"
       ],
       "layout": "IPY_MODEL_ab1f4617e3c9470eb7698d0e7f36f6d6"
      }
     },
     "65d95d55ad9c47818299782be17b2db2": {
      "model_module": "@jupyter-widgets/controls",
      "model_module_version": "1.5.0",
      "model_name": "HBoxModel",
      "state": {
       "children": [
        "IPY_MODEL_8e76f59e57e641739913ef1aa0ab3d9f",
        "IPY_MODEL_d37a19439cb740789e35318f0399c156"
       ],
       "layout": "IPY_MODEL_9b6641f45ede44ba87af28b1455ddc2f"
      }
     },
     "66212305cf2d460a82a460bfcf4b9b88": {
      "model_module": "@jupyter-widgets/controls",
      "model_module_version": "1.5.0",
      "model_name": "HBoxModel",
      "state": {
       "children": [
        "IPY_MODEL_040b9afc5b984cd7b9568a071858b6d5",
        "IPY_MODEL_7415a865ed22486c9bc90a8b5f8d1828"
       ],
       "layout": "IPY_MODEL_b48fb9b857fd49e1abb72ae1e9227c0d"
      }
     },
     "6675921fefd24ede8c3f4cc55d16c79a": {
      "model_module": "@jupyter-widgets/controls",
      "model_module_version": "1.5.0",
      "model_name": "DescriptionStyleModel",
      "state": {
       "description_width": ""
      }
     },
     "669645e360d04da185f8173660ad1492": {
      "model_module": "@jupyter-widgets/controls",
      "model_module_version": "1.5.0",
      "model_name": "ProgressStyleModel",
      "state": {
       "description_width": "initial"
      }
     },
     "66998490dcf8415daaf3342d2e99e77d": {
      "model_module": "@jupyter-widgets/controls",
      "model_module_version": "1.5.0",
      "model_name": "HBoxModel",
      "state": {
       "children": [
        "IPY_MODEL_aee91897944e4343bf6909868526d459",
        "IPY_MODEL_c0130a02de3d4e8d81a6de1ee9be1fe5"
       ],
       "layout": "IPY_MODEL_fe92444ff2a540c7a2a8f9c97ca79d55"
      }
     },
     "66ca5dfe51764e9ca6fb2c22b60acdae": {
      "model_module": "@jupyter-widgets/base",
      "model_module_version": "1.2.0",
      "model_name": "LayoutModel",
      "state": {
       "flex": "2"
      }
     },
     "6757d42da82147f8ba8d908c8b5be2f8": {
      "model_module": "@jupyter-widgets/controls",
      "model_module_version": "1.5.0",
      "model_name": "DescriptionStyleModel",
      "state": {
       "description_width": ""
      }
     },
     "676565db334448c3a020d958c7c7bbce": {
      "model_module": "@jupyter-widgets/controls",
      "model_module_version": "1.5.0",
      "model_name": "ProgressStyleModel",
      "state": {
       "description_width": "initial"
      }
     },
     "67e5648238c64cb39fbc20c40facc649": {
      "model_module": "@jupyter-widgets/controls",
      "model_module_version": "1.5.0",
      "model_name": "ProgressStyleModel",
      "state": {
       "description_width": "initial"
      }
     },
     "67f42ef2a3d548d4be53c236642a137d": {
      "model_module": "@jupyter-widgets/controls",
      "model_module_version": "1.5.0",
      "model_name": "HTMLModel",
      "state": {
       "layout": "IPY_MODEL_7eeb492a0c1148b1959a851d15f2d771",
       "style": "IPY_MODEL_47dfcb3cf193420aacd85b60365c5028",
       "value": " 23/23 [01:28&lt;00:00,  3.84s/it]"
      }
     },
     "680ef74aa01e4c8a8d9519e68fd6d772": {
      "model_module": "@jupyter-widgets/base",
      "model_module_version": "1.2.0",
      "model_name": "LayoutModel",
      "state": {
       "flex": "2"
      }
     },
     "682b4e81f7c344df9dc3f1c3f785f5a2": {
      "model_module": "@jupyter-widgets/base",
      "model_module_version": "1.2.0",
      "model_name": "LayoutModel",
      "state": {}
     },
     "683e5874a89c43c099a126e295376871": {
      "model_module": "@jupyter-widgets/controls",
      "model_module_version": "1.5.0",
      "model_name": "ProgressStyleModel",
      "state": {
       "description_width": "initial"
      }
     },
     "684fd86465264c6f9278c4c6f7f0fbb9": {
      "model_module": "@jupyter-widgets/base",
      "model_module_version": "1.2.0",
      "model_name": "LayoutModel",
      "state": {
       "flex": "2"
      }
     },
     "68bef10980e34f80a82a7ef72d8797d5": {
      "model_module": "@jupyter-widgets/base",
      "model_module_version": "1.2.0",
      "model_name": "LayoutModel",
      "state": {
       "display": "inline-flex",
       "flex_flow": "row wrap",
       "width": "100%"
      }
     },
     "69e55246613a4066903ce36f5fe13628": {
      "model_module": "@jupyter-widgets/base",
      "model_module_version": "1.2.0",
      "model_name": "LayoutModel",
      "state": {
       "flex": "2"
      }
     },
     "6a2b27a2506840319ee135780a29d7c1": {
      "model_module": "@jupyter-widgets/base",
      "model_module_version": "1.2.0",
      "model_name": "LayoutModel",
      "state": {}
     },
     "6a391614887e4616a7415ff9bd27780d": {
      "model_module": "@jupyter-widgets/controls",
      "model_module_version": "1.5.0",
      "model_name": "IntProgressModel",
      "state": {
       "bar_style": "success",
       "description": "[24/30][Test][14] Loss_avg: 0.30679, Metric_avg: 0.59353: 100%",
       "layout": "IPY_MODEL_ca10e226f8264815ae9eddb065afb9de",
       "max": 15,
       "style": "IPY_MODEL_4be73ffe2adb436c94a6f9969f522475",
       "value": 15
      }
     },
     "6a663eeed9b24e619cd95633586d9d19": {
      "model_module": "@jupyter-widgets/controls",
      "model_module_version": "1.5.0",
      "model_name": "ProgressStyleModel",
      "state": {
       "description_width": "initial"
      }
     },
     "6aaab86b018644be96c377d71194fae2": {
      "model_module": "@jupyter-widgets/controls",
      "model_module_version": "1.5.0",
      "model_name": "ProgressStyleModel",
      "state": {
       "description_width": "initial"
      }
     },
     "6aef813e5334411e9b9d8a5b077fa679": {
      "model_module": "@jupyter-widgets/base",
      "model_module_version": "1.2.0",
      "model_name": "LayoutModel",
      "state": {}
     },
     "6b2f9caf3f994f8d83912c45f104a774": {
      "model_module": "@jupyter-widgets/controls",
      "model_module_version": "1.5.0",
      "model_name": "ProgressStyleModel",
      "state": {
       "description_width": "initial"
      }
     },
     "6b60e224dfbb4663ad40143ff27a4445": {
      "model_module": "@jupyter-widgets/controls",
      "model_module_version": "1.5.0",
      "model_name": "HBoxModel",
      "state": {
       "children": [
        "IPY_MODEL_9a797842e98a4dad8eba9f75e95f2647",
        "IPY_MODEL_ec2f587d53e84c4fbbd9b970ca59d408"
       ],
       "layout": "IPY_MODEL_647f9eb60a1c47cda821a7d7f5672546"
      }
     },
     "6b86994eaebb4023b8f8ef9292d3e58f": {
      "model_module": "@jupyter-widgets/controls",
      "model_module_version": "1.5.0",
      "model_name": "IntProgressModel",
      "state": {
       "bar_style": "success",
       "description": "[3/30][Train][22] Loss_avg: 0.36951, Loss: 0.40145, LR: 0.001: 100%",
       "layout": "IPY_MODEL_8d58288ab68e4539b5eeb9ab0f7d89cd",
       "max": 23,
       "style": "IPY_MODEL_4c896e721e5249218ddffc8df25cdbf9",
       "value": 23
      }
     },
     "6bbf95505d844b0480b94b03708d9f98": {
      "model_module": "@jupyter-widgets/controls",
      "model_module_version": "1.5.0",
      "model_name": "HBoxModel",
      "state": {
       "children": [
        "IPY_MODEL_3d4b597fafa04253b8a7ebb97e1cd457",
        "IPY_MODEL_2cc2bdcf4d1c4da2ae5c1072f7657de8"
       ],
       "layout": "IPY_MODEL_abfc96820177411fb1035c7a18ddcc31"
      }
     },
     "6bc123afbf2f492f8649bebfb7e6cfb5": {
      "model_module": "@jupyter-widgets/controls",
      "model_module_version": "1.5.0",
      "model_name": "IntProgressModel",
      "state": {
       "bar_style": "success",
       "description": "[24/30][Test][14] Loss_avg: 0.38831, Metric_avg: 0.53333: 100%",
       "layout": "IPY_MODEL_afc3d47cf44448e7843d90c614a1ef60",
       "max": 15,
       "style": "IPY_MODEL_e02ebfdb7d6f458ba74f408943194aab",
       "value": 15
      }
     },
     "6c47d6b3574d4d0195a6f4916cedf796": {
      "model_module": "@jupyter-widgets/controls",
      "model_module_version": "1.5.0",
      "model_name": "DescriptionStyleModel",
      "state": {
       "description_width": ""
      }
     },
     "6c59380af00747079af12e8849ba3327": {
      "model_module": "@jupyter-widgets/controls",
      "model_module_version": "1.5.0",
      "model_name": "HTMLModel",
      "state": {
       "layout": "IPY_MODEL_b47a3f095723434ea8b8156e950d08f7",
       "style": "IPY_MODEL_0f721465bbe242aab07bb55ca9cbf6cb",
       "value": " 15/15 [00:03&lt;00:00,  3.86it/s]"
      }
     },
     "6cc062dc7ba44c5f9187a0079c681ea1": {
      "model_module": "@jupyter-widgets/controls",
      "model_module_version": "1.5.0",
      "model_name": "IntProgressModel",
      "state": {
       "bar_style": "success",
       "description": "[3/30][Test][14] Loss_avg: 0.76809, Metric_avg: 0.33255: 100%",
       "layout": "IPY_MODEL_4ca57effcc27415397f15ed31dd2c74c",
       "max": 15,
       "style": "IPY_MODEL_6aaab86b018644be96c377d71194fae2",
       "value": 15
      }
     },
     "6cede9aa63264aaaaae6799238ee722b": {
      "model_module": "@jupyter-widgets/controls",
      "model_module_version": "1.5.0",
      "model_name": "ProgressStyleModel",
      "state": {
       "description_width": "initial"
      }
     },
     "6db9c4f271224ef896a23a240326ab95": {
      "model_module": "@jupyter-widgets/controls",
      "model_module_version": "1.5.0",
      "model_name": "HBoxModel",
      "state": {
       "children": [
        "IPY_MODEL_5c669fe4583544148ae52d5248013617",
        "IPY_MODEL_520e06b6a6014a3ca2d6eb2df214526c"
       ],
       "layout": "IPY_MODEL_93fd555505f94502a039dd11f2fb363b"
      }
     },
     "6dba4206cdbb4971af12ccab32db2300": {
      "model_module": "@jupyter-widgets/base",
      "model_module_version": "1.2.0",
      "model_name": "LayoutModel",
      "state": {}
     },
     "6e3b7183ad2b43c99bedb6b85c15b647": {
      "model_module": "@jupyter-widgets/controls",
      "model_module_version": "1.5.0",
      "model_name": "IntProgressModel",
      "state": {
       "bar_style": "success",
       "description": "[27/30][Test][14] Loss_avg: 0.4151, Metric_avg: 0.5529: 100%",
       "layout": "IPY_MODEL_e91ecf04c91841c7b61dd8c53f8a3be2",
       "max": 15,
       "style": "IPY_MODEL_2c8db2ddc3294e05858c152dc0ec518f",
       "value": 15
      }
     },
     "6e4b65312b8248f7856f03a2efb11720": {
      "model_module": "@jupyter-widgets/base",
      "model_module_version": "1.2.0",
      "model_name": "LayoutModel",
      "state": {}
     },
     "6eb0b6f18fd84ea398234e713231f4e7": {
      "model_module": "@jupyter-widgets/controls",
      "model_module_version": "1.5.0",
      "model_name": "IntProgressModel",
      "state": {
       "bar_style": "success",
       "description": "[3/30][Test][14] Loss_avg: 0.47339, Metric_avg: 0.41078: 100%",
       "layout": "IPY_MODEL_0490ad8511744e42917d779bb5b73fd1",
       "max": 15,
       "style": "IPY_MODEL_452b53ab84a04626a4ba83dc1ce35770",
       "value": 15
      }
     },
     "6f2fc7ec762e4eeea8b8efd46dac3c9b": {
      "model_module": "@jupyter-widgets/controls",
      "model_module_version": "1.5.0",
      "model_name": "HTMLModel",
      "state": {
       "layout": "IPY_MODEL_8d2e26749b524d69bf09c7812ffec00e",
       "style": "IPY_MODEL_fe7ec4331e85443d9bf788c6120e40f9",
       "value": " 23/23 [00:04&lt;00:00,  4.63it/s]"
      }
     },
     "6f5d3ed0759b4167af56a4cd4dba8eed": {
      "model_module": "@jupyter-widgets/base",
      "model_module_version": "1.2.0",
      "model_name": "LayoutModel",
      "state": {
       "display": "inline-flex",
       "flex_flow": "row wrap",
       "width": "100%"
      }
     },
     "7094a8b32e624badadd8aa0a8e9380f9": {
      "model_module": "@jupyter-widgets/controls",
      "model_module_version": "1.5.0",
      "model_name": "IntProgressModel",
      "state": {
       "bar_style": "success",
       "description": "[2/30][Train][22] Loss_avg: 0.41865, Loss: 0.42774, LR: 0.001: 100%",
       "layout": "IPY_MODEL_9514d1c0f40e467e8c97c7e8bf9edd82",
       "max": 23,
       "style": "IPY_MODEL_e8fe52db58f34694bc1e514e7b9bfba0",
       "value": 23
      }
     },
     "70c27969181b4694963bd00eb7cb8441": {
      "model_module": "@jupyter-widgets/base",
      "model_module_version": "1.2.0",
      "model_name": "LayoutModel",
      "state": {
       "display": "inline-flex",
       "flex_flow": "row wrap",
       "width": "100%"
      }
     },
     "71375baec1fe4a88a10fe1a7a213df9d": {
      "model_module": "@jupyter-widgets/controls",
      "model_module_version": "1.5.0",
      "model_name": "HTMLModel",
      "state": {
       "layout": "IPY_MODEL_830512da72174c72baf1840ad0ea1bdb",
       "style": "IPY_MODEL_e1b117e480c4439fb71416290f99cf3b",
       "value": " 233/233 [00:14&lt;00:00, 15.73it/s]"
      }
     },
     "72347c87bcc540b28f4f89f1417b98d7": {
      "model_module": "@jupyter-widgets/controls",
      "model_module_version": "1.5.0",
      "model_name": "IntProgressModel",
      "state": {
       "bar_style": "success",
       "description": "[26/30][Test][14] Loss_avg: 0.30498, Metric_avg: 0.59012: 100%",
       "layout": "IPY_MODEL_4c02241939aa4eb59b433929b5c5ff29",
       "max": 15,
       "style": "IPY_MODEL_3344ac9cae9f450aa465112e095160d8",
       "value": 15
      }
     },
     "72742d387136488897a2a5ab7e256a16": {
      "model_module": "@jupyter-widgets/controls",
      "model_module_version": "1.5.0",
      "model_name": "ProgressStyleModel",
      "state": {
       "description_width": "initial"
      }
     },
     "72886f87011e4edc85c6ae91bd80e15c": {
      "model_module": "@jupyter-widgets/controls",
      "model_module_version": "1.5.0",
      "model_name": "HTMLModel",
      "state": {
       "layout": "IPY_MODEL_fdf24bb7911347daaf8d57ceafda1218",
       "style": "IPY_MODEL_f504bd490a4d4d76bda7cf089eac1a68",
       "value": " 15/15 [00:22&lt;00:00,  1.51s/it]"
      }
     },
     "72a68cd7504d478e9d600ce479392005": {
      "model_module": "@jupyter-widgets/base",
      "model_module_version": "1.2.0",
      "model_name": "LayoutModel",
      "state": {
       "flex": "2"
      }
     },
     "73099287dddb4dbcbb9f1017687d1acd": {
      "model_module": "@jupyter-widgets/controls",
      "model_module_version": "1.5.0",
      "model_name": "HTMLModel",
      "state": {
       "layout": "IPY_MODEL_54121b1199b347b58e08e7f8ed214ab6",
       "style": "IPY_MODEL_c403d0fe91c240d5acfc021208359510",
       "value": " 15/15 [00:26&lt;00:00,  1.75s/it]"
      }
     },
     "733dbb4304a94ba2b20c22cde23d0862": {
      "model_module": "@jupyter-widgets/controls",
      "model_module_version": "1.5.0",
      "model_name": "DescriptionStyleModel",
      "state": {
       "description_width": ""
      }
     },
     "7352d5857a2d49e9a10974367f354745": {
      "model_module": "@jupyter-widgets/controls",
      "model_module_version": "1.5.0",
      "model_name": "IntProgressModel",
      "state": {
       "bar_style": "success",
       "description": "[20/30][Train][22] Loss_avg: 0.19575, Loss: 0.18089, LR: 0.001: 100%",
       "layout": "IPY_MODEL_22e518437a35489f8c5eadad1909ba44",
       "max": 23,
       "style": "IPY_MODEL_9dc26f0c280f4ff4a612c6a705c6139f",
       "value": 23
      }
     },
     "73633e2582ba4e549ef9f5af0ff0658d": {
      "model_module": "@jupyter-widgets/controls",
      "model_module_version": "1.5.0",
      "model_name": "HTMLModel",
      "state": {
       "layout": "IPY_MODEL_fe3a993715d648db9f8c0ec7d55631e1",
       "style": "IPY_MODEL_a458957a82e944c6838c7a336e2fd09c",
       "value": " 15/15 [02:29&lt;00:00,  9.96s/it]"
      }
     },
     "7375425c482d4ac2835fbc99b692fc1a": {
      "model_module": "@jupyter-widgets/controls",
      "model_module_version": "1.5.0",
      "model_name": "DescriptionStyleModel",
      "state": {
       "description_width": ""
      }
     },
     "738d9e2736454b498ca4ed4eb64b7765": {
      "model_module": "@jupyter-widgets/base",
      "model_module_version": "1.2.0",
      "model_name": "LayoutModel",
      "state": {
       "display": "inline-flex",
       "flex_flow": "row wrap",
       "width": "100%"
      }
     },
     "73b0d412d02b4861a298103ccc777004": {
      "model_module": "@jupyter-widgets/controls",
      "model_module_version": "1.5.0",
      "model_name": "HBoxModel",
      "state": {
       "children": [
        "IPY_MODEL_87f02ccfae104850a09a3fa0246894b4",
        "IPY_MODEL_ff944fde815f473a9702de87357f5e13"
       ],
       "layout": "IPY_MODEL_0878a7978c584610ae4b3dac371dce08"
      }
     },
     "74132a580a934b0f99897d2dbf31c001": {
      "model_module": "@jupyter-widgets/base",
      "model_module_version": "1.2.0",
      "model_name": "LayoutModel",
      "state": {}
     },
     "7415a865ed22486c9bc90a8b5f8d1828": {
      "model_module": "@jupyter-widgets/controls",
      "model_module_version": "1.5.0",
      "model_name": "HTMLModel",
      "state": {
       "layout": "IPY_MODEL_2d3caf32992942f2ad6be61a5e415409",
       "style": "IPY_MODEL_9dc9bbeca55244b8b8d90fc05b453a56",
       "value": " 15/15 [00:22&lt;00:00,  1.51s/it]"
      }
     },
     "742c20b17a7347328b5875e37aff8120": {
      "model_module": "@jupyter-widgets/controls",
      "model_module_version": "1.5.0",
      "model_name": "ProgressStyleModel",
      "state": {
       "description_width": "initial"
      }
     },
     "742edfc4c48346a0a3a8149b6b160547": {
      "model_module": "@jupyter-widgets/controls",
      "model_module_version": "1.5.0",
      "model_name": "ProgressStyleModel",
      "state": {
       "description_width": "initial"
      }
     },
     "745f9cd25d0f4fe9a39854fcb9e17539": {
      "model_module": "@jupyter-widgets/controls",
      "model_module_version": "1.5.0",
      "model_name": "DescriptionStyleModel",
      "state": {
       "description_width": ""
      }
     },
     "7524afb1e3f94d80be22ed8d2bca002e": {
      "model_module": "@jupyter-widgets/base",
      "model_module_version": "1.2.0",
      "model_name": "LayoutModel",
      "state": {
       "flex": "2"
      }
     },
     "75b98cde7f17434297405303ec132d05": {
      "model_module": "@jupyter-widgets/controls",
      "model_module_version": "1.5.0",
      "model_name": "ProgressStyleModel",
      "state": {
       "description_width": "initial"
      }
     },
     "75e0bf4caf554a5e8c88a14bc9f41df7": {
      "model_module": "@jupyter-widgets/controls",
      "model_module_version": "1.5.0",
      "model_name": "IntProgressModel",
      "state": {
       "bar_style": "success",
       "description": "[4/30][Test][14] Loss_avg: 0.63915, Metric_avg: 0.43923: 100%",
       "layout": "IPY_MODEL_97d5b0cbbe99448e83998ee5f9f60649",
       "max": 15,
       "style": "IPY_MODEL_9719d7e715844e569831d33e05da2736",
       "value": 15
      }
     },
     "767746430ae84b4188739679baa49ca2": {
      "model_module": "@jupyter-widgets/controls",
      "model_module_version": "1.5.0",
      "model_name": "HBoxModel",
      "state": {
       "children": [
        "IPY_MODEL_9363fbdb05bf4c93bfc98107d95fd34c",
        "IPY_MODEL_2d053f7f67c649da8c4468b8156745f2"
       ],
       "layout": "IPY_MODEL_a11005202be144a3955c19352a4b77e7"
      }
     },
     "770f480ccb784964aee55358f7853161": {
      "model_module": "@jupyter-widgets/controls",
      "model_module_version": "1.5.0",
      "model_name": "HTMLModel",
      "state": {
       "layout": "IPY_MODEL_f83a4c6bda244591b1ecb0a155cb69c5",
       "style": "IPY_MODEL_adf158e6d66843e09ac6ba145d2ee7e2",
       "value": " 15/15 [00:03&lt;00:00,  3.83it/s]"
      }
     },
     "77e9ee242be44c2990307b1f6fbb8b88": {
      "model_module": "@jupyter-widgets/controls",
      "model_module_version": "1.5.0",
      "model_name": "IntProgressModel",
      "state": {
       "bar_style": "success",
       "description": "[22/30][Test][14] Loss_avg: 0.33083, Metric_avg: 0.57985: 100%",
       "layout": "IPY_MODEL_a10efbadb70c44179c47fad8cfd9403b",
       "max": 15,
       "style": "IPY_MODEL_60d90ef5b6f348ec86495a3e98eb3820",
       "value": 15
      }
     },
     "780a032f977b405c89c2c8b3bb60e533": {
      "model_module": "@jupyter-widgets/controls",
      "model_module_version": "1.5.0",
      "model_name": "HTMLModel",
      "state": {
       "layout": "IPY_MODEL_1ebdb7d8995646dc9194246a1c1c47ba",
       "style": "IPY_MODEL_aec8b60a1db842f9ba4224dcbc116f90",
       "value": " 23/23 [00:37&lt;00:00,  1.62s/it]"
      }
     },
     "781d63d8955d41adbd4965def730d30b": {
      "model_module": "@jupyter-widgets/base",
      "model_module_version": "1.2.0",
      "model_name": "LayoutModel",
      "state": {}
     },
     "7836842afcb04e2c9bd5ba11263567f9": {
      "model_module": "@jupyter-widgets/base",
      "model_module_version": "1.2.0",
      "model_name": "LayoutModel",
      "state": {}
     },
     "7864557fdde74bdd8193a7d21b1082fb": {
      "model_module": "@jupyter-widgets/base",
      "model_module_version": "1.2.0",
      "model_name": "LayoutModel",
      "state": {}
     },
     "7883e0a4f9be4174885acaafd73ef019": {
      "model_module": "@jupyter-widgets/controls",
      "model_module_version": "1.5.0",
      "model_name": "IntProgressModel",
      "state": {
       "bar_style": "success",
       "description": "[6/30][Train][22] Loss_avg: 0.27929, Loss: 0.29427, LR: 0.001: 100%",
       "layout": "IPY_MODEL_0b9dbfe0bd3b4722956084e5d062ae25",
       "max": 23,
       "style": "IPY_MODEL_f864e40a01d943f6ab8fc5f00b254d4a",
       "value": 23
      }
     },
     "789a44e4d7294e1d93552a69fbdd324c": {
      "model_module": "@jupyter-widgets/base",
      "model_module_version": "1.2.0",
      "model_name": "LayoutModel",
      "state": {
       "flex": "2"
      }
     },
     "78d1055abbf54fb4abd7ca3e48aad937": {
      "model_module": "@jupyter-widgets/base",
      "model_module_version": "1.2.0",
      "model_name": "LayoutModel",
      "state": {}
     },
     "7925522e986349e58ab6d43ad232504f": {
      "model_module": "@jupyter-widgets/base",
      "model_module_version": "1.2.0",
      "model_name": "LayoutModel",
      "state": {}
     },
     "792a13671eb14a7fa8d51aaa097d0dc3": {
      "model_module": "@jupyter-widgets/controls",
      "model_module_version": "1.5.0",
      "model_name": "ProgressStyleModel",
      "state": {
       "description_width": "initial"
      }
     },
     "79f884c1ef9a4a2a8ed0814056b1027b": {
      "model_module": "@jupyter-widgets/base",
      "model_module_version": "1.2.0",
      "model_name": "LayoutModel",
      "state": {
       "flex": "2"
      }
     },
     "7a0e796293f94890b57cbf5c10632683": {
      "model_module": "@jupyter-widgets/controls",
      "model_module_version": "1.5.0",
      "model_name": "DescriptionStyleModel",
      "state": {
       "description_width": ""
      }
     },
     "7a2d76d6ee984349a954314c3725e7da": {
      "model_module": "@jupyter-widgets/controls",
      "model_module_version": "1.5.0",
      "model_name": "ProgressStyleModel",
      "state": {
       "description_width": "initial"
      }
     },
     "7aade48741eb4015815dd2c669ff7e88": {
      "model_module": "@jupyter-widgets/base",
      "model_module_version": "1.2.0",
      "model_name": "LayoutModel",
      "state": {
       "flex": "2"
      }
     },
     "7af32975a1ad4c5c9ab3f194f75ffec8": {
      "model_module": "@jupyter-widgets/base",
      "model_module_version": "1.2.0",
      "model_name": "LayoutModel",
      "state": {
       "display": "inline-flex",
       "flex_flow": "row wrap",
       "width": "100%"
      }
     },
     "7b170b5118e14c3db6d979cc52ae12d7": {
      "model_module": "@jupyter-widgets/base",
      "model_module_version": "1.2.0",
      "model_name": "LayoutModel",
      "state": {
       "display": "inline-flex",
       "flex_flow": "row wrap",
       "width": "100%"
      }
     },
     "7b495b88605548839f2d08f899bb36e7": {
      "model_module": "@jupyter-widgets/base",
      "model_module_version": "1.2.0",
      "model_name": "LayoutModel",
      "state": {
       "flex": "2"
      }
     },
     "7b4a2637035c4514a41adb10f8afa4e2": {
      "model_module": "@jupyter-widgets/base",
      "model_module_version": "1.2.0",
      "model_name": "LayoutModel",
      "state": {}
     },
     "7bd1ad9ab5eb4528bb121470cef16b27": {
      "model_module": "@jupyter-widgets/controls",
      "model_module_version": "1.5.0",
      "model_name": "ProgressStyleModel",
      "state": {
       "description_width": "initial"
      }
     },
     "7ce3ceee320647e7981241da3aaa3133": {
      "model_module": "@jupyter-widgets/controls",
      "model_module_version": "1.5.0",
      "model_name": "HBoxModel",
      "state": {
       "children": [
        "IPY_MODEL_a03b30bc0ac6434a88203b5946da766e",
        "IPY_MODEL_a11ce615df634e5da47c6f17c50bbc55"
       ],
       "layout": "IPY_MODEL_6123b7f8ef4248cab051a1bf7dbc5c91"
      }
     },
     "7ceeb5a823e34a398a29aaf3064721cd": {
      "model_module": "@jupyter-widgets/controls",
      "model_module_version": "1.5.0",
      "model_name": "HTMLModel",
      "state": {
       "layout": "IPY_MODEL_bca54d166ec94cd793b944a1e022f3fc",
       "style": "IPY_MODEL_5e7ff4e423f54077a66347989861cc7c",
       "value": " 15/15 [00:12&lt;00:00,  1.19it/s]"
      }
     },
     "7d73de28270d482b8d534a03d4089a45": {
      "model_module": "@jupyter-widgets/controls",
      "model_module_version": "1.5.0",
      "model_name": "IntProgressModel",
      "state": {
       "bar_style": "success",
       "description": "[21/30][Test][14] Loss_avg: 0.3147, Metric_avg: 0.57367: 100%",
       "layout": "IPY_MODEL_e1ba30bd99344fcdaa7a4e666fc2789e",
       "max": 15,
       "style": "IPY_MODEL_f338e0b4a22b4aea95990ed48b7008f2",
       "value": 15
      }
     },
     "7db8520b95734fa5a7988ca470dd1025": {
      "model_module": "@jupyter-widgets/base",
      "model_module_version": "1.2.0",
      "model_name": "LayoutModel",
      "state": {}
     },
     "7db990ca79d54b8b8e8f32085cc33909": {
      "model_module": "@jupyter-widgets/controls",
      "model_module_version": "1.5.0",
      "model_name": "HBoxModel",
      "state": {
       "children": [
        "IPY_MODEL_7e537454b1784069bf34f7046ce3ec26",
        "IPY_MODEL_9b9caa793311423ebd3717b0e551b2a1"
       ],
       "layout": "IPY_MODEL_cddaaa63f38c4eaba03a7cb62b4550ec"
      }
     },
     "7de17fcbbc9e4006bfb4110ed6319a78": {
      "model_module": "@jupyter-widgets/controls",
      "model_module_version": "1.5.0",
      "model_name": "DescriptionStyleModel",
      "state": {
       "description_width": ""
      }
     },
     "7e35e8a23f9644bab977979c215a1f50": {
      "model_module": "@jupyter-widgets/base",
      "model_module_version": "1.2.0",
      "model_name": "LayoutModel",
      "state": {}
     },
     "7e537454b1784069bf34f7046ce3ec26": {
      "model_module": "@jupyter-widgets/controls",
      "model_module_version": "1.5.0",
      "model_name": "IntProgressModel",
      "state": {
       "bar_style": "success",
       "description": "[17/30][Train][22] Loss_avg: 0.2087, Loss: 0.2141, LR: 0.001: 100%",
       "layout": "IPY_MODEL_b6025803093643ed968f4d5fceb561b4",
       "max": 23,
       "style": "IPY_MODEL_eb705469fee349909d0dc93b744c9790",
       "value": 23
      }
     },
     "7e6b729c59344112b381aeb71c96f5f3": {
      "model_module": "@jupyter-widgets/controls",
      "model_module_version": "1.5.0",
      "model_name": "ProgressStyleModel",
      "state": {
       "description_width": "initial"
      }
     },
     "7eb2dad137d2465a861c6056f9e93315": {
      "model_module": "@jupyter-widgets/base",
      "model_module_version": "1.2.0",
      "model_name": "LayoutModel",
      "state": {}
     },
     "7eeb492a0c1148b1959a851d15f2d771": {
      "model_module": "@jupyter-widgets/base",
      "model_module_version": "1.2.0",
      "model_name": "LayoutModel",
      "state": {}
     },
     "7f340da79bf74639be967517b1747e27": {
      "model_module": "@jupyter-widgets/controls",
      "model_module_version": "1.5.0",
      "model_name": "HBoxModel",
      "state": {
       "children": [
        "IPY_MODEL_ba834f7b02fa4eea97d9822ea38f60f7",
        "IPY_MODEL_bdfb00d23b67400593f77389c1c0747e"
       ],
       "layout": "IPY_MODEL_2dc77ea041f14c09a939d2d097fa8380"
      }
     },
     "7f4bedbb46e9450680e0adf79e73eff3": {
      "model_module": "@jupyter-widgets/controls",
      "model_module_version": "1.5.0",
      "model_name": "HBoxModel",
      "state": {
       "children": [
        "IPY_MODEL_0e5882be5a8340b3859f160379d48d17",
        "IPY_MODEL_424834586d1b42db8c6d4f81a3dd8552"
       ],
       "layout": "IPY_MODEL_063fd144102d413d8fa4d3c489f6b294"
      }
     },
     "7f6b7482b5af460fbd8b9e508eae918b": {
      "model_module": "@jupyter-widgets/controls",
      "model_module_version": "1.5.0",
      "model_name": "ProgressStyleModel",
      "state": {
       "description_width": "initial"
      }
     },
     "7f78f03a44df4c4b9b07854b3d5d3005": {
      "model_module": "@jupyter-widgets/controls",
      "model_module_version": "1.5.0",
      "model_name": "IntProgressModel",
      "state": {
       "bar_style": "success",
       "description": "[17/30][Train][22] Loss_avg: 0.2565, Loss: 0.27912, LR: 0.001: 100%",
       "layout": "IPY_MODEL_22ac54c75c2e49edafe11a2d1426590c",
       "max": 23,
       "style": "IPY_MODEL_8341ff7fa086479b84b548e32decf470",
       "value": 23
      }
     },
     "7fc21cd4307641f4a18383617f39652f": {
      "model_module": "@jupyter-widgets/controls",
      "model_module_version": "1.5.0",
      "model_name": "IntProgressModel",
      "state": {
       "bar_style": "success",
       "description": "[19/30][Train][22] Loss_avg: 0.22767, Loss: 0.23134, LR: 0.001: 100%",
       "layout": "IPY_MODEL_da84fb937f664df1be96dc90b5b0ab41",
       "max": 23,
       "style": "IPY_MODEL_97e0bfc8962c42b9b672d4c91a77b135",
       "value": 23
      }
     },
     "805f418c0f13441fa78b4973284d2ac6": {
      "model_module": "@jupyter-widgets/base",
      "model_module_version": "1.2.0",
      "model_name": "LayoutModel",
      "state": {}
     },
     "80e5e04cc1234202bad967ecc1324d72": {
      "model_module": "@jupyter-widgets/controls",
      "model_module_version": "1.5.0",
      "model_name": "IntProgressModel",
      "state": {
       "bar_style": "success",
       "description": "[16/30][Test][14] Loss_avg: 0.3056, Metric_avg: 0.59999: 100%",
       "layout": "IPY_MODEL_cc77e92a0a6e4886a9898aae35a0dd09",
       "max": 15,
       "style": "IPY_MODEL_4b1b885fc2d44e0f9266710a4db69ff8",
       "value": 15
      }
     },
     "80e8d44dc2e144d4a59c4ccb7f7451a7": {
      "model_module": "@jupyter-widgets/controls",
      "model_module_version": "1.5.0",
      "model_name": "DescriptionStyleModel",
      "state": {
       "description_width": ""
      }
     },
     "8123ee1a238442568317041f691ac0cc": {
      "model_module": "@jupyter-widgets/controls",
      "model_module_version": "1.5.0",
      "model_name": "HTMLModel",
      "state": {
       "layout": "IPY_MODEL_682b4e81f7c344df9dc3f1c3f785f5a2",
       "style": "IPY_MODEL_830dc62b5b4d4cfa8b3c95a281c39bfa",
       "value": " 15/15 [00:03&lt;00:00,  3.89it/s]"
      }
     },
     "814be7df350b48208ac4c5b680caaf14": {
      "model_module": "@jupyter-widgets/controls",
      "model_module_version": "1.5.0",
      "model_name": "HTMLModel",
      "state": {
       "layout": "IPY_MODEL_f938df38e2764d9c8ce5b8a2e81a8f40",
       "style": "IPY_MODEL_041a2159844c4f4b844ce584852f4968",
       "value": " 15/15 [00:12&lt;00:00,  1.20it/s]"
      }
     },
     "8150697ef6c84c99b78ff8fa46a93ccf": {
      "model_module": "@jupyter-widgets/controls",
      "model_module_version": "1.5.0",
      "model_name": "HTMLModel",
      "state": {
       "layout": "IPY_MODEL_a0610850864c4a75adcc89d7db533548",
       "style": "IPY_MODEL_2632654468b640aeafc10a9fb3241a57",
       "value": " 23/23 [00:28&lt;00:00,  1.23s/it]"
      }
     },
     "81a52e9d405d411cb3d6cddc4c230508": {
      "model_module": "@jupyter-widgets/base",
      "model_module_version": "1.2.0",
      "model_name": "LayoutModel",
      "state": {
       "flex": "2"
      }
     },
     "81b06b0a78934a88b346ecb850c8c9ae": {
      "model_module": "@jupyter-widgets/controls",
      "model_module_version": "1.5.0",
      "model_name": "HTMLModel",
      "state": {
       "layout": "IPY_MODEL_8ac2d84e69b948f4acecab09a4375120",
       "style": "IPY_MODEL_9a635cab6cdb4e8bbf03d996f896ccf1",
       "value": " 15/15 [00:17&lt;00:00,  1.18s/it]"
      }
     },
     "81b141955dcd404ea8e6aa41d2eede95": {
      "model_module": "@jupyter-widgets/controls",
      "model_module_version": "1.5.0",
      "model_name": "IntProgressModel",
      "state": {
       "bar_style": "success",
       "description": "[9/30][Test][14] Loss_avg: 0.61522, Metric_avg: 0.42548: 100%",
       "layout": "IPY_MODEL_62e581f87dce4317863050ced987712e",
       "max": 15,
       "style": "IPY_MODEL_f4ff147092894132a5b88e139c3174a1",
       "value": 15
      }
     },
     "81ee67fc54f844e1b523c4c95a654a75": {
      "model_module": "@jupyter-widgets/controls",
      "model_module_version": "1.5.0",
      "model_name": "HTMLModel",
      "state": {
       "layout": "IPY_MODEL_6e4b65312b8248f7856f03a2efb11720",
       "style": "IPY_MODEL_b54fcc1cb3ab41f0a41b5c6bbc224be9",
       "value": " 15/15 [00:28&lt;00:00,  1.92s/it]"
      }
     },
     "821040b2abbe49c1881dadc117e93921": {
      "model_module": "@jupyter-widgets/base",
      "model_module_version": "1.2.0",
      "model_name": "LayoutModel",
      "state": {
       "display": "inline-flex",
       "flex_flow": "row wrap",
       "width": "100%"
      }
     },
     "8226b8334ada4eee9325207b9e0d7fd8": {
      "model_module": "@jupyter-widgets/base",
      "model_module_version": "1.2.0",
      "model_name": "LayoutModel",
      "state": {
       "flex": "2"
      }
     },
     "826fa5c3dc254cbb82461b74d4597c5c": {
      "model_module": "@jupyter-widgets/base",
      "model_module_version": "1.2.0",
      "model_name": "LayoutModel",
      "state": {}
     },
     "82a56b3f70bd4946861b312db7b345e4": {
      "model_module": "@jupyter-widgets/controls",
      "model_module_version": "1.5.0",
      "model_name": "HBoxModel",
      "state": {
       "children": [
        "IPY_MODEL_75e0bf4caf554a5e8c88a14bc9f41df7",
        "IPY_MODEL_eb8fce132ead4d5ab4fbf92378d5ff39"
       ],
       "layout": "IPY_MODEL_da60cd09aee24226ac2b8f019a3fd6da"
      }
     },
     "82c6c32d319b41d8a90411be0cf7f473": {
      "model_module": "@jupyter-widgets/controls",
      "model_module_version": "1.5.0",
      "model_name": "HTMLModel",
      "state": {
       "layout": "IPY_MODEL_465b5c2048844fc0923d2b3da99569d3",
       "style": "IPY_MODEL_2327edcb593142d7a0d1a7df5c527413",
       "value": " 15/15 [00:03&lt;00:00,  3.83it/s]"
      }
     },
     "82d2683a54e34699b42aa4d5675910e8": {
      "model_module": "@jupyter-widgets/base",
      "model_module_version": "1.2.0",
      "model_name": "LayoutModel",
      "state": {
       "display": "inline-flex",
       "flex_flow": "row wrap",
       "width": "100%"
      }
     },
     "82d3185c1b4d4684a86d81745d8851e8": {
      "model_module": "@jupyter-widgets/base",
      "model_module_version": "1.2.0",
      "model_name": "LayoutModel",
      "state": {
       "display": "inline-flex",
       "flex_flow": "row wrap",
       "width": "100%"
      }
     },
     "82fa917c8d244328a11f65ca204471b8": {
      "model_module": "@jupyter-widgets/base",
      "model_module_version": "1.2.0",
      "model_name": "LayoutModel",
      "state": {
       "flex": "2"
      }
     },
     "830512da72174c72baf1840ad0ea1bdb": {
      "model_module": "@jupyter-widgets/base",
      "model_module_version": "1.2.0",
      "model_name": "LayoutModel",
      "state": {}
     },
     "830dc62b5b4d4cfa8b3c95a281c39bfa": {
      "model_module": "@jupyter-widgets/controls",
      "model_module_version": "1.5.0",
      "model_name": "DescriptionStyleModel",
      "state": {
       "description_width": ""
      }
     },
     "833eb3a2078f4e82b4cf396f29f1e0b8": {
      "model_module": "@jupyter-widgets/controls",
      "model_module_version": "1.5.0",
      "model_name": "HBoxModel",
      "state": {
       "children": [
        "IPY_MODEL_f3963b668927436eb52a45b0bbcdd4f5",
        "IPY_MODEL_881ff119745f4660a8afb335f9b8187d"
       ],
       "layout": "IPY_MODEL_5ece75be0a994743ac62c04126e51d44"
      }
     },
     "8341ff7fa086479b84b548e32decf470": {
      "model_module": "@jupyter-widgets/controls",
      "model_module_version": "1.5.0",
      "model_name": "ProgressStyleModel",
      "state": {
       "description_width": "initial"
      }
     },
     "83dfc69671f44ee9ae942a2941113c72": {
      "model_module": "@jupyter-widgets/base",
      "model_module_version": "1.2.0",
      "model_name": "LayoutModel",
      "state": {
       "display": "inline-flex",
       "flex_flow": "row wrap",
       "width": "100%"
      }
     },
     "83e84ad9c2db4240b5b6eeadf092fb84": {
      "model_module": "@jupyter-widgets/base",
      "model_module_version": "1.2.0",
      "model_name": "LayoutModel",
      "state": {
       "display": "inline-flex",
       "flex_flow": "row wrap",
       "width": "100%"
      }
     },
     "84c4c3dfa2e348be99bb76092ddd9c46": {
      "model_module": "@jupyter-widgets/base",
      "model_module_version": "1.2.0",
      "model_name": "LayoutModel",
      "state": {}
     },
     "85dd1a69cf214575a147e756d2f50ad0": {
      "model_module": "@jupyter-widgets/base",
      "model_module_version": "1.2.0",
      "model_name": "LayoutModel",
      "state": {
       "display": "inline-flex",
       "flex_flow": "row wrap",
       "width": "100%"
      }
     },
     "868ea0064ebc4f9daa7766181ab9d798": {
      "model_module": "@jupyter-widgets/controls",
      "model_module_version": "1.5.0",
      "model_name": "IntProgressModel",
      "state": {
       "bar_style": "success",
       "description": "[15/30][Test][14] Loss_avg: 0.32899, Metric_avg: 0.56948: 100%",
       "layout": "IPY_MODEL_25da82dc71d5423fa66bb74e585275e9",
       "max": 15,
       "style": "IPY_MODEL_fc406326b691493782ffc9d63481277a",
       "value": 15
      }
     },
     "87024ddc2f5a46918982317103dcb36e": {
      "model_module": "@jupyter-widgets/base",
      "model_module_version": "1.2.0",
      "model_name": "LayoutModel",
      "state": {}
     },
     "8712cff440734595bc523f0a9e14d870": {
      "model_module": "@jupyter-widgets/controls",
      "model_module_version": "1.5.0",
      "model_name": "HBoxModel",
      "state": {
       "children": [
        "IPY_MODEL_d8cb5731f05244e7bc99c737ed4a4e2a",
        "IPY_MODEL_461a27799ada4faea6fe642cbfabe814"
       ],
       "layout": "IPY_MODEL_54765c0b7ab546b18bdc62b6c9559de9"
      }
     },
     "876e31c923b944bd8e4de5c20a9f59f2": {
      "model_module": "@jupyter-widgets/controls",
      "model_module_version": "1.5.0",
      "model_name": "ProgressStyleModel",
      "state": {
       "description_width": "initial"
      }
     },
     "8783e7945b02424c965f6a3494a8f031": {
      "model_module": "@jupyter-widgets/base",
      "model_module_version": "1.2.0",
      "model_name": "LayoutModel",
      "state": {}
     },
     "87bde7630d834fbb81cba60f806b36e4": {
      "model_module": "@jupyter-widgets/controls",
      "model_module_version": "1.5.0",
      "model_name": "HBoxModel",
      "state": {
       "children": [
        "IPY_MODEL_c2eccaaf852e434c9ab225206806412e",
        "IPY_MODEL_8f7bdadb5c6e4ea3aa045c6abcaf031c"
       ],
       "layout": "IPY_MODEL_7af32975a1ad4c5c9ab3f194f75ffec8"
      }
     },
     "87f02ccfae104850a09a3fa0246894b4": {
      "model_module": "@jupyter-widgets/controls",
      "model_module_version": "1.5.0",
      "model_name": "IntProgressModel",
      "state": {
       "bar_style": "success",
       "description": "[13/30][Test][14] Loss_avg: 0.33761, Metric_avg: 0.55029: 100%",
       "layout": "IPY_MODEL_229606ac31e045488351cffad22d95ea",
       "max": 15,
       "style": "IPY_MODEL_f1117ef44f6d4c2081f304d9ca9f23da",
       "value": 15
      }
     },
     "8801046edf5e43e98bd31e07ef35935c": {
      "model_module": "@jupyter-widgets/base",
      "model_module_version": "1.2.0",
      "model_name": "LayoutModel",
      "state": {
       "display": "inline-flex",
       "flex_flow": "row wrap",
       "width": "100%"
      }
     },
     "881ff119745f4660a8afb335f9b8187d": {
      "model_module": "@jupyter-widgets/controls",
      "model_module_version": "1.5.0",
      "model_name": "HTMLModel",
      "state": {
       "layout": "IPY_MODEL_adddeab8660b4007b67f698b12e354c5",
       "style": "IPY_MODEL_b04e2ef4c7b24b2d966be488764f28d1",
       "value": " 30/30 [04:46&lt;00:00,  9.55s/it]"
      }
     },
     "887ccd011cc24e2489b7e93d5ee15027": {
      "model_module": "@jupyter-widgets/controls",
      "model_module_version": "1.5.0",
      "model_name": "DescriptionStyleModel",
      "state": {
       "description_width": ""
      }
     },
     "8a073d741bea4598ab2e28e572f32614": {
      "model_module": "@jupyter-widgets/controls",
      "model_module_version": "1.5.0",
      "model_name": "HTMLModel",
      "state": {
       "layout": "IPY_MODEL_1e84a856decb4a059fb029693597f4b3",
       "style": "IPY_MODEL_e4700ae9db8541ae80084ab6adac0c6a",
       "value": " 15/15 [00:13&lt;00:00,  1.09it/s]"
      }
     },
     "8ac2d84e69b948f4acecab09a4375120": {
      "model_module": "@jupyter-widgets/base",
      "model_module_version": "1.2.0",
      "model_name": "LayoutModel",
      "state": {}
     },
     "8acc6e2848fa4073be872afefee4b5fe": {
      "model_module": "@jupyter-widgets/controls",
      "model_module_version": "1.5.0",
      "model_name": "HBoxModel",
      "state": {
       "children": [
        "IPY_MODEL_c84f83e9a8194a60827c157916b69708",
        "IPY_MODEL_d6c6edc2f51f47c29580917aa2dbb74c"
       ],
       "layout": "IPY_MODEL_56b60f4df74c4d3eb4b91e786ca38bc3"
      }
     },
     "8b6576d85a384010ac98f0609fbaedde": {
      "model_module": "@jupyter-widgets/base",
      "model_module_version": "1.2.0",
      "model_name": "LayoutModel",
      "state": {
       "flex": "2"
      }
     },
     "8b693303a8e94cce993fa2d914f91fc6": {
      "model_module": "@jupyter-widgets/base",
      "model_module_version": "1.2.0",
      "model_name": "LayoutModel",
      "state": {}
     },
     "8b7ae3708a5f4e54a244d57841b44067": {
      "model_module": "@jupyter-widgets/base",
      "model_module_version": "1.2.0",
      "model_name": "LayoutModel",
      "state": {
       "flex": "2"
      }
     },
     "8bacb638f3a2455389dc6d67c69a5df2": {
      "model_module": "@jupyter-widgets/base",
      "model_module_version": "1.2.0",
      "model_name": "LayoutModel",
      "state": {}
     },
     "8bc2db06684f4c24b5750fd5ee102047": {
      "model_module": "@jupyter-widgets/controls",
      "model_module_version": "1.5.0",
      "model_name": "IntProgressModel",
      "state": {
       "bar_style": "success",
       "description": "[11/30][Test][14] Loss_avg: 0.5426, Metric_avg: 0.45654: 100%",
       "layout": "IPY_MODEL_c46cd7be1cc64fb4bba1cc1b68785a52",
       "max": 15,
       "style": "IPY_MODEL_4321fc4566bf49dbb027228753849cf4",
       "value": 15
      }
     },
     "8bc3e18825c24194a946f491c5f76af0": {
      "model_module": "@jupyter-widgets/base",
      "model_module_version": "1.2.0",
      "model_name": "LayoutModel",
      "state": {
       "display": "inline-flex",
       "flex_flow": "row wrap",
       "width": "100%"
      }
     },
     "8c8b7b08217248ee94ff2b7768a91513": {
      "model_module": "@jupyter-widgets/controls",
      "model_module_version": "1.5.0",
      "model_name": "HTMLModel",
      "state": {
       "layout": "IPY_MODEL_fbb7a135202b418abe57652082813e32",
       "style": "IPY_MODEL_5b0a6fc18e4144639a2ff34e7b5c0a79",
       "value": " 15/15 [00:03&lt;00:00,  3.80it/s]"
      }
     },
     "8cafad0efa01438797866bc6f61998f6": {
      "model_module": "@jupyter-widgets/controls",
      "model_module_version": "1.5.0",
      "model_name": "DescriptionStyleModel",
      "state": {
       "description_width": ""
      }
     },
     "8d2e26749b524d69bf09c7812ffec00e": {
      "model_module": "@jupyter-widgets/base",
      "model_module_version": "1.2.0",
      "model_name": "LayoutModel",
      "state": {}
     },
     "8d58288ab68e4539b5eeb9ab0f7d89cd": {
      "model_module": "@jupyter-widgets/base",
      "model_module_version": "1.2.0",
      "model_name": "LayoutModel",
      "state": {
       "flex": "2"
      }
     },
     "8d611b9152134e66b745b08a4c19b090": {
      "model_module": "@jupyter-widgets/base",
      "model_module_version": "1.2.0",
      "model_name": "LayoutModel",
      "state": {
       "flex": "2"
      }
     },
     "8d68a4dc77594fa88649041e097399e9": {
      "model_module": "@jupyter-widgets/controls",
      "model_module_version": "1.5.0",
      "model_name": "DescriptionStyleModel",
      "state": {
       "description_width": ""
      }
     },
     "8d759c845faa4abb9b2ef4097707422b": {
      "model_module": "@jupyter-widgets/base",
      "model_module_version": "1.2.0",
      "model_name": "LayoutModel",
      "state": {}
     },
     "8d7ad8bdf2bb41568389cc5dc6bce424": {
      "model_module": "@jupyter-widgets/controls",
      "model_module_version": "1.5.0",
      "model_name": "HTMLModel",
      "state": {
       "layout": "IPY_MODEL_ceade1c0afc4483ea2d32a52b234a105",
       "style": "IPY_MODEL_d4642d8f632b48e5918378d681ea5ec6",
       "value": " 15/15 [00:03&lt;00:00,  3.87it/s]"
      }
     },
     "8ddc01be33e54b549ddb44a99ac695bb": {
      "model_module": "@jupyter-widgets/controls",
      "model_module_version": "1.5.0",
      "model_name": "DescriptionStyleModel",
      "state": {
       "description_width": ""
      }
     },
     "8e1f3d42d73a4852b3be6498ae47a189": {
      "model_module": "@jupyter-widgets/controls",
      "model_module_version": "1.5.0",
      "model_name": "DescriptionStyleModel",
      "state": {
       "description_width": ""
      }
     },
     "8e66509ddf2a42b69a798cd170d1df24": {
      "model_module": "@jupyter-widgets/controls",
      "model_module_version": "1.5.0",
      "model_name": "HBoxModel",
      "state": {
       "children": [
        "IPY_MODEL_152cf195f71e483789481a9bd96385d0",
        "IPY_MODEL_8123ee1a238442568317041f691ac0cc"
       ],
       "layout": "IPY_MODEL_d3d43ff634dd41df833a15108a1dc297"
      }
     },
     "8e76f59e57e641739913ef1aa0ab3d9f": {
      "model_module": "@jupyter-widgets/controls",
      "model_module_version": "1.5.0",
      "model_name": "IntProgressModel",
      "state": {
       "bar_style": "success",
       "description": "[21/30][Train][22] Loss_avg: 0.19515, Loss: 0.19608, LR: 0.001: 100%",
       "layout": "IPY_MODEL_d51b46b6f62749cc8436de4eca500de1",
       "max": 23,
       "style": "IPY_MODEL_f5eae949fafc498a82714a900a5f04cb",
       "value": 23
      }
     },
     "8e7eb8fc47af42efa91afd2245baa373": {
      "model_module": "@jupyter-widgets/controls",
      "model_module_version": "1.5.0",
      "model_name": "HBoxModel",
      "state": {
       "children": [
        "IPY_MODEL_72347c87bcc540b28f4f89f1417b98d7",
        "IPY_MODEL_8d7ad8bdf2bb41568389cc5dc6bce424"
       ],
       "layout": "IPY_MODEL_95fb29680c54475e8d66896fe311d719"
      }
     },
     "8f1dffa76c7c4411a2b454c32d226892": {
      "model_module": "@jupyter-widgets/base",
      "model_module_version": "1.2.0",
      "model_name": "LayoutModel",
      "state": {
       "flex": "2"
      }
     },
     "8f5db8cdb3ed41a193bb70e942772274": {
      "model_module": "@jupyter-widgets/controls",
      "model_module_version": "1.5.0",
      "model_name": "HTMLModel",
      "state": {
       "layout": "IPY_MODEL_3503b1b7ff1e4435acb799ac0e079652",
       "style": "IPY_MODEL_7a0e796293f94890b57cbf5c10632683",
       "value": " 23/23 [00:19&lt;00:00,  1.20it/s]"
      }
     },
     "8f7bdadb5c6e4ea3aa045c6abcaf031c": {
      "model_module": "@jupyter-widgets/controls",
      "model_module_version": "1.5.0",
      "model_name": "HTMLModel",
      "state": {
       "layout": "IPY_MODEL_c0bbce658c6b4722886db2022d256d5d",
       "style": "IPY_MODEL_e3c5cbe1a6fc4df7badee37679294754",
       "value": " 15/15 [00:12&lt;00:00,  1.20it/s]"
      }
     },
     "8fdaeb6eead446e0b2571499f811b93f": {
      "model_module": "@jupyter-widgets/controls",
      "model_module_version": "1.5.0",
      "model_name": "HTMLModel",
      "state": {
       "layout": "IPY_MODEL_eb25e1d21ef046999c07ce9272400356",
       "style": "IPY_MODEL_3e6cf7d358cd4d2f90fa861a4e612a4a",
       "value": " 15/15 [01:11&lt;00:00,  4.76s/it]"
      }
     },
     "8fde65b95d5e4ef582e5e4d5285d9816": {
      "model_module": "@jupyter-widgets/base",
      "model_module_version": "1.2.0",
      "model_name": "LayoutModel",
      "state": {}
     },
     "8ff912b0abb54510977bce93f6923016": {
      "model_module": "@jupyter-widgets/controls",
      "model_module_version": "1.5.0",
      "model_name": "HTMLModel",
      "state": {
       "layout": "IPY_MODEL_f24634dbf86d41998869562091d96dfb",
       "style": "IPY_MODEL_0d7d0160cc9c455faa7499726c466cf9",
       "value": " 15/15 [00:04&lt;00:00,  3.06it/s]"
      }
     },
     "902638261e734f40b58c18b9ea914af6": {
      "model_module": "@jupyter-widgets/controls",
      "model_module_version": "1.5.0",
      "model_name": "DescriptionStyleModel",
      "state": {
       "description_width": ""
      }
     },
     "911ca2aabdf245d29869f351d3f666f5": {
      "model_module": "@jupyter-widgets/controls",
      "model_module_version": "1.5.0",
      "model_name": "IntProgressModel",
      "state": {
       "bar_style": "success",
       "description": "[2/30][Test][14] Loss_avg: 0.6636, Metric_avg: 0.39815: 100%",
       "layout": "IPY_MODEL_8226b8334ada4eee9325207b9e0d7fd8",
       "max": 15,
       "style": "IPY_MODEL_d04a75e158694d27b08ddd1dd5a8b841",
       "value": 15
      }
     },
     "9122417b632848deaba664561f06cd0e": {
      "model_module": "@jupyter-widgets/controls",
      "model_module_version": "1.5.0",
      "model_name": "ProgressStyleModel",
      "state": {
       "description_width": "initial"
      }
     },
     "912b7cee2bf64cf2885d324c7d8512a5": {
      "model_module": "@jupyter-widgets/base",
      "model_module_version": "1.2.0",
      "model_name": "LayoutModel",
      "state": {
       "flex": "2"
      }
     },
     "914d1d5ef79d439a8845ec837cf63826": {
      "model_module": "@jupyter-widgets/base",
      "model_module_version": "1.2.0",
      "model_name": "LayoutModel",
      "state": {}
     },
     "91b427ec3f4142a89b1f2c09a0d36a5d": {
      "model_module": "@jupyter-widgets/controls",
      "model_module_version": "1.5.0",
      "model_name": "ProgressStyleModel",
      "state": {
       "description_width": "initial"
      }
     },
     "9228aae9029a49d8baea54f7812b6807": {
      "model_module": "@jupyter-widgets/base",
      "model_module_version": "1.2.0",
      "model_name": "LayoutModel",
      "state": {}
     },
     "9282fb9c5d5942399825cf26048f76ce": {
      "model_module": "@jupyter-widgets/base",
      "model_module_version": "1.2.0",
      "model_name": "LayoutModel",
      "state": {
       "flex": "2"
      }
     },
     "929573872dca456e84e76b369f370b6c": {
      "model_module": "@jupyter-widgets/base",
      "model_module_version": "1.2.0",
      "model_name": "LayoutModel",
      "state": {
       "display": "inline-flex",
       "flex_flow": "row wrap",
       "width": "100%"
      }
     },
     "92cf4e555cae4ca99439488ff4c7e74b": {
      "model_module": "@jupyter-widgets/controls",
      "model_module_version": "1.5.0",
      "model_name": "HBoxModel",
      "state": {
       "children": [
        "IPY_MODEL_cd041899ed90403cb286ef6aa3c0397d",
        "IPY_MODEL_73633e2582ba4e549ef9f5af0ff0658d"
       ],
       "layout": "IPY_MODEL_d106ef149b0743829e117ae3b24e9cfc"
      }
     },
     "92df42acd07a46a88f84c19cbbb31d0f": {
      "model_module": "@jupyter-widgets/controls",
      "model_module_version": "1.5.0",
      "model_name": "HTMLModel",
      "state": {
       "layout": "IPY_MODEL_fb3c5b55abe44ef79f5f5b34f838f240",
       "style": "IPY_MODEL_1e7d6fa094f449b487d53e64b79b0f05",
       "value": " 23/23 [00:05&lt;00:00,  4.59it/s]"
      }
     },
     "92e14ed8856a438289004713e8073151": {
      "model_module": "@jupyter-widgets/controls",
      "model_module_version": "1.5.0",
      "model_name": "DescriptionStyleModel",
      "state": {
       "description_width": ""
      }
     },
     "933c50649286451c9840638d0d652bb6": {
      "model_module": "@jupyter-widgets/controls",
      "model_module_version": "1.5.0",
      "model_name": "DescriptionStyleModel",
      "state": {
       "description_width": ""
      }
     },
     "9363fbdb05bf4c93bfc98107d95fd34c": {
      "model_module": "@jupyter-widgets/controls",
      "model_module_version": "1.5.0",
      "model_name": "IntProgressModel",
      "state": {
       "bar_style": "success",
       "description": "[10/30][Test][14] Loss_avg: 0.58794, Metric_avg: 0.41003: 100%",
       "layout": "IPY_MODEL_bf6855e917c2417b8f63169f49d3e88a",
       "max": 15,
       "style": "IPY_MODEL_f66cc467251b453fad85d16276976d7f",
       "value": 15
      }
     },
     "9371bebb1da140359d85977ddf6e346c": {
      "model_module": "@jupyter-widgets/base",
      "model_module_version": "1.2.0",
      "model_name": "LayoutModel",
      "state": {
       "flex": "2"
      }
     },
     "937b689a2d904837b23d3d0c93e60d1c": {
      "model_module": "@jupyter-widgets/base",
      "model_module_version": "1.2.0",
      "model_name": "LayoutModel",
      "state": {}
     },
     "93d72f4aa8be4c05882fd4a1ec7d5503": {
      "model_module": "@jupyter-widgets/controls",
      "model_module_version": "1.5.0",
      "model_name": "HTMLModel",
      "state": {
       "layout": "IPY_MODEL_37bfc95cb9044fe686f121f1c4b687a7",
       "style": "IPY_MODEL_f1515f029ccd4ab99f8645b3c333db93",
       "value": " 23/23 [00:18&lt;00:00,  1.24it/s]"
      }
     },
     "93fd555505f94502a039dd11f2fb363b": {
      "model_module": "@jupyter-widgets/base",
      "model_module_version": "1.2.0",
      "model_name": "LayoutModel",
      "state": {
       "display": "inline-flex",
       "flex_flow": "row wrap",
       "width": "100%"
      }
     },
     "9438d268be4543069afbfc664d086b17": {
      "model_module": "@jupyter-widgets/controls",
      "model_module_version": "1.5.0",
      "model_name": "IntProgressModel",
      "state": {
       "bar_style": "success",
       "description": "[27/30][Train][22] Loss_avg: 0.179, Loss: 0.16766, LR: 0.001: 100%",
       "layout": "IPY_MODEL_383a6161f041476f84d6f13b2fe385a3",
       "max": 23,
       "style": "IPY_MODEL_16fb67681eaf44258b25dddf522e314f",
       "value": 23
      }
     },
     "947a027318a84149ac3fdf8cfe98a34f": {
      "model_module": "@jupyter-widgets/controls",
      "model_module_version": "1.5.0",
      "model_name": "ProgressStyleModel",
      "state": {
       "description_width": "initial"
      }
     },
     "94ac30592be24465a33de5bb12bf3eb9": {
      "model_module": "@jupyter-widgets/controls",
      "model_module_version": "1.5.0",
      "model_name": "IntProgressModel",
      "state": {
       "bar_style": "success",
       "description": "[12/30][Test][14] Loss_avg: 0.37088, Metric_avg: 0.54047: 100%",
       "layout": "IPY_MODEL_1da58e3503a143a9a08d7ce936913772",
       "max": 15,
       "style": "IPY_MODEL_fc4d8b11c04741deb8d3b62b0d802d78",
       "value": 15
      }
     },
     "9514d1c0f40e467e8c97c7e8bf9edd82": {
      "model_module": "@jupyter-widgets/base",
      "model_module_version": "1.2.0",
      "model_name": "LayoutModel",
      "state": {
       "flex": "2"
      }
     },
     "953e82162e384182ab64c5a7678bbe78": {
      "model_module": "@jupyter-widgets/base",
      "model_module_version": "1.2.0",
      "model_name": "LayoutModel",
      "state": {
       "flex": "2"
      }
     },
     "956ede7361bc49fe8025ce135d7580d5": {
      "model_module": "@jupyter-widgets/controls",
      "model_module_version": "1.5.0",
      "model_name": "DescriptionStyleModel",
      "state": {
       "description_width": ""
      }
     },
     "95fb29680c54475e8d66896fe311d719": {
      "model_module": "@jupyter-widgets/base",
      "model_module_version": "1.2.0",
      "model_name": "LayoutModel",
      "state": {
       "display": "inline-flex",
       "flex_flow": "row wrap",
       "width": "100%"
      }
     },
     "963cab55025341c69c4e2b79e5f5946d": {
      "model_module": "@jupyter-widgets/base",
      "model_module_version": "1.2.0",
      "model_name": "LayoutModel",
      "state": {
       "display": "inline-flex",
       "flex_flow": "row wrap",
       "width": "100%"
      }
     },
     "9680039f92b948229329950ae3c27c73": {
      "model_module": "@jupyter-widgets/base",
      "model_module_version": "1.2.0",
      "model_name": "LayoutModel",
      "state": {
       "flex": "2"
      }
     },
     "96e171ebdf84494dbc04fd63f9ea8fc7": {
      "model_module": "@jupyter-widgets/base",
      "model_module_version": "1.2.0",
      "model_name": "LayoutModel",
      "state": {}
     },
     "9719d7e715844e569831d33e05da2736": {
      "model_module": "@jupyter-widgets/controls",
      "model_module_version": "1.5.0",
      "model_name": "ProgressStyleModel",
      "state": {
       "description_width": "initial"
      }
     },
     "973a5cf52d3b4c5d932ea1d7169e3158": {
      "model_module": "@jupyter-widgets/controls",
      "model_module_version": "1.5.0",
      "model_name": "DescriptionStyleModel",
      "state": {
       "description_width": ""
      }
     },
     "97d5b0cbbe99448e83998ee5f9f60649": {
      "model_module": "@jupyter-widgets/base",
      "model_module_version": "1.2.0",
      "model_name": "LayoutModel",
      "state": {
       "flex": "2"
      }
     },
     "97e0bfc8962c42b9b672d4c91a77b135": {
      "model_module": "@jupyter-widgets/controls",
      "model_module_version": "1.5.0",
      "model_name": "ProgressStyleModel",
      "state": {
       "description_width": "initial"
      }
     },
     "982dbb669e25450cbad99edfc0c0d74a": {
      "model_module": "@jupyter-widgets/base",
      "model_module_version": "1.2.0",
      "model_name": "LayoutModel",
      "state": {
       "flex": "2"
      }
     },
     "988dd754711f4755a550aeb410ecc4de": {
      "model_module": "@jupyter-widgets/controls",
      "model_module_version": "1.5.0",
      "model_name": "HBoxModel",
      "state": {
       "children": [
        "IPY_MODEL_eada43d8c89f4356a6150790d2465e90",
        "IPY_MODEL_e2169b03c4054c61a8139126fd39f80c"
       ],
       "layout": "IPY_MODEL_623aed6bda8f4d218b9f61aef6c3c77b"
      }
     },
     "98a9da5ebd2744b7acc85bc4acb044e7": {
      "model_module": "@jupyter-widgets/controls",
      "model_module_version": "1.5.0",
      "model_name": "HBoxModel",
      "state": {
       "children": [
        "IPY_MODEL_a792eb95fcbc42d8bb4d41523c7681d7",
        "IPY_MODEL_67f42ef2a3d548d4be53c236642a137d"
       ],
       "layout": "IPY_MODEL_b5c417ebaae14cf4b4bd231d2641078f"
      }
     },
     "98ee5651687740a1982f4a7c61df8d24": {
      "model_module": "@jupyter-widgets/controls",
      "model_module_version": "1.5.0",
      "model_name": "HBoxModel",
      "state": {
       "children": [
        "IPY_MODEL_81b141955dcd404ea8e6aa41d2eede95",
        "IPY_MODEL_2bac5e2f534844fb9d41c0e5f4a91e8a"
       ],
       "layout": "IPY_MODEL_a5907ef97aeb4bd08cce7176714dcf47"
      }
     },
     "991264f69c5542649ac87ed1b295ac63": {
      "model_module": "@jupyter-widgets/controls",
      "model_module_version": "1.5.0",
      "model_name": "HBoxModel",
      "state": {
       "children": [
        "IPY_MODEL_f22f7403c41d4eddacc29e2d04541d40",
        "IPY_MODEL_a95d4738eec2437798d008b839763ec4"
       ],
       "layout": "IPY_MODEL_b8884d041a934edbb34583fe7c6c1c4c"
      }
     },
     "9a3ee8e55a764976aa1f943cea2c2f1a": {
      "model_module": "@jupyter-widgets/controls",
      "model_module_version": "1.5.0",
      "model_name": "ProgressStyleModel",
      "state": {
       "description_width": "initial"
      }
     },
     "9a5138f9ce364c5d88e6b30dc844576e": {
      "model_module": "@jupyter-widgets/controls",
      "model_module_version": "1.5.0",
      "model_name": "HTMLModel",
      "state": {
       "layout": "IPY_MODEL_1e2654f4a13442d5810c2c00627f0173",
       "style": "IPY_MODEL_c879515b03164bf9af277a0377de6112",
       "value": " 23/23 [00:18&lt;00:00,  1.25it/s]"
      }
     },
     "9a635cab6cdb4e8bbf03d996f896ccf1": {
      "model_module": "@jupyter-widgets/controls",
      "model_module_version": "1.5.0",
      "model_name": "DescriptionStyleModel",
      "state": {
       "description_width": ""
      }
     },
     "9a797842e98a4dad8eba9f75e95f2647": {
      "model_module": "@jupyter-widgets/controls",
      "model_module_version": "1.5.0",
      "model_name": "IntProgressModel",
      "state": {
       "bar_style": "success",
       "description": "[29/30][Train][22] Loss_avg: 0.18479, Loss: 0.23517, LR: 0.001: 100%",
       "layout": "IPY_MODEL_e76ade63f5e64e5382bd29df1ce51c13",
       "max": 23,
       "style": "IPY_MODEL_876e31c923b944bd8e4de5c20a9f59f2",
       "value": 23
      }
     },
     "9b008d1c045547a087b63de5c54489c0": {
      "model_module": "@jupyter-widgets/controls",
      "model_module_version": "1.5.0",
      "model_name": "HTMLModel",
      "state": {
       "layout": "IPY_MODEL_4c902bcd1e144ce2857a0b51fa653e3d",
       "style": "IPY_MODEL_fec7da451c024cd6846a8b6be94fc3bf",
       "value": " 23/23 [00:08&lt;00:00,  2.84it/s]"
      }
     },
     "9b283af822f5475b81c34e62637803b7": {
      "model_module": "@jupyter-widgets/controls",
      "model_module_version": "1.5.0",
      "model_name": "IntProgressModel",
      "state": {
       "bar_style": "success",
       "description": "[12/30][Train][22] Loss_avg: 0.33042, Loss: 0.40709, LR: 0.001: 100%",
       "layout": "IPY_MODEL_f8890dbfb7024eb9aa59df3b9dd17170",
       "max": 23,
       "style": "IPY_MODEL_669645e360d04da185f8173660ad1492",
       "value": 23
      }
     },
     "9b51c7c69a8b4677a79fc613536a69fb": {
      "model_module": "@jupyter-widgets/base",
      "model_module_version": "1.2.0",
      "model_name": "LayoutModel",
      "state": {
       "flex": "2"
      }
     },
     "9b527d78af1740beb6167f52ce155cef": {
      "model_module": "@jupyter-widgets/controls",
      "model_module_version": "1.5.0",
      "model_name": "HBoxModel",
      "state": {
       "children": [
        "IPY_MODEL_1a4c045dff2b4f7d841b5086149c21a7",
        "IPY_MODEL_03056ecdc61d4e358a94e956844376cf"
       ],
       "layout": "IPY_MODEL_dbfa8db9fadd4d7faff80f52513adc60"
      }
     },
     "9b6641f45ede44ba87af28b1455ddc2f": {
      "model_module": "@jupyter-widgets/base",
      "model_module_version": "1.2.0",
      "model_name": "LayoutModel",
      "state": {
       "display": "inline-flex",
       "flex_flow": "row wrap",
       "width": "100%"
      }
     },
     "9b9caa793311423ebd3717b0e551b2a1": {
      "model_module": "@jupyter-widgets/controls",
      "model_module_version": "1.5.0",
      "model_name": "HTMLModel",
      "state": {
       "layout": "IPY_MODEL_3d0888895d42417498ec53442d6a13cd",
       "style": "IPY_MODEL_d30e433208d04e769612f3c96fa02e66",
       "value": " 23/23 [00:05&lt;00:00,  4.53it/s]"
      }
     },
     "9ba25c5be9b74795abf1e5358dd0a588": {
      "model_module": "@jupyter-widgets/base",
      "model_module_version": "1.2.0",
      "model_name": "LayoutModel",
      "state": {
       "display": "inline-flex",
       "flex_flow": "row wrap",
       "width": "100%"
      }
     },
     "9be3e0433abc4a8ca773b8e29a45e609": {
      "model_module": "@jupyter-widgets/controls",
      "model_module_version": "1.5.0",
      "model_name": "HBoxModel",
      "state": {
       "children": [
        "IPY_MODEL_9e76e22e02114a898a16f207f15432c6",
        "IPY_MODEL_b7ddc934be654a65ba59416542515488"
       ],
       "layout": "IPY_MODEL_49738e519e2b4264b43a9ba02e78404a"
      }
     },
     "9c45113009c04c31bd61e90b0c379afd": {
      "model_module": "@jupyter-widgets/controls",
      "model_module_version": "1.5.0",
      "model_name": "IntProgressModel",
      "state": {
       "bar_style": "success",
       "description": "[23/30][Train][22] Loss_avg: 0.19146, Loss: 0.1744, LR: 0.001: 100%",
       "layout": "IPY_MODEL_094e22d7027a469b9a04f73d1f23a6d3",
       "max": 23,
       "style": "IPY_MODEL_9a3ee8e55a764976aa1f943cea2c2f1a",
       "value": 23
      }
     },
     "9c6c77e9b2384310a1e4652ae484063e": {
      "model_module": "@jupyter-widgets/base",
      "model_module_version": "1.2.0",
      "model_name": "LayoutModel",
      "state": {
       "display": "inline-flex",
       "flex_flow": "row wrap",
       "width": "100%"
      }
     },
     "9c8658d591ec41889df6f2aed4d402ad": {
      "model_module": "@jupyter-widgets/controls",
      "model_module_version": "1.5.0",
      "model_name": "DescriptionStyleModel",
      "state": {
       "description_width": ""
      }
     },
     "9d7705eee0e64914984205347da0384a": {
      "model_module": "@jupyter-widgets/base",
      "model_module_version": "1.2.0",
      "model_name": "LayoutModel",
      "state": {
       "flex": "2"
      }
     },
     "9d84b9219edc4fd7bb2e0971266c90ae": {
      "model_module": "@jupyter-widgets/base",
      "model_module_version": "1.2.0",
      "model_name": "LayoutModel",
      "state": {
       "flex": "2"
      }
     },
     "9dc26f0c280f4ff4a612c6a705c6139f": {
      "model_module": "@jupyter-widgets/controls",
      "model_module_version": "1.5.0",
      "model_name": "ProgressStyleModel",
      "state": {
       "description_width": "initial"
      }
     },
     "9dc9bbeca55244b8b8d90fc05b453a56": {
      "model_module": "@jupyter-widgets/controls",
      "model_module_version": "1.5.0",
      "model_name": "DescriptionStyleModel",
      "state": {
       "description_width": ""
      }
     },
     "9e024023556a4972aee2249b4cc90b9b": {
      "model_module": "@jupyter-widgets/controls",
      "model_module_version": "1.5.0",
      "model_name": "HTMLModel",
      "state": {
       "layout": "IPY_MODEL_4fa79718ea7e4d8fa1572e66e59114db",
       "style": "IPY_MODEL_8d68a4dc77594fa88649041e097399e9",
       "value": " 15/15 [00:03&lt;00:00,  3.92it/s]"
      }
     },
     "9e26487410464064952a36074b4a5763": {
      "model_module": "@jupyter-widgets/base",
      "model_module_version": "1.2.0",
      "model_name": "LayoutModel",
      "state": {
       "display": "inline-flex",
       "flex_flow": "row wrap",
       "width": "100%"
      }
     },
     "9e76e22e02114a898a16f207f15432c6": {
      "model_module": "@jupyter-widgets/controls",
      "model_module_version": "1.5.0",
      "model_name": "IntProgressModel",
      "state": {
       "bar_style": "success",
       "description": "[15/30][Train][22] Loss_avg: 0.24622, Loss: 0.21541, LR: 0.001: 100%",
       "layout": "IPY_MODEL_3b7d7a2a23074cb5aafcfbbf60d0f3ef",
       "max": 23,
       "style": "IPY_MODEL_de3302329f1648b79cd944df7109edc0",
       "value": 23
      }
     },
     "9f2590f8cdf44ea5a82eebec1484057d": {
      "model_module": "@jupyter-widgets/base",
      "model_module_version": "1.2.0",
      "model_name": "LayoutModel",
      "state": {
       "display": "inline-flex",
       "flex_flow": "row wrap",
       "width": "100%"
      }
     },
     "9f267a6952f4461782dff01708159cb5": {
      "model_module": "@jupyter-widgets/controls",
      "model_module_version": "1.5.0",
      "model_name": "DescriptionStyleModel",
      "state": {
       "description_width": ""
      }
     },
     "9f81ccedcb6c4dc4a07ab80bde888910": {
      "model_module": "@jupyter-widgets/controls",
      "model_module_version": "1.5.0",
      "model_name": "DescriptionStyleModel",
      "state": {
       "description_width": ""
      }
     },
     "9fad8365b9b84fc4a633d461bba05742": {
      "model_module": "@jupyter-widgets/controls",
      "model_module_version": "1.5.0",
      "model_name": "HBoxModel",
      "state": {
       "children": [
        "IPY_MODEL_6e3b7183ad2b43c99bedb6b85c15b647",
        "IPY_MODEL_3cf70fa561d14caa88302b4d86efb651"
       ],
       "layout": "IPY_MODEL_a7775c1d351d405380aecbfa15d7457c"
      }
     },
     "a03b30bc0ac6434a88203b5946da766e": {
      "model_module": "@jupyter-widgets/controls",
      "model_module_version": "1.5.0",
      "model_name": "IntProgressModel",
      "state": {
       "bar_style": "success",
       "description": "[29/30][Test][14] Loss_avg: 0.33366, Metric_avg: 0.60235: 100%",
       "layout": "IPY_MODEL_3451cb9c2c9a4d6f8968dd0be3539261",
       "max": 15,
       "style": "IPY_MODEL_21b41ec2b130410094b43514da297b74",
       "value": 15
      }
     },
     "a0610850864c4a75adcc89d7db533548": {
      "model_module": "@jupyter-widgets/base",
      "model_module_version": "1.2.0",
      "model_name": "LayoutModel",
      "state": {}
     },
     "a08cd78d5b41462b8eb9e87877865359": {
      "model_module": "@jupyter-widgets/controls",
      "model_module_version": "1.5.0",
      "model_name": "DescriptionStyleModel",
      "state": {
       "description_width": ""
      }
     },
     "a0938c78314241c984daae64610d496e": {
      "model_module": "@jupyter-widgets/base",
      "model_module_version": "1.2.0",
      "model_name": "LayoutModel",
      "state": {}
     },
     "a09998370ca24c6091dcfa4dca765f11": {
      "model_module": "@jupyter-widgets/controls",
      "model_module_version": "1.5.0",
      "model_name": "ProgressStyleModel",
      "state": {
       "description_width": "initial"
      }
     },
     "a10efbadb70c44179c47fad8cfd9403b": {
      "model_module": "@jupyter-widgets/base",
      "model_module_version": "1.2.0",
      "model_name": "LayoutModel",
      "state": {
       "flex": "2"
      }
     },
     "a11005202be144a3955c19352a4b77e7": {
      "model_module": "@jupyter-widgets/base",
      "model_module_version": "1.2.0",
      "model_name": "LayoutModel",
      "state": {
       "display": "inline-flex",
       "flex_flow": "row wrap",
       "width": "100%"
      }
     },
     "a11ce615df634e5da47c6f17c50bbc55": {
      "model_module": "@jupyter-widgets/controls",
      "model_module_version": "1.5.0",
      "model_name": "HTMLModel",
      "state": {
       "layout": "IPY_MODEL_84c4c3dfa2e348be99bb76092ddd9c46",
       "style": "IPY_MODEL_8cafad0efa01438797866bc6f61998f6",
       "value": " 15/15 [00:34&lt;00:00,  2.32s/it]"
      }
     },
     "a18662d6f2974fd9b72665b45d43319b": {
      "model_module": "@jupyter-widgets/controls",
      "model_module_version": "1.5.0",
      "model_name": "DescriptionStyleModel",
      "state": {
       "description_width": ""
      }
     },
     "a1f574f8129d4375b9eb4d31adb79be5": {
      "model_module": "@jupyter-widgets/controls",
      "model_module_version": "1.5.0",
      "model_name": "HTMLModel",
      "state": {
       "layout": "IPY_MODEL_1331c3053513431aaba9f13036e6917f",
       "style": "IPY_MODEL_b0845f37f9474b498db454b0f2625d98",
       "value": " 23/23 [00:24&lt;00:00,  1.07s/it]"
      }
     },
     "a26eb309283348658b0ca2112162b80d": {
      "model_module": "@jupyter-widgets/base",
      "model_module_version": "1.2.0",
      "model_name": "LayoutModel",
      "state": {
       "display": "inline-flex",
       "flex_flow": "row wrap",
       "width": "100%"
      }
     },
     "a29e6735e2b14d8d8c77a28f5f6aeb65": {
      "model_module": "@jupyter-widgets/base",
      "model_module_version": "1.2.0",
      "model_name": "LayoutModel",
      "state": {
       "display": "inline-flex",
       "flex_flow": "row wrap",
       "width": "100%"
      }
     },
     "a2bf5201f63641b4a1f90a0a4ec241a9": {
      "model_module": "@jupyter-widgets/controls",
      "model_module_version": "1.5.0",
      "model_name": "IntProgressModel",
      "state": {
       "bar_style": "success",
       "description": "[1/30][Train][22] Loss_avg: 0.48574, Loss: 0.49422, LR: 0.001: 100%",
       "layout": "IPY_MODEL_66ca5dfe51764e9ca6fb2c22b60acdae",
       "max": 23,
       "style": "IPY_MODEL_7e6b729c59344112b381aeb71c96f5f3",
       "value": 23
      }
     },
     "a2fbb14cb66c4eac91f7bf147c7d71e9": {
      "model_module": "@jupyter-widgets/base",
      "model_module_version": "1.2.0",
      "model_name": "LayoutModel",
      "state": {
       "display": "inline-flex",
       "flex_flow": "row wrap",
       "width": "100%"
      }
     },
     "a2fe7f9b1dc24c71bd8452d24e56fa8b": {
      "model_module": "@jupyter-widgets/base",
      "model_module_version": "1.2.0",
      "model_name": "LayoutModel",
      "state": {
       "flex": "2"
      }
     },
     "a3eb05745ffe4b0a8195b96327043744": {
      "model_module": "@jupyter-widgets/controls",
      "model_module_version": "1.5.0",
      "model_name": "HBoxModel",
      "state": {
       "children": [
        "IPY_MODEL_b94fd601886148bca4d1d1a770cc09e9",
        "IPY_MODEL_ffb37635f7884251bbc3c5054590d817"
       ],
       "layout": "IPY_MODEL_1a0eff61bef943f8bd902ec40f632982"
      }
     },
     "a4144640800f4c23abeb3ef13d291e1a": {
      "model_module": "@jupyter-widgets/base",
      "model_module_version": "1.2.0",
      "model_name": "LayoutModel",
      "state": {
       "display": "inline-flex",
       "flex_flow": "row wrap",
       "width": "100%"
      }
     },
     "a458957a82e944c6838c7a336e2fd09c": {
      "model_module": "@jupyter-widgets/controls",
      "model_module_version": "1.5.0",
      "model_name": "DescriptionStyleModel",
      "state": {
       "description_width": ""
      }
     },
     "a4683e7913dd47668d437027e61ff454": {
      "model_module": "@jupyter-widgets/controls",
      "model_module_version": "1.5.0",
      "model_name": "IntProgressModel",
      "state": {
       "bar_style": "success",
       "description": "[19/30][Train][22] Loss_avg: 0.19944, Loss: 0.22533, LR: 0.001: 100%",
       "layout": "IPY_MODEL_9680039f92b948229329950ae3c27c73",
       "max": 23,
       "style": "IPY_MODEL_be42d724401d47bab62b2e2005fbeb97",
       "value": 23
      }
     },
     "a5907ef97aeb4bd08cce7176714dcf47": {
      "model_module": "@jupyter-widgets/base",
      "model_module_version": "1.2.0",
      "model_name": "LayoutModel",
      "state": {
       "display": "inline-flex",
       "flex_flow": "row wrap",
       "width": "100%"
      }
     },
     "a59bc08dec824e48a7a24f581e160095": {
      "model_module": "@jupyter-widgets/controls",
      "model_module_version": "1.5.0",
      "model_name": "HBoxModel",
      "state": {
       "children": [
        "IPY_MODEL_00bae4d76339413982d376f0e861fff5",
        "IPY_MODEL_37b7f9b1f9b0497bbc834a5111512716"
       ],
       "layout": "IPY_MODEL_e64c2241677b40109444e29dc0cb11fb"
      }
     },
     "a6103371583d48dfb2310f8e1dad0628": {
      "model_module": "@jupyter-widgets/controls",
      "model_module_version": "1.5.0",
      "model_name": "IntProgressModel",
      "state": {
       "bar_style": "success",
       "description": "[26/30][Train][22] Loss_avg: 0.18088, Loss: 0.17906, LR: 0.001: 100%",
       "layout": "IPY_MODEL_7524afb1e3f94d80be22ed8d2bca002e",
       "max": 23,
       "style": "IPY_MODEL_c46c79f053ae4c929671dd76c6e76548",
       "value": 23
      }
     },
     "a625a29572b445cda4a9b9944e127226": {
      "model_module": "@jupyter-widgets/controls",
      "model_module_version": "1.5.0",
      "model_name": "ProgressStyleModel",
      "state": {
       "description_width": "initial"
      }
     },
     "a630f6cf76ca4bf28dcc7e5bc6b278d3": {
      "model_module": "@jupyter-widgets/controls",
      "model_module_version": "1.5.0",
      "model_name": "ProgressStyleModel",
      "state": {
       "description_width": "initial"
      }
     },
     "a69462112dcb4e6daa443b380cbaa5d4": {
      "model_module": "@jupyter-widgets/base",
      "model_module_version": "1.2.0",
      "model_name": "LayoutModel",
      "state": {
       "flex": "2"
      }
     },
     "a745eb4681774e5f9de61f44db467e8d": {
      "model_module": "@jupyter-widgets/controls",
      "model_module_version": "1.5.0",
      "model_name": "DescriptionStyleModel",
      "state": {
       "description_width": ""
      }
     },
     "a7775c1d351d405380aecbfa15d7457c": {
      "model_module": "@jupyter-widgets/base",
      "model_module_version": "1.2.0",
      "model_name": "LayoutModel",
      "state": {
       "display": "inline-flex",
       "flex_flow": "row wrap",
       "width": "100%"
      }
     },
     "a78c67af2af8452ab433d91badd28950": {
      "model_module": "@jupyter-widgets/controls",
      "model_module_version": "1.5.0",
      "model_name": "IntProgressModel",
      "state": {
       "bar_style": "success",
       "description": "[9/30][Test][14] Loss_avg: 0.36444, Metric_avg: 0.51075: 100%",
       "layout": "IPY_MODEL_fede84cc7f08444a9245d1a402ad218b",
       "max": 15,
       "style": "IPY_MODEL_a9d84e8fdbfa4ea585eb35d6c3c72e9e",
       "value": 15
      }
     },
     "a792eb95fcbc42d8bb4d41523c7681d7": {
      "model_module": "@jupyter-widgets/controls",
      "model_module_version": "1.5.0",
      "model_name": "IntProgressModel",
      "state": {
       "bar_style": "success",
       "description": "[21/30][Train][22] Loss_avg: 0.19949, Loss: 0.17451, LR: 0.001: 100%",
       "layout": "IPY_MODEL_259ca7ba4d5445db9bdfdee193cc1baa",
       "max": 23,
       "style": "IPY_MODEL_4ff3d4f37be74a4e87d6db0e312f233d",
       "value": 23
      }
     },
     "a7c71a6cf93b431d893e066914117b11": {
      "model_module": "@jupyter-widgets/controls",
      "model_module_version": "1.5.0",
      "model_name": "IntProgressModel",
      "state": {
       "bar_style": "success",
       "description": "[28/30][Test][14] Loss_avg: 0.4181, Metric_avg: 0.50541: 100%",
       "layout": "IPY_MODEL_8d611b9152134e66b745b08a4c19b090",
       "max": 15,
       "style": "IPY_MODEL_7bd1ad9ab5eb4528bb121470cef16b27",
       "value": 15
      }
     },
     "a80f296f025a4c20bfe06002bb7f8d02": {
      "model_module": "@jupyter-widgets/controls",
      "model_module_version": "1.5.0",
      "model_name": "IntProgressModel",
      "state": {
       "bar_style": "success",
       "description": "[19/30][Test][14] Loss_avg: 0.3986, Metric_avg: 0.49543: 100%",
       "layout": "IPY_MODEL_7aade48741eb4015815dd2c669ff7e88",
       "max": 15,
       "style": "IPY_MODEL_d2c4f20f9ac448b783ce6135c36a9c35",
       "value": 15
      }
     },
     "a8252349229d4e1c96e054bf395b5be3": {
      "model_module": "@jupyter-widgets/controls",
      "model_module_version": "1.5.0",
      "model_name": "IntProgressModel",
      "state": {
       "bar_style": "success",
       "description": "[7/30][Test][14] Loss_avg: 0.59192, Metric_avg: 0.42016: 100%",
       "layout": "IPY_MODEL_0f92c2b45aba49e98591cf34f3468963",
       "max": 15,
       "style": "IPY_MODEL_62586a7a989c47da8c8c711c211137b8",
       "value": 15
      }
     },
     "a8f33b45683747219135066dac5c6f70": {
      "model_module": "@jupyter-widgets/controls",
      "model_module_version": "1.5.0",
      "model_name": "ProgressStyleModel",
      "state": {
       "description_width": "initial"
      }
     },
     "a8fd79b226e44cc898437601463775e3": {
      "model_module": "@jupyter-widgets/base",
      "model_module_version": "1.2.0",
      "model_name": "LayoutModel",
      "state": {}
     },
     "a90c2f7f378b4869ba451b87fc1c92b8": {
      "model_module": "@jupyter-widgets/controls",
      "model_module_version": "1.5.0",
      "model_name": "IntProgressModel",
      "state": {
       "bar_style": "success",
       "description": "[1/30][Test][14] Loss_avg: 0.58309, Metric_avg: 0.37618: 100%",
       "layout": "IPY_MODEL_5fb8fe62defc47758d5980bdfca26f69",
       "max": 15,
       "style": "IPY_MODEL_e908bd482ce9417ebbadedf76041e028",
       "value": 15
      }
     },
     "a90e10ca156149c3a3b551712596d72a": {
      "model_module": "@jupyter-widgets/controls",
      "model_module_version": "1.5.0",
      "model_name": "DescriptionStyleModel",
      "state": {
       "description_width": ""
      }
     },
     "a9125d7140d847709f8fd03f1ddc292f": {
      "model_module": "@jupyter-widgets/base",
      "model_module_version": "1.2.0",
      "model_name": "LayoutModel",
      "state": {}
     },
     "a92d49bc0ad6455a9b802403c92be867": {
      "model_module": "@jupyter-widgets/base",
      "model_module_version": "1.2.0",
      "model_name": "LayoutModel",
      "state": {
       "display": "inline-flex",
       "flex_flow": "row wrap",
       "width": "100%"
      }
     },
     "a95d4738eec2437798d008b839763ec4": {
      "model_module": "@jupyter-widgets/controls",
      "model_module_version": "1.5.0",
      "model_name": "HTMLModel",
      "state": {
       "layout": "IPY_MODEL_ca7937ebb8cd4487a975908521c425db",
       "style": "IPY_MODEL_973a5cf52d3b4c5d932ea1d7169e3158",
       "value": " 23/23 [00:27&lt;00:00,  1.20s/it]"
      }
     },
     "a966993a37684b4b8b0976100dbfc42d": {
      "model_module": "@jupyter-widgets/base",
      "model_module_version": "1.2.0",
      "model_name": "LayoutModel",
      "state": {
       "display": "inline-flex",
       "flex_flow": "row wrap",
       "width": "100%"
      }
     },
     "a9d84e8fdbfa4ea585eb35d6c3c72e9e": {
      "model_module": "@jupyter-widgets/controls",
      "model_module_version": "1.5.0",
      "model_name": "ProgressStyleModel",
      "state": {
       "description_width": "initial"
      }
     },
     "aa31edbc24bb420b91051d12f39df01c": {
      "model_module": "@jupyter-widgets/base",
      "model_module_version": "1.2.0",
      "model_name": "LayoutModel",
      "state": {
       "flex": "2"
      }
     },
     "aa7efb15fd894413b89e562db1cd8430": {
      "model_module": "@jupyter-widgets/controls",
      "model_module_version": "1.5.0",
      "model_name": "DescriptionStyleModel",
      "state": {
       "description_width": ""
      }
     },
     "ab1f4617e3c9470eb7698d0e7f36f6d6": {
      "model_module": "@jupyter-widgets/base",
      "model_module_version": "1.2.0",
      "model_name": "LayoutModel",
      "state": {
       "display": "inline-flex",
       "flex_flow": "row wrap",
       "width": "100%"
      }
     },
     "ab4d55992cd541078c58334a5845a36e": {
      "model_module": "@jupyter-widgets/base",
      "model_module_version": "1.2.0",
      "model_name": "LayoutModel",
      "state": {
       "display": "inline-flex",
       "flex_flow": "row wrap",
       "width": "100%"
      }
     },
     "abd3afb7c67d478e8e22107bd9fcb3ac": {
      "model_module": "@jupyter-widgets/base",
      "model_module_version": "1.2.0",
      "model_name": "LayoutModel",
      "state": {}
     },
     "abe0429ad5a44ef6b78d2ca1c04b57aa": {
      "model_module": "@jupyter-widgets/controls",
      "model_module_version": "1.5.0",
      "model_name": "HTMLModel",
      "state": {
       "layout": "IPY_MODEL_7db8520b95734fa5a7988ca470dd1025",
       "style": "IPY_MODEL_b07ce1db609c4d3a89d76674701d4862",
       "value": " 23/23 [00:04&lt;00:00,  4.79it/s]"
      }
     },
     "abfc96820177411fb1035c7a18ddcc31": {
      "model_module": "@jupyter-widgets/base",
      "model_module_version": "1.2.0",
      "model_name": "LayoutModel",
      "state": {
       "display": "inline-flex",
       "flex_flow": "row wrap",
       "width": "100%"
      }
     },
     "ac8336ac2f06498b9afd78ac55ff438d": {
      "model_module": "@jupyter-widgets/base",
      "model_module_version": "1.2.0",
      "model_name": "LayoutModel",
      "state": {}
     },
     "acd0fa64a7d74fa8b47a3cef5f03bcbe": {
      "model_module": "@jupyter-widgets/controls",
      "model_module_version": "1.5.0",
      "model_name": "DescriptionStyleModel",
      "state": {
       "description_width": ""
      }
     },
     "ad1a9bea8c9b40778eb3ea30eab8fd53": {
      "model_module": "@jupyter-widgets/base",
      "model_module_version": "1.2.0",
      "model_name": "LayoutModel",
      "state": {}
     },
     "ad777ce95ca14e44bae84a30b2a413ab": {
      "model_module": "@jupyter-widgets/controls",
      "model_module_version": "1.5.0",
      "model_name": "HBoxModel",
      "state": {
       "children": [
        "IPY_MODEL_2877e7b14e554212854c9a4909f977d5",
        "IPY_MODEL_81ee67fc54f844e1b523c4c95a654a75"
       ],
       "layout": "IPY_MODEL_e2955e9b572145f28f4206bb9f846455"
      }
     },
     "ada5290f4d7c413baefbc5d71032d2cd": {
      "model_module": "@jupyter-widgets/base",
      "model_module_version": "1.2.0",
      "model_name": "LayoutModel",
      "state": {
       "display": "inline-flex",
       "flex_flow": "row wrap",
       "width": "100%"
      }
     },
     "adc0cd65f5e546fda8586326c325d8e2": {
      "model_module": "@jupyter-widgets/controls",
      "model_module_version": "1.5.0",
      "model_name": "DescriptionStyleModel",
      "state": {
       "description_width": ""
      }
     },
     "adddeab8660b4007b67f698b12e354c5": {
      "model_module": "@jupyter-widgets/base",
      "model_module_version": "1.2.0",
      "model_name": "LayoutModel",
      "state": {}
     },
     "adf158e6d66843e09ac6ba145d2ee7e2": {
      "model_module": "@jupyter-widgets/controls",
      "model_module_version": "1.5.0",
      "model_name": "DescriptionStyleModel",
      "state": {
       "description_width": ""
      }
     },
     "ae06443c98cf4a0cb1fdfd090669894a": {
      "model_module": "@jupyter-widgets/controls",
      "model_module_version": "1.5.0",
      "model_name": "HTMLModel",
      "state": {
       "layout": "IPY_MODEL_2b97d942736f4ce2b042503645c4d3ac",
       "style": "IPY_MODEL_956ede7361bc49fe8025ce135d7580d5",
       "value": " 23/23 [03:37&lt;00:00,  9.48s/it]"
      }
     },
     "ae36c0db472d4fcaa2d47cffd05a5786": {
      "model_module": "@jupyter-widgets/controls",
      "model_module_version": "1.5.0",
      "model_name": "HTMLModel",
      "state": {
       "layout": "IPY_MODEL_225c212630a34c0898bcb47bc21d1252",
       "style": "IPY_MODEL_ca0e0f4b979949c1841e998b680a4611",
       "value": " 15/15 [00:03&lt;00:00,  3.80it/s]"
      }
     },
     "ae3adb3bdd3d4ff2bd52e24cfa00e2f3": {
      "model_module": "@jupyter-widgets/base",
      "model_module_version": "1.2.0",
      "model_name": "LayoutModel",
      "state": {
       "flex": "2"
      }
     },
     "aec8b60a1db842f9ba4224dcbc116f90": {
      "model_module": "@jupyter-widgets/controls",
      "model_module_version": "1.5.0",
      "model_name": "DescriptionStyleModel",
      "state": {
       "description_width": ""
      }
     },
     "aed11098e6c7458881d466092f21a66f": {
      "model_module": "@jupyter-widgets/controls",
      "model_module_version": "1.5.0",
      "model_name": "HTMLModel",
      "state": {
       "layout": "IPY_MODEL_ca738f509b704395818f7011fbb383f5",
       "style": "IPY_MODEL_a18662d6f2974fd9b72665b45d43319b",
       "value": " 15/15 [00:23&lt;00:00,  1.55s/it]"
      }
     },
     "aee91897944e4343bf6909868526d459": {
      "model_module": "@jupyter-widgets/controls",
      "model_module_version": "1.5.0",
      "model_name": "IntProgressModel",
      "state": {
       "bar_style": "success",
       "description": "[15/30][Train][22] Loss_avg: 0.22735, Loss: 0.21847, LR: 0.001: 100%",
       "layout": "IPY_MODEL_2614995d84f14da7a4ec09ce28236ae0",
       "max": 23,
       "style": "IPY_MODEL_4540a6378e9f42f4abc6a9a90ee58fcf",
       "value": 23
      }
     },
     "aeec44df5d6e412f802a0fc217d14d36": {
      "model_module": "@jupyter-widgets/controls",
      "model_module_version": "1.5.0",
      "model_name": "HBoxModel",
      "state": {
       "children": [
        "IPY_MODEL_2dab36228abe4546864d9d039be97d4a",
        "IPY_MODEL_b8507c77705d43e8b5d03de418383fe8"
       ],
       "layout": "IPY_MODEL_ddf09c30edfb464eaf61423ff4422422"
      }
     },
     "afb806b747774e309d8a5aaa02223c7e": {
      "model_module": "@jupyter-widgets/controls",
      "model_module_version": "1.5.0",
      "model_name": "HTMLModel",
      "state": {
       "layout": "IPY_MODEL_6a2b27a2506840319ee135780a29d7c1",
       "style": "IPY_MODEL_b4ebfeeb02624db6b4e7b5a09ef949c4",
       "value": " 15/15 [00:23&lt;00:00,  1.54s/it]"
      }
     },
     "afc2ac6baa1f431d90b9b6903b26197f": {
      "model_module": "@jupyter-widgets/controls",
      "model_module_version": "1.5.0",
      "model_name": "IntProgressModel",
      "state": {
       "bar_style": "success",
       "description": "[0/30][Train][22] Loss_avg: 0.85117, Loss: 0.59065, LR: 0.001: 100%",
       "layout": "IPY_MODEL_4bf33ef056244828a1827862de66e355",
       "max": 23,
       "style": "IPY_MODEL_91b427ec3f4142a89b1f2c09a0d36a5d",
       "value": 23
      }
     },
     "afc3d47cf44448e7843d90c614a1ef60": {
      "model_module": "@jupyter-widgets/base",
      "model_module_version": "1.2.0",
      "model_name": "LayoutModel",
      "state": {
       "flex": "2"
      }
     },
     "b0026a573dfd42cc97490fbd0eba73da": {
      "model_module": "@jupyter-widgets/controls",
      "model_module_version": "1.5.0",
      "model_name": "IntProgressModel",
      "state": {
       "bar_style": "success",
       "description": "[14/30][Train][22] Loss_avg: 0.30956, Loss: 0.28333, LR: 0.001: 100%",
       "layout": "IPY_MODEL_9b51c7c69a8b4677a79fc613536a69fb",
       "max": 23,
       "style": "IPY_MODEL_2926746707a34ff7b6975857894196e0",
       "value": 23
      }
     },
     "b037932736294c48a52f1254afaac5fa": {
      "model_module": "@jupyter-widgets/controls",
      "model_module_version": "1.5.0",
      "model_name": "ProgressStyleModel",
      "state": {
       "description_width": "initial"
      }
     },
     "b04e2ef4c7b24b2d966be488764f28d1": {
      "model_module": "@jupyter-widgets/controls",
      "model_module_version": "1.5.0",
      "model_name": "DescriptionStyleModel",
      "state": {
       "description_width": ""
      }
     },
     "b0721781c3654771b64270102b7cf741": {
      "model_module": "@jupyter-widgets/controls",
      "model_module_version": "1.5.0",
      "model_name": "IntProgressModel",
      "state": {
       "bar_style": "success",
       "description": "[7/30][Test][14] Loss_avg: 1.0465, Metric_avg: 0.36838: 100%",
       "layout": "IPY_MODEL_81a52e9d405d411cb3d6cddc4c230508",
       "max": 15,
       "style": "IPY_MODEL_cd938ea2c0264308a598340d848d77d1",
       "value": 15
      }
     },
     "b07c994f72514860b68391ef64e211a5": {
      "model_module": "@jupyter-widgets/controls",
      "model_module_version": "1.5.0",
      "model_name": "HBoxModel",
      "state": {
       "children": [
        "IPY_MODEL_65039eddcdb24f958e847e1c3887159c",
        "IPY_MODEL_0bf9a95bff56496f8f4e0d0ebceec284"
       ],
       "layout": "IPY_MODEL_d21b4024b0d04c1989b018a87372422d"
      }
     },
     "b07ce1db609c4d3a89d76674701d4862": {
      "model_module": "@jupyter-widgets/controls",
      "model_module_version": "1.5.0",
      "model_name": "DescriptionStyleModel",
      "state": {
       "description_width": ""
      }
     },
     "b0845f37f9474b498db454b0f2625d98": {
      "model_module": "@jupyter-widgets/controls",
      "model_module_version": "1.5.0",
      "model_name": "DescriptionStyleModel",
      "state": {
       "description_width": ""
      }
     },
     "b0993baa6f7e496eab87abc351902c45": {
      "model_module": "@jupyter-widgets/controls",
      "model_module_version": "1.5.0",
      "model_name": "HBoxModel",
      "state": {
       "children": [
        "IPY_MODEL_e05e08a323514378b8c0c68d85227175",
        "IPY_MODEL_d1d7ba9cc90e48819e2a4a22f3660bed"
       ],
       "layout": "IPY_MODEL_cb9fba3a351149e181e4ce5ae9367f2b"
      }
     },
     "b1619e3368954958b8852d4444f90765": {
      "model_module": "@jupyter-widgets/controls",
      "model_module_version": "1.5.0",
      "model_name": "ProgressStyleModel",
      "state": {
       "description_width": "initial"
      }
     },
     "b22f426df6c74b55b4086626b3848cdc": {
      "model_module": "@jupyter-widgets/base",
      "model_module_version": "1.2.0",
      "model_name": "LayoutModel",
      "state": {
       "display": "inline-flex",
       "flex_flow": "row wrap",
       "width": "100%"
      }
     },
     "b2b41da015864368a5a9e85d8ffabb3e": {
      "model_module": "@jupyter-widgets/controls",
      "model_module_version": "1.5.0",
      "model_name": "DescriptionStyleModel",
      "state": {
       "description_width": ""
      }
     },
     "b325d791cc2d4147be197cdee0d8f097": {
      "model_module": "@jupyter-widgets/base",
      "model_module_version": "1.2.0",
      "model_name": "LayoutModel",
      "state": {
       "flex": "2"
      }
     },
     "b349035a23db4d4ea1f67cb74355b87c": {
      "model_module": "@jupyter-widgets/controls",
      "model_module_version": "1.5.0",
      "model_name": "ProgressStyleModel",
      "state": {
       "description_width": "initial"
      }
     },
     "b41a250d2cff4ce2a724fa7b93f50377": {
      "model_module": "@jupyter-widgets/base",
      "model_module_version": "1.2.0",
      "model_name": "LayoutModel",
      "state": {}
     },
     "b4606d544a6f438fbe947b9888315330": {
      "model_module": "@jupyter-widgets/controls",
      "model_module_version": "1.5.0",
      "model_name": "IntProgressModel",
      "state": {
       "bar_style": "success",
       "description": "[25/30][Test][14] Loss_avg: 0.41119, Metric_avg: 0.5175: 100%",
       "layout": "IPY_MODEL_8b7ae3708a5f4e54a244d57841b44067",
       "max": 15,
       "style": "IPY_MODEL_c4ec9e7e6bdf42fa835ce7b820341a5c",
       "value": 15
      }
     },
     "b46c240e17e44f5e9bfaa1a98ea2658f": {
      "model_module": "@jupyter-widgets/controls",
      "model_module_version": "1.5.0",
      "model_name": "IntProgressModel",
      "state": {
       "bar_style": "success",
       "description": "[18/30][Test][14] Loss_avg: 0.30584, Metric_avg: 0.60899: 100%",
       "layout": "IPY_MODEL_c3ae39c10c974daf97aeb6c8f557e434",
       "max": 15,
       "style": "IPY_MODEL_328aeac24db94d6c949cc5a82a333dd2",
       "value": 15
      }
     },
     "b47a3f095723434ea8b8156e950d08f7": {
      "model_module": "@jupyter-widgets/base",
      "model_module_version": "1.2.0",
      "model_name": "LayoutModel",
      "state": {}
     },
     "b48fb9b857fd49e1abb72ae1e9227c0d": {
      "model_module": "@jupyter-widgets/base",
      "model_module_version": "1.2.0",
      "model_name": "LayoutModel",
      "state": {
       "display": "inline-flex",
       "flex_flow": "row wrap",
       "width": "100%"
      }
     },
     "b4999a813f4d4e84beeea78118746bb7": {
      "model_module": "@jupyter-widgets/controls",
      "model_module_version": "1.5.0",
      "model_name": "IntProgressModel",
      "state": {
       "bar_style": "success",
       "description": "[12/30][Train][22] Loss_avg: 0.241, Loss: 0.24788, LR: 0.001: 100%",
       "layout": "IPY_MODEL_0e4fd01fc7c54ba88eacb398114134e7",
       "max": 23,
       "style": "IPY_MODEL_a09998370ca24c6091dcfa4dca765f11",
       "value": 23
      }
     },
     "b4ebfeeb02624db6b4e7b5a09ef949c4": {
      "model_module": "@jupyter-widgets/controls",
      "model_module_version": "1.5.0",
      "model_name": "DescriptionStyleModel",
      "state": {
       "description_width": ""
      }
     },
     "b54fcc1cb3ab41f0a41b5c6bbc224be9": {
      "model_module": "@jupyter-widgets/controls",
      "model_module_version": "1.5.0",
      "model_name": "DescriptionStyleModel",
      "state": {
       "description_width": ""
      }
     },
     "b58ce6dbfdc2452e92fd42e99f36f50a": {
      "model_module": "@jupyter-widgets/base",
      "model_module_version": "1.2.0",
      "model_name": "LayoutModel",
      "state": {
       "display": "inline-flex",
       "flex_flow": "row wrap",
       "width": "100%"
      }
     },
     "b5c3ee2148e94edfa9a4d847dbf9d322": {
      "model_module": "@jupyter-widgets/controls",
      "model_module_version": "1.5.0",
      "model_name": "HBoxModel",
      "state": {
       "children": [
        "IPY_MODEL_edb8588e14af4642936f294fb4731046",
        "IPY_MODEL_93d72f4aa8be4c05882fd4a1ec7d5503"
       ],
       "layout": "IPY_MODEL_70c27969181b4694963bd00eb7cb8441"
      }
     },
     "b5c417ebaae14cf4b4bd231d2641078f": {
      "model_module": "@jupyter-widgets/base",
      "model_module_version": "1.2.0",
      "model_name": "LayoutModel",
      "state": {
       "display": "inline-flex",
       "flex_flow": "row wrap",
       "width": "100%"
      }
     },
     "b5d45c22be3146db865252e1f246769b": {
      "model_module": "@jupyter-widgets/base",
      "model_module_version": "1.2.0",
      "model_name": "LayoutModel",
      "state": {
       "flex": "2"
      }
     },
     "b6025803093643ed968f4d5fceb561b4": {
      "model_module": "@jupyter-widgets/base",
      "model_module_version": "1.2.0",
      "model_name": "LayoutModel",
      "state": {
       "flex": "2"
      }
     },
     "b66209fc620e4c77aa829eb34fc6b5f0": {
      "model_module": "@jupyter-widgets/base",
      "model_module_version": "1.2.0",
      "model_name": "LayoutModel",
      "state": {
       "display": "inline-flex",
       "flex_flow": "row wrap",
       "width": "100%"
      }
     },
     "b68438b17b6740e7b7a952645d9a2687": {
      "model_module": "@jupyter-widgets/base",
      "model_module_version": "1.2.0",
      "model_name": "LayoutModel",
      "state": {}
     },
     "b695b27f8e9e4e62ac8fa6619b152b9a": {
      "model_module": "@jupyter-widgets/controls",
      "model_module_version": "1.5.0",
      "model_name": "HTMLModel",
      "state": {
       "layout": "IPY_MODEL_d577408ed5aa4bcab42dcb5cbf00732a",
       "style": "IPY_MODEL_b2b41da015864368a5a9e85d8ffabb3e",
       "value": " 15/15 [02:18&lt;00:00,  9.26s/it]"
      }
     },
     "b745a61f53ee48439fff368431081f20": {
      "model_module": "@jupyter-widgets/controls",
      "model_module_version": "1.5.0",
      "model_name": "HBoxModel",
      "state": {
       "children": [
        "IPY_MODEL_010b0000247e49d7bdbb4f9483223187",
        "IPY_MODEL_8a073d741bea4598ab2e28e572f32614"
       ],
       "layout": "IPY_MODEL_d7b52191a452465fa7d2f67f56d46f5d"
      }
     },
     "b74fbc4e0a0b46c7876c098b76c689a4": {
      "model_module": "@jupyter-widgets/base",
      "model_module_version": "1.2.0",
      "model_name": "LayoutModel",
      "state": {}
     },
     "b7ddc934be654a65ba59416542515488": {
      "model_module": "@jupyter-widgets/controls",
      "model_module_version": "1.5.0",
      "model_name": "HTMLModel",
      "state": {
       "layout": "IPY_MODEL_a8fd79b226e44cc898437601463775e3",
       "style": "IPY_MODEL_1c75a5c05a4b4eb9adff48b6b95936a3",
       "value": " 23/23 [00:06&lt;00:00,  3.71it/s]"
      }
     },
     "b8228f65d2a14afbbe1a7637c7e6e6a2": {
      "model_module": "@jupyter-widgets/controls",
      "model_module_version": "1.5.0",
      "model_name": "HBoxModel",
      "state": {
       "children": [
        "IPY_MODEL_f268ffb73dd848deb29de5540652b28f",
        "IPY_MODEL_c70f319a2b5b4ea19603d633fa35bdd7"
       ],
       "layout": "IPY_MODEL_bdef5b8abf7043f4a74c672b3828dcd3"
      }
     },
     "b8507c77705d43e8b5d03de418383fe8": {
      "model_module": "@jupyter-widgets/controls",
      "model_module_version": "1.5.0",
      "model_name": "HTMLModel",
      "state": {
       "layout": "IPY_MODEL_b74fbc4e0a0b46c7876c098b76c689a4",
       "style": "IPY_MODEL_bd2efc6e801b4b9583695cf4f35baa41",
       "value": " 23/23 [00:18&lt;00:00,  1.22it/s]"
      }
     },
     "b85a6012461e4781a6b1f800c2e942f5": {
      "model_module": "@jupyter-widgets/controls",
      "model_module_version": "1.5.0",
      "model_name": "HTMLModel",
      "state": {
       "layout": "IPY_MODEL_7864557fdde74bdd8193a7d21b1082fb",
       "style": "IPY_MODEL_ee72785131294da58f82097ea9409371",
       "value": " 23/23 [00:08&lt;00:00,  2.59it/s]"
      }
     },
     "b8884d041a934edbb34583fe7c6c1c4c": {
      "model_module": "@jupyter-widgets/base",
      "model_module_version": "1.2.0",
      "model_name": "LayoutModel",
      "state": {
       "display": "inline-flex",
       "flex_flow": "row wrap",
       "width": "100%"
      }
     },
     "b8ef45e162814a27860d26f0aa70a22a": {
      "model_module": "@jupyter-widgets/controls",
      "model_module_version": "1.5.0",
      "model_name": "HTMLModel",
      "state": {
       "layout": "IPY_MODEL_f588412d07a44ef7b971cbab63fe35fd",
       "style": "IPY_MODEL_902638261e734f40b58c18b9ea914af6",
       "value": " 23/23 [00:04&lt;00:00,  5.09it/s]"
      }
     },
     "b8f01205ebed4054ac69fa04ffa3ddec": {
      "model_module": "@jupyter-widgets/controls",
      "model_module_version": "1.5.0",
      "model_name": "HBoxModel",
      "state": {
       "children": [
        "IPY_MODEL_4ffee32eb29a49bd9f15c8a5221ccc39",
        "IPY_MODEL_3f20b4791e6c41da97343fc7a9934a64"
       ],
       "layout": "IPY_MODEL_40f2b372996a47b8a628de6fc7b4b3be"
      }
     },
     "b8ff8a75327a4541a250d699b43b3336": {
      "model_module": "@jupyter-widgets/controls",
      "model_module_version": "1.5.0",
      "model_name": "HTMLModel",
      "state": {
       "layout": "IPY_MODEL_086520cb3d01484d895909122ec9c8db",
       "style": "IPY_MODEL_6757d42da82147f8ba8d908c8b5be2f8",
       "value": " 23/23 [00:06&lt;00:00,  3.73it/s]"
      }
     },
     "b94fd601886148bca4d1d1a770cc09e9": {
      "model_module": "@jupyter-widgets/controls",
      "model_module_version": "1.5.0",
      "model_name": "IntProgressModel",
      "state": {
       "bar_style": "success",
       "description": "[12/30][Test][14] Loss_avg: 0.55629, Metric_avg: 0.41143: 100%",
       "layout": "IPY_MODEL_58d9387496df4e88ad7a2547bcbb526c",
       "max": 15,
       "style": "IPY_MODEL_f7118d9407a74e0b99ff17fe074059ed",
       "value": 15
      }
     },
     "b95c8a2524c2445392965049948453e4": {
      "model_module": "@jupyter-widgets/base",
      "model_module_version": "1.2.0",
      "model_name": "LayoutModel",
      "state": {
       "flex": "2"
      }
     },
     "ba6b240f98384909936f36ec96d67cea": {
      "model_module": "@jupyter-widgets/controls",
      "model_module_version": "1.5.0",
      "model_name": "IntProgressModel",
      "state": {
       "bar_style": "success",
       "description": "[25/30][Test][14] Loss_avg: 0.33171, Metric_avg: 0.57735: 100%",
       "layout": "IPY_MODEL_684fd86465264c6f9278c4c6f7f0fbb9",
       "max": 15,
       "style": "IPY_MODEL_37203fe7e0584384926a1b60cbdac255",
       "value": 15
      }
     },
     "ba7877184c424adab008327b99c21eb1": {
      "model_module": "@jupyter-widgets/controls",
      "model_module_version": "1.5.0",
      "model_name": "HBoxModel",
      "state": {
       "children": [
        "IPY_MODEL_fe9b301863204961bb6e482f9f9d263e",
        "IPY_MODEL_603a036e29104d5191a1e7c96713f3d8"
       ],
       "layout": "IPY_MODEL_ce9477b15fbf4bdd9a4664b4e6604f1e"
      }
     },
     "ba834f7b02fa4eea97d9822ea38f60f7": {
      "model_module": "@jupyter-widgets/controls",
      "model_module_version": "1.5.0",
      "model_name": "IntProgressModel",
      "state": {
       "bar_style": "success",
       "description": "[18/30][Train][22] Loss_avg: 0.2055, Loss: 0.20484, LR: 0.001: 100%",
       "layout": "IPY_MODEL_35de89ff13a04a39a96ab2e501f99eb0",
       "max": 23,
       "style": "IPY_MODEL_09eed88a86a243dd825aa43065a7ec91",
       "value": 23
      }
     },
     "bb1408d1d7944ee2bb4cd058b7e3f1cd": {
      "model_module": "@jupyter-widgets/controls",
      "model_module_version": "1.5.0",
      "model_name": "HTMLModel",
      "state": {
       "layout": "IPY_MODEL_d7207a806053458baa65fe72ae48dd1e",
       "style": "IPY_MODEL_aa7efb15fd894413b89e562db1cd8430",
       "value": " 23/23 [00:18&lt;00:00,  1.24it/s]"
      }
     },
     "bb7998bd5cbd432aa694666927b24cc9": {
      "model_module": "@jupyter-widgets/controls",
      "model_module_version": "1.5.0",
      "model_name": "HTMLModel",
      "state": {
       "layout": "IPY_MODEL_805f418c0f13441fa78b4973284d2ac6",
       "style": "IPY_MODEL_5d45bc89064242a0899218aae1cef9c4",
       "value": " 23/23 [00:25&lt;00:00,  1.09s/it]"
      }
     },
     "bca54d166ec94cd793b944a1e022f3fc": {
      "model_module": "@jupyter-widgets/base",
      "model_module_version": "1.2.0",
      "model_name": "LayoutModel",
      "state": {}
     },
     "bce9ac2ad97d4df196c1208cd11b021c": {
      "model_module": "@jupyter-widgets/base",
      "model_module_version": "1.2.0",
      "model_name": "LayoutModel",
      "state": {
       "display": "inline-flex",
       "flex_flow": "row wrap",
       "width": "100%"
      }
     },
     "bcf48316ae7b492392c5ee4c3a7686fd": {
      "model_module": "@jupyter-widgets/controls",
      "model_module_version": "1.5.0",
      "model_name": "HBoxModel",
      "state": {
       "children": [
        "IPY_MODEL_5959b915bedf42388298f666b8b5be0a",
        "IPY_MODEL_cbc95d4f641f41e4bc676c84a263d0c9"
       ],
       "layout": "IPY_MODEL_5bdedf2d9e0b4a399c475be63d215bb1"
      }
     },
     "bd2efc6e801b4b9583695cf4f35baa41": {
      "model_module": "@jupyter-widgets/controls",
      "model_module_version": "1.5.0",
      "model_name": "DescriptionStyleModel",
      "state": {
       "description_width": ""
      }
     },
     "bd5835d154474190b46a109891328693": {
      "model_module": "@jupyter-widgets/controls",
      "model_module_version": "1.5.0",
      "model_name": "HBoxModel",
      "state": {
       "children": [
        "IPY_MODEL_7883e0a4f9be4174885acaafd73ef019",
        "IPY_MODEL_bb1408d1d7944ee2bb4cd058b7e3f1cd"
       ],
       "layout": "IPY_MODEL_c134e9ad6de14fb6894b8f2c4e584466"
      }
     },
     "bd8e5e7ad04e49dba8c4c5221eb9a028": {
      "model_module": "@jupyter-widgets/base",
      "model_module_version": "1.2.0",
      "model_name": "LayoutModel",
      "state": {
       "display": "inline-flex",
       "flex_flow": "row wrap",
       "width": "100%"
      }
     },
     "bdad265cbf274b71aaba2313c864f37c": {
      "model_module": "@jupyter-widgets/controls",
      "model_module_version": "1.5.0",
      "model_name": "HBoxModel",
      "state": {
       "children": [
        "IPY_MODEL_1d5d9455c5844c00b4e47dd85eb61880",
        "IPY_MODEL_1b66ad05ed32443785785653f26047c1"
       ],
       "layout": "IPY_MODEL_68bef10980e34f80a82a7ef72d8797d5"
      }
     },
     "bdd01a2d8fca4ba1853899be220488cc": {
      "model_module": "@jupyter-widgets/base",
      "model_module_version": "1.2.0",
      "model_name": "LayoutModel",
      "state": {
       "flex": "2"
      }
     },
     "bdef5b8abf7043f4a74c672b3828dcd3": {
      "model_module": "@jupyter-widgets/base",
      "model_module_version": "1.2.0",
      "model_name": "LayoutModel",
      "state": {
       "display": "inline-flex",
       "flex_flow": "row wrap",
       "width": "100%"
      }
     },
     "bdfb00d23b67400593f77389c1c0747e": {
      "model_module": "@jupyter-widgets/controls",
      "model_module_version": "1.5.0",
      "model_name": "HTMLModel",
      "state": {
       "layout": "IPY_MODEL_4ce9cb12b4584d9c8cd8c0c209a35a6e",
       "style": "IPY_MODEL_adc0cd65f5e546fda8586326c325d8e2",
       "value": " 23/23 [00:13&lt;00:00,  1.69it/s]"
      }
     },
     "be16847225f8401d8c15b44dd6d03384": {
      "model_module": "@jupyter-widgets/controls",
      "model_module_version": "1.5.0",
      "model_name": "HTMLModel",
      "state": {
       "layout": "IPY_MODEL_87024ddc2f5a46918982317103dcb36e",
       "style": "IPY_MODEL_d1bc987acdfa4ce7b1ffb477aa57cec0",
       "value": " 15/15 [01:45&lt;00:00,  7.03s/it]"
      }
     },
     "be42d724401d47bab62b2e2005fbeb97": {
      "model_module": "@jupyter-widgets/controls",
      "model_module_version": "1.5.0",
      "model_name": "ProgressStyleModel",
      "state": {
       "description_width": "initial"
      }
     },
     "be446fcfb1344e6ebe350026e88cfcbd": {
      "model_module": "@jupyter-widgets/base",
      "model_module_version": "1.2.0",
      "model_name": "LayoutModel",
      "state": {
       "flex": "2"
      }
     },
     "be6ce61ca94c4451aa4d45bbb34abcc7": {
      "model_module": "@jupyter-widgets/controls",
      "model_module_version": "1.5.0",
      "model_name": "IntProgressModel",
      "state": {
       "bar_style": "success",
       "description": "epoch: 29, test_miou: 0.60235, train_loss: 0.17063, test_loss: 0.33366: 100%",
       "layout": "IPY_MODEL_e4cd7c5e2cf54954b5777daee319f396",
       "max": 30,
       "style": "IPY_MODEL_cbc27b4a5c2b43aa9b5d7b952fa1443e",
       "value": 30
      }
     },
     "be939c7b882e48a8bb61043cbcfe20dd": {
      "model_module": "@jupyter-widgets/controls",
      "model_module_version": "1.5.0",
      "model_name": "HBoxModel",
      "state": {
       "children": [
        "IPY_MODEL_4b5c99f9717845449b41189433c25642",
        "IPY_MODEL_1ce3892e975547cfaa93153af2ee5430"
       ],
       "layout": "IPY_MODEL_0c048c18170648e39c8b30b155b3544b"
      }
     },
     "bedf657985f54eb389ef01087f1fbf74": {
      "model_module": "@jupyter-widgets/controls",
      "model_module_version": "1.5.0",
      "model_name": "DescriptionStyleModel",
      "state": {
       "description_width": ""
      }
     },
     "beff4805fbe4463688bd587f0c92aded": {
      "model_module": "@jupyter-widgets/base",
      "model_module_version": "1.2.0",
      "model_name": "LayoutModel",
      "state": {}
     },
     "bf6855e917c2417b8f63169f49d3e88a": {
      "model_module": "@jupyter-widgets/base",
      "model_module_version": "1.2.0",
      "model_name": "LayoutModel",
      "state": {
       "flex": "2"
      }
     },
     "bf9dee364374454bb688d2c8ec5596ef": {
      "model_module": "@jupyter-widgets/controls",
      "model_module_version": "1.5.0",
      "model_name": "HBoxModel",
      "state": {
       "children": [
        "IPY_MODEL_e68df3e2681649a28524b13c148f4aa2",
        "IPY_MODEL_ffb7c938ce1b4df2bd4c899c7bee39ba"
       ],
       "layout": "IPY_MODEL_a29e6735e2b14d8d8c77a28f5f6aeb65"
      }
     },
     "bfef486b05c74851ae778b8f63452bde": {
      "model_module": "@jupyter-widgets/controls",
      "model_module_version": "1.5.0",
      "model_name": "DescriptionStyleModel",
      "state": {
       "description_width": ""
      }
     },
     "c0130a02de3d4e8d81a6de1ee9be1fe5": {
      "model_module": "@jupyter-widgets/controls",
      "model_module_version": "1.5.0",
      "model_name": "HTMLModel",
      "state": {
       "layout": "IPY_MODEL_abd3afb7c67d478e8e22107bd9fcb3ac",
       "style": "IPY_MODEL_cce8483e043c424fb81e715883beb221",
       "value": " 23/23 [00:08&lt;00:00,  2.73it/s]"
      }
     },
     "c0228fecd44b4268b485851a52019752": {
      "model_module": "@jupyter-widgets/base",
      "model_module_version": "1.2.0",
      "model_name": "LayoutModel",
      "state": {}
     },
     "c02a9a1584c2407e9d246a4e7ac9a92b": {
      "model_module": "@jupyter-widgets/base",
      "model_module_version": "1.2.0",
      "model_name": "LayoutModel",
      "state": {}
     },
     "c0bbce658c6b4722886db2022d256d5d": {
      "model_module": "@jupyter-widgets/base",
      "model_module_version": "1.2.0",
      "model_name": "LayoutModel",
      "state": {}
     },
     "c0f4f7fe1b504947a207ac2a200244e8": {
      "model_module": "@jupyter-widgets/base",
      "model_module_version": "1.2.0",
      "model_name": "LayoutModel",
      "state": {
       "display": "inline-flex",
       "flex_flow": "row wrap",
       "width": "100%"
      }
     },
     "c134e9ad6de14fb6894b8f2c4e584466": {
      "model_module": "@jupyter-widgets/base",
      "model_module_version": "1.2.0",
      "model_name": "LayoutModel",
      "state": {
       "display": "inline-flex",
       "flex_flow": "row wrap",
       "width": "100%"
      }
     },
     "c1957cbd0d7743978da1d8e9ec9f2dbe": {
      "model_module": "@jupyter-widgets/controls",
      "model_module_version": "1.5.0",
      "model_name": "ProgressStyleModel",
      "state": {
       "description_width": "initial"
      }
     },
     "c21d1827eb424ac28f088a01d767a032": {
      "model_module": "@jupyter-widgets/controls",
      "model_module_version": "1.5.0",
      "model_name": "HBoxModel",
      "state": {
       "children": [
        "IPY_MODEL_59eb0331c00e47feb300935c54f46c2c",
        "IPY_MODEL_aed11098e6c7458881d466092f21a66f"
       ],
       "layout": "IPY_MODEL_821040b2abbe49c1881dadc117e93921"
      }
     },
     "c23b06c0178445a288a78cd41521eb85": {
      "model_module": "@jupyter-widgets/controls",
      "model_module_version": "1.5.0",
      "model_name": "IntProgressModel",
      "state": {
       "bar_style": "success",
       "description": "[0/30][Test][14] Loss_avg: 0.81085, Metric_avg: 0.33025: 100%",
       "layout": "IPY_MODEL_9d7705eee0e64914984205347da0384a",
       "max": 15,
       "style": "IPY_MODEL_e3f49a57b9484af08400d7a448d4a6de",
       "value": 15
      }
     },
     "c2d482cfb6014c0893ca42778ba40fbb": {
      "model_module": "@jupyter-widgets/controls",
      "model_module_version": "1.5.0",
      "model_name": "IntProgressModel",
      "state": {
       "bar_style": "success",
       "description": "[4/30][Test][14] Loss_avg: 0.40887, Metric_avg: 0.49033: 100%",
       "layout": "IPY_MODEL_b95c8a2524c2445392965049948453e4",
       "max": 15,
       "style": "IPY_MODEL_277e176601424a47b23275e979073fdf",
       "value": 15
      }
     },
     "c2eccaaf852e434c9ab225206806412e": {
      "model_module": "@jupyter-widgets/controls",
      "model_module_version": "1.5.0",
      "model_name": "IntProgressModel",
      "state": {
       "bar_style": "success",
       "description": "[28/30][Test][14] Loss_avg: 0.28871, Metric_avg: 0.61553: 100%",
       "layout": "IPY_MODEL_d57416bf018f41ee863b2c74444b5bcc",
       "max": 15,
       "style": "IPY_MODEL_64fc467402784a4d9e757a182eb152c5",
       "value": 15
      }
     },
     "c2ed6ebf367a4571aa2b6c8abe126dc8": {
      "model_module": "@jupyter-widgets/controls",
      "model_module_version": "1.5.0",
      "model_name": "ProgressStyleModel",
      "state": {
       "description_width": "initial"
      }
     },
     "c37ff2524ac041049ba7a0cf349c918d": {
      "model_module": "@jupyter-widgets/controls",
      "model_module_version": "1.5.0",
      "model_name": "ProgressStyleModel",
      "state": {
       "description_width": "initial"
      }
     },
     "c3ae39c10c974daf97aeb6c8f557e434": {
      "model_module": "@jupyter-widgets/base",
      "model_module_version": "1.2.0",
      "model_name": "LayoutModel",
      "state": {
       "flex": "2"
      }
     },
     "c3c45cd6933f4eb19f725e02c592a880": {
      "model_module": "@jupyter-widgets/controls",
      "model_module_version": "1.5.0",
      "model_name": "HBoxModel",
      "state": {
       "children": [
        "IPY_MODEL_529555a5de094a40bb352e77c8da5038",
        "IPY_MODEL_2317b12e097542aab7232738ee7a5c33"
       ],
       "layout": "IPY_MODEL_b66209fc620e4c77aa829eb34fc6b5f0"
      }
     },
     "c3ccc49c7edc434ab115b0d39c467216": {
      "model_module": "@jupyter-widgets/controls",
      "model_module_version": "1.5.0",
      "model_name": "HBoxModel",
      "state": {
       "children": [
        "IPY_MODEL_3d984a1270e94b1d8d076839199422e2",
        "IPY_MODEL_02360f52ac5f42fa985194391d6959c9"
       ],
       "layout": "IPY_MODEL_963cab55025341c69c4e2b79e5f5946d"
      }
     },
     "c403d0fe91c240d5acfc021208359510": {
      "model_module": "@jupyter-widgets/controls",
      "model_module_version": "1.5.0",
      "model_name": "DescriptionStyleModel",
      "state": {
       "description_width": ""
      }
     },
     "c41e3b1904484338b2942cf8ecd1c696": {
      "model_module": "@jupyter-widgets/controls",
      "model_module_version": "1.5.0",
      "model_name": "HBoxModel",
      "state": {
       "children": [
        "IPY_MODEL_94ac30592be24465a33de5bb12bf3eb9",
        "IPY_MODEL_226a8b74717d4242802f812e6f006f28"
       ],
       "layout": "IPY_MODEL_e281e882b3ba4b06861ebd6907d070be"
      }
     },
     "c46c79f053ae4c929671dd76c6e76548": {
      "model_module": "@jupyter-widgets/controls",
      "model_module_version": "1.5.0",
      "model_name": "ProgressStyleModel",
      "state": {
       "description_width": "initial"
      }
     },
     "c46cd7be1cc64fb4bba1cc1b68785a52": {
      "model_module": "@jupyter-widgets/base",
      "model_module_version": "1.2.0",
      "model_name": "LayoutModel",
      "state": {
       "flex": "2"
      }
     },
     "c4a09c80cef74d5498af988112c71759": {
      "model_module": "@jupyter-widgets/controls",
      "model_module_version": "1.5.0",
      "model_name": "HBoxModel",
      "state": {
       "children": [
        "IPY_MODEL_34c74f50cc6f4d8c88b3c6b5e9886f13",
        "IPY_MODEL_4a0fed634ad949668cfd5f0268647f82"
       ],
       "layout": "IPY_MODEL_0083263cdfa843ebb73291cf4ea7ea85"
      }
     },
     "c4ec9e7e6bdf42fa835ce7b820341a5c": {
      "model_module": "@jupyter-widgets/controls",
      "model_module_version": "1.5.0",
      "model_name": "ProgressStyleModel",
      "state": {
       "description_width": "initial"
      }
     },
     "c4f238408c034c54a831443083e19e82": {
      "model_module": "@jupyter-widgets/controls",
      "model_module_version": "1.5.0",
      "model_name": "DescriptionStyleModel",
      "state": {
       "description_width": ""
      }
     },
     "c58b54c6f6704075b87995d22d2830d5": {
      "model_module": "@jupyter-widgets/controls",
      "model_module_version": "1.5.0",
      "model_name": "ProgressStyleModel",
      "state": {
       "description_width": "initial"
      }
     },
     "c5e4c041761c4f34b380623688a95974": {
      "model_module": "@jupyter-widgets/controls",
      "model_module_version": "1.5.0",
      "model_name": "IntProgressModel",
      "state": {
       "bar_style": "success",
       "description": "[28/30][Train][22] Loss_avg: 0.17464, Loss: 0.15638, LR: 0.001: 100%",
       "layout": "IPY_MODEL_d520556b8ec84e7babdb423702e4f3d8",
       "max": 23,
       "style": "IPY_MODEL_b1619e3368954958b8852d4444f90765",
       "value": 23
      }
     },
     "c649af3548844609bfd762444ce3e421": {
      "model_module": "@jupyter-widgets/controls",
      "model_module_version": "1.5.0",
      "model_name": "IntProgressModel",
      "state": {
       "bar_style": "success",
       "description": "[29/30][Train][22] Loss_avg: 0.17063, Loss: 0.18898, LR: 0.001: 100%",
       "layout": "IPY_MODEL_4eb0129436d34532bee36158a18ab434",
       "max": 23,
       "style": "IPY_MODEL_f56049e2136e4a04b9707ee3957bc313",
       "value": 23
      }
     },
     "c6be9e88b0a444c4a9f270341334cab3": {
      "model_module": "@jupyter-widgets/base",
      "model_module_version": "1.2.0",
      "model_name": "LayoutModel",
      "state": {}
     },
     "c6fe23a3f3a64b4db26ec28e8f2c0f10": {
      "model_module": "@jupyter-widgets/base",
      "model_module_version": "1.2.0",
      "model_name": "LayoutModel",
      "state": {}
     },
     "c70d4c6b678647049d75c8d4a6ae57e7": {
      "model_module": "@jupyter-widgets/controls",
      "model_module_version": "1.5.0",
      "model_name": "HBoxModel",
      "state": {
       "children": [
        "IPY_MODEL_77e9ee242be44c2990307b1f6fbb8b88",
        "IPY_MODEL_1b1625b356144c8dbf67ad30deda73b8"
       ],
       "layout": "IPY_MODEL_172c28053fae44c092a6ed2090d4392b"
      }
     },
     "c70f319a2b5b4ea19603d633fa35bdd7": {
      "model_module": "@jupyter-widgets/controls",
      "model_module_version": "1.5.0",
      "model_name": "HTMLModel",
      "state": {
       "layout": "IPY_MODEL_937b689a2d904837b23d3d0c93e60d1c",
       "style": "IPY_MODEL_26d7a2ddb4794e599e46bd210152e786",
       "value": " 23/23 [00:08&lt;00:00,  2.72it/s]"
      }
     },
     "c742fd3ea3f149f2bad084d491813ee1": {
      "model_module": "@jupyter-widgets/controls",
      "model_module_version": "1.5.0",
      "model_name": "HTMLModel",
      "state": {
       "layout": "IPY_MODEL_dbdb265731ed4cf59cb28ec17dff4e35",
       "style": "IPY_MODEL_2d70f2c3af7c4bfb8d8f83206945fb99",
       "value": " 15/15 [00:03&lt;00:00,  3.85it/s]"
      }
     },
     "c7bf8c14cd9c40129e4dbdb93759ddb8": {
      "model_module": "@jupyter-widgets/controls",
      "model_module_version": "1.5.0",
      "model_name": "HTMLModel",
      "state": {
       "layout": "IPY_MODEL_7925522e986349e58ab6d43ad232504f",
       "style": "IPY_MODEL_bedf657985f54eb389ef01087f1fbf74",
       "value": " 23/23 [00:27&lt;00:00,  1.21s/it]"
      }
     },
     "c84db80468c246f38db16c284890db54": {
      "model_module": "@jupyter-widgets/controls",
      "model_module_version": "1.5.0",
      "model_name": "HTMLModel",
      "state": {
       "layout": "IPY_MODEL_dff87c80774f4532b0ca90c20f97b00a",
       "style": "IPY_MODEL_7375425c482d4ac2835fbc99b692fc1a",
       "value": " 15/15 [00:03&lt;00:00,  3.90it/s]"
      }
     },
     "c84f83e9a8194a60827c157916b69708": {
      "model_module": "@jupyter-widgets/controls",
      "model_module_version": "1.5.0",
      "model_name": "IntProgressModel",
      "state": {
       "bar_style": "success",
       "description": "[14/30][Train][22] Loss_avg: 0.24316, Loss: 0.29426, LR: 0.001: 100%",
       "layout": "IPY_MODEL_9282fb9c5d5942399825cf26048f76ce",
       "max": 23,
       "style": "IPY_MODEL_55df8e9454d049e796e094de065355e8",
       "value": 23
      }
     },
     "c879515b03164bf9af277a0377de6112": {
      "model_module": "@jupyter-widgets/controls",
      "model_module_version": "1.5.0",
      "model_name": "DescriptionStyleModel",
      "state": {
       "description_width": ""
      }
     },
     "c892f331c8074956b721bac8f9b6225e": {
      "model_module": "@jupyter-widgets/controls",
      "model_module_version": "1.5.0",
      "model_name": "IntProgressModel",
      "state": {
       "bar_style": "success",
       "description": "[24/30][Train][22] Loss_avg: 0.20023, Loss: 0.17217, LR: 0.001: 100%",
       "layout": "IPY_MODEL_cea9a4554bda45e7a984568f294811cd",
       "max": 23,
       "style": "IPY_MODEL_16e52a802a3449d88c2fa2215ffe5353",
       "value": 23
      }
     },
     "c8aa054a298747208ba4c1c8b39cc69b": {
      "model_module": "@jupyter-widgets/controls",
      "model_module_version": "1.5.0",
      "model_name": "ProgressStyleModel",
      "state": {
       "description_width": "initial"
      }
     },
     "c8e0a5983337433c9ef7202b4b90963f": {
      "model_module": "@jupyter-widgets/base",
      "model_module_version": "1.2.0",
      "model_name": "LayoutModel",
      "state": {
       "display": "inline-flex",
       "flex_flow": "row wrap",
       "width": "100%"
      }
     },
     "c93d04d3be0f41018226af64869e90b1": {
      "model_module": "@jupyter-widgets/controls",
      "model_module_version": "1.5.0",
      "model_name": "IntProgressModel",
      "state": {
       "bar_style": "success",
       "description": "[13/30][Train][22] Loss_avg: 0.31925, Loss: 0.28339, LR: 0.001: 100%",
       "layout": "IPY_MODEL_40cdcd6c811b46c8932a2a625cfd7647",
       "max": 23,
       "style": "IPY_MODEL_1f34cddfbd9d4f2d88a65690ac0b3972",
       "value": 23
      }
     },
     "c97d400c4f3d4d8ba48d7cb46a9d37b4": {
      "model_module": "@jupyter-widgets/base",
      "model_module_version": "1.2.0",
      "model_name": "LayoutModel",
      "state": {
       "flex": "2"
      }
     },
     "c9d37f683ed54b11be1b15de46c97f35": {
      "model_module": "@jupyter-widgets/base",
      "model_module_version": "1.2.0",
      "model_name": "LayoutModel",
      "state": {
       "flex": "2"
      }
     },
     "c9d4ce0628ed432dadf995b594eda7df": {
      "model_module": "@jupyter-widgets/base",
      "model_module_version": "1.2.0",
      "model_name": "LayoutModel",
      "state": {
       "flex": "2"
      }
     },
     "ca0e0f4b979949c1841e998b680a4611": {
      "model_module": "@jupyter-widgets/controls",
      "model_module_version": "1.5.0",
      "model_name": "DescriptionStyleModel",
      "state": {
       "description_width": ""
      }
     },
     "ca10e226f8264815ae9eddb065afb9de": {
      "model_module": "@jupyter-widgets/base",
      "model_module_version": "1.2.0",
      "model_name": "LayoutModel",
      "state": {
       "flex": "2"
      }
     },
     "ca6be96ebb01485aa4f822587df24df5": {
      "model_module": "@jupyter-widgets/base",
      "model_module_version": "1.2.0",
      "model_name": "LayoutModel",
      "state": {
       "flex": "2"
      }
     },
     "ca738f509b704395818f7011fbb383f5": {
      "model_module": "@jupyter-widgets/base",
      "model_module_version": "1.2.0",
      "model_name": "LayoutModel",
      "state": {}
     },
     "ca7937ebb8cd4487a975908521c425db": {
      "model_module": "@jupyter-widgets/base",
      "model_module_version": "1.2.0",
      "model_name": "LayoutModel",
      "state": {}
     },
     "cb49371325ae4114ae6fb271642145b6": {
      "model_module": "@jupyter-widgets/base",
      "model_module_version": "1.2.0",
      "model_name": "LayoutModel",
      "state": {
       "flex": "2"
      }
     },
     "cb4bd4c63ec54829a9368ad2f4b26f80": {
      "model_module": "@jupyter-widgets/base",
      "model_module_version": "1.2.0",
      "model_name": "LayoutModel",
      "state": {}
     },
     "cb9fba3a351149e181e4ce5ae9367f2b": {
      "model_module": "@jupyter-widgets/base",
      "model_module_version": "1.2.0",
      "model_name": "LayoutModel",
      "state": {
       "display": "inline-flex",
       "flex_flow": "row wrap",
       "width": "100%"
      }
     },
     "cbc27b4a5c2b43aa9b5d7b952fa1443e": {
      "model_module": "@jupyter-widgets/controls",
      "model_module_version": "1.5.0",
      "model_name": "ProgressStyleModel",
      "state": {
       "description_width": "initial"
      }
     },
     "cbc95d4f641f41e4bc676c84a263d0c9": {
      "model_module": "@jupyter-widgets/controls",
      "model_module_version": "1.5.0",
      "model_name": "HTMLModel",
      "state": {
       "layout": "IPY_MODEL_781d63d8955d41adbd4965def730d30b",
       "style": "IPY_MODEL_3ea3233d5ba54b26ace4fb4abcdf307c",
       "value": " 23/23 [00:06&lt;00:00,  3.69it/s]"
      }
     },
     "cc77e92a0a6e4886a9898aae35a0dd09": {
      "model_module": "@jupyter-widgets/base",
      "model_module_version": "1.2.0",
      "model_name": "LayoutModel",
      "state": {
       "flex": "2"
      }
     },
     "cc99ea51e887423a8f637f1a84bdf8e7": {
      "model_module": "@jupyter-widgets/controls",
      "model_module_version": "1.5.0",
      "model_name": "HTMLModel",
      "state": {
       "layout": "IPY_MODEL_b41a250d2cff4ce2a724fa7b93f50377",
       "style": "IPY_MODEL_e4ca32a43d774f7fb928a28f8868f644",
       "value": " 23/23 [00:16&lt;00:00,  1.38it/s]"
      }
     },
     "ccced26132ca40aca4aac6f47209bd20": {
      "model_module": "@jupyter-widgets/base",
      "model_module_version": "1.2.0",
      "model_name": "LayoutModel",
      "state": {}
     },
     "cce8483e043c424fb81e715883beb221": {
      "model_module": "@jupyter-widgets/controls",
      "model_module_version": "1.5.0",
      "model_name": "DescriptionStyleModel",
      "state": {
       "description_width": ""
      }
     },
     "cd041899ed90403cb286ef6aa3c0397d": {
      "model_module": "@jupyter-widgets/controls",
      "model_module_version": "1.5.0",
      "model_name": "IntProgressModel",
      "state": {
       "bar_style": "success",
       "description": "[14/30][Test][14] Loss_avg: 0.44334, Metric_avg: 0.49216: 100%",
       "layout": "IPY_MODEL_aa31edbc24bb420b91051d12f39df01c",
       "max": 15,
       "style": "IPY_MODEL_f3fe534521f546078a333ed7aab0deb7",
       "value": 15
      }
     },
     "cd8694e857514d2fba78b5bdc231535d": {
      "model_module": "@jupyter-widgets/base",
      "model_module_version": "1.2.0",
      "model_name": "LayoutModel",
      "state": {
       "flex": "2"
      }
     },
     "cd938ea2c0264308a598340d848d77d1": {
      "model_module": "@jupyter-widgets/controls",
      "model_module_version": "1.5.0",
      "model_name": "ProgressStyleModel",
      "state": {
       "description_width": "initial"
      }
     },
     "cddaaa63f38c4eaba03a7cb62b4550ec": {
      "model_module": "@jupyter-widgets/base",
      "model_module_version": "1.2.0",
      "model_name": "LayoutModel",
      "state": {
       "display": "inline-flex",
       "flex_flow": "row wrap",
       "width": "100%"
      }
     },
     "ce9477b15fbf4bdd9a4664b4e6604f1e": {
      "model_module": "@jupyter-widgets/base",
      "model_module_version": "1.2.0",
      "model_name": "LayoutModel",
      "state": {
       "display": "inline-flex",
       "flex_flow": "row wrap",
       "width": "100%"
      }
     },
     "cea9a4554bda45e7a984568f294811cd": {
      "model_module": "@jupyter-widgets/base",
      "model_module_version": "1.2.0",
      "model_name": "LayoutModel",
      "state": {
       "flex": "2"
      }
     },
     "ceade1c0afc4483ea2d32a52b234a105": {
      "model_module": "@jupyter-widgets/base",
      "model_module_version": "1.2.0",
      "model_name": "LayoutModel",
      "state": {}
     },
     "cf5cc7f42344489b930e174a1c9aa879": {
      "model_module": "@jupyter-widgets/controls",
      "model_module_version": "1.5.0",
      "model_name": "ProgressStyleModel",
      "state": {
       "description_width": "initial"
      }
     },
     "cf5f1de1f24a460da8132f1318bd1f65": {
      "model_module": "@jupyter-widgets/controls",
      "model_module_version": "1.5.0",
      "model_name": "DescriptionStyleModel",
      "state": {
       "description_width": ""
      }
     },
     "cfdc4dbd31d447a98dd157dc7034ea18": {
      "model_module": "@jupyter-widgets/base",
      "model_module_version": "1.2.0",
      "model_name": "LayoutModel",
      "state": {
       "display": "inline-flex",
       "flex_flow": "row wrap",
       "width": "100%"
      }
     },
     "d04a75e158694d27b08ddd1dd5a8b841": {
      "model_module": "@jupyter-widgets/controls",
      "model_module_version": "1.5.0",
      "model_name": "ProgressStyleModel",
      "state": {
       "description_width": "initial"
      }
     },
     "d053426c7b884337a3f09abddbad80d6": {
      "model_module": "@jupyter-widgets/controls",
      "model_module_version": "1.5.0",
      "model_name": "DescriptionStyleModel",
      "state": {
       "description_width": ""
      }
     },
     "d0b43157bbdc43d7972bf53b5bf9c84a": {
      "model_module": "@jupyter-widgets/controls",
      "model_module_version": "1.5.0",
      "model_name": "HBoxModel",
      "state": {
       "children": [
        "IPY_MODEL_f781ccfb58eb47ecac7fcd4d827bce32",
        "IPY_MODEL_3a1aeaa66938421690c39a00d1eb4bbf"
       ],
       "layout": "IPY_MODEL_9ba25c5be9b74795abf1e5358dd0a588"
      }
     },
     "d0ca334beff2449ba622373b36ab7e01": {
      "model_module": "@jupyter-widgets/controls",
      "model_module_version": "1.5.0",
      "model_name": "HTMLModel",
      "state": {
       "layout": "IPY_MODEL_557e1b79c125461f9d998a99a400cd31",
       "style": "IPY_MODEL_60271751d2af4c5db9bcf6c91f9bc1ed",
       "value": " 15/15 [00:03&lt;00:00,  3.91it/s]"
      }
     },
     "d0e159e4af564012ab312f37059a36e1": {
      "model_module": "@jupyter-widgets/controls",
      "model_module_version": "1.5.0",
      "model_name": "ProgressStyleModel",
      "state": {
       "description_width": "initial"
      }
     },
     "d106ef149b0743829e117ae3b24e9cfc": {
      "model_module": "@jupyter-widgets/base",
      "model_module_version": "1.2.0",
      "model_name": "LayoutModel",
      "state": {
       "display": "inline-flex",
       "flex_flow": "row wrap",
       "width": "100%"
      }
     },
     "d13bdca8ffbb4ff48998012d3a6b880a": {
      "model_module": "@jupyter-widgets/controls",
      "model_module_version": "1.5.0",
      "model_name": "IntProgressModel",
      "state": {
       "bar_style": "success",
       "description": "[1/30][Train][22] Loss_avg: 0.48811, Loss: 0.40947, LR: 0.001: 100%",
       "layout": "IPY_MODEL_c9d4ce0628ed432dadf995b594eda7df",
       "max": 23,
       "style": "IPY_MODEL_f0e2f914100346949c3350e91ec4dc7f",
       "value": 23
      }
     },
     "d165142d0ed84175997f934f7d131ee9": {
      "model_module": "@jupyter-widgets/base",
      "model_module_version": "1.2.0",
      "model_name": "LayoutModel",
      "state": {
       "flex": "2"
      }
     },
     "d1bc987acdfa4ce7b1ffb477aa57cec0": {
      "model_module": "@jupyter-widgets/controls",
      "model_module_version": "1.5.0",
      "model_name": "DescriptionStyleModel",
      "state": {
       "description_width": ""
      }
     },
     "d1d7ba9cc90e48819e2a4a22f3660bed": {
      "model_module": "@jupyter-widgets/controls",
      "model_module_version": "1.5.0",
      "model_name": "HTMLModel",
      "state": {
       "layout": "IPY_MODEL_c0228fecd44b4268b485851a52019752",
       "style": "IPY_MODEL_acd0fa64a7d74fa8b47a3cef5f03bcbe",
       "value": " 15/15 [00:03&lt;00:00,  3.94it/s]"
      }
     },
     "d21b4024b0d04c1989b018a87372422d": {
      "model_module": "@jupyter-widgets/base",
      "model_module_version": "1.2.0",
      "model_name": "LayoutModel",
      "state": {
       "display": "inline-flex",
       "flex_flow": "row wrap",
       "width": "100%"
      }
     },
     "d269a3a73b1e4fcd94ccdedb76c6cbdc": {
      "model_module": "@jupyter-widgets/controls",
      "model_module_version": "1.5.0",
      "model_name": "HBoxModel",
      "state": {
       "children": [
        "IPY_MODEL_a8252349229d4e1c96e054bf395b5be3",
        "IPY_MODEL_d0ca334beff2449ba622373b36ab7e01"
       ],
       "layout": "IPY_MODEL_26d27787fc1c408c829724077b3d43aa"
      }
     },
     "d29bcdde251a47dabcb113c30614e9ab": {
      "model_module": "@jupyter-widgets/controls",
      "model_module_version": "1.5.0",
      "model_name": "DescriptionStyleModel",
      "state": {
       "description_width": ""
      }
     },
     "d2c4f20f9ac448b783ce6135c36a9c35": {
      "model_module": "@jupyter-widgets/controls",
      "model_module_version": "1.5.0",
      "model_name": "ProgressStyleModel",
      "state": {
       "description_width": "initial"
      }
     },
     "d30e433208d04e769612f3c96fa02e66": {
      "model_module": "@jupyter-widgets/controls",
      "model_module_version": "1.5.0",
      "model_name": "DescriptionStyleModel",
      "state": {
       "description_width": ""
      }
     },
     "d31796de4fc14f5aaf521746642bb449": {
      "model_module": "@jupyter-widgets/controls",
      "model_module_version": "1.5.0",
      "model_name": "HBoxModel",
      "state": {
       "children": [
        "IPY_MODEL_80e5e04cc1234202bad967ecc1324d72",
        "IPY_MODEL_73099287dddb4dbcbb9f1017687d1acd"
       ],
       "layout": "IPY_MODEL_7b170b5118e14c3db6d979cc52ae12d7"
      }
     },
     "d333eee97c9a4722924b7590ce9778db": {
      "model_module": "@jupyter-widgets/base",
      "model_module_version": "1.2.0",
      "model_name": "LayoutModel",
      "state": {
       "flex": "2"
      }
     },
     "d33d6914db5d409e85c27c63e0f46748": {
      "model_module": "@jupyter-widgets/controls",
      "model_module_version": "1.5.0",
      "model_name": "HTMLModel",
      "state": {
       "layout": "IPY_MODEL_74132a580a934b0f99897d2dbf31c001",
       "style": "IPY_MODEL_0a78c460259d450aa229629f58583bd5",
       "value": " 15/15 [00:03&lt;00:00,  3.75it/s]"
      }
     },
     "d37a19439cb740789e35318f0399c156": {
      "model_module": "@jupyter-widgets/controls",
      "model_module_version": "1.5.0",
      "model_name": "HTMLModel",
      "state": {
       "layout": "IPY_MODEL_086b8db7874b4d54b01626cbda2a33b3",
       "style": "IPY_MODEL_d053426c7b884337a3f09abddbad80d6",
       "value": " 23/23 [00:16&lt;00:00,  1.37it/s]"
      }
     },
     "d3b0b43933c74b0c98ab447f330e02ad": {
      "model_module": "@jupyter-widgets/controls",
      "model_module_version": "1.5.0",
      "model_name": "HBoxModel",
      "state": {
       "children": [
        "IPY_MODEL_be6ce61ca94c4451aa4d45bbb34abcc7",
        "IPY_MODEL_e4ce229686cf4f34abecaaa5cdb5b1e1"
       ],
       "layout": "IPY_MODEL_531549df220a4289b495261d50437444"
      }
     },
     "d3d43ff634dd41df833a15108a1dc297": {
      "model_module": "@jupyter-widgets/base",
      "model_module_version": "1.2.0",
      "model_name": "LayoutModel",
      "state": {
       "display": "inline-flex",
       "flex_flow": "row wrap",
       "width": "100%"
      }
     },
     "d405cbdf82644ca59571c0fcafc0279e": {
      "model_module": "@jupyter-widgets/controls",
      "model_module_version": "1.5.0",
      "model_name": "ProgressStyleModel",
      "state": {
       "description_width": "initial"
      }
     },
     "d4642d8f632b48e5918378d681ea5ec6": {
      "model_module": "@jupyter-widgets/controls",
      "model_module_version": "1.5.0",
      "model_name": "DescriptionStyleModel",
      "state": {
       "description_width": ""
      }
     },
     "d4848d57793e4872815c88d1293cfbfd": {
      "model_module": "@jupyter-widgets/base",
      "model_module_version": "1.2.0",
      "model_name": "LayoutModel",
      "state": {
       "display": "inline-flex",
       "flex_flow": "row wrap",
       "width": "100%"
      }
     },
     "d48e4e62ef854eceaa72394405a95450": {
      "model_module": "@jupyter-widgets/controls",
      "model_module_version": "1.5.0",
      "model_name": "HTMLModel",
      "state": {
       "layout": "IPY_MODEL_4fd33e79a0cf4750a64d484e872999be",
       "style": "IPY_MODEL_6c47d6b3574d4d0195a6f4916cedf796",
       "value": " 15/15 [03:25&lt;00:00, 13.70s/it]"
      }
     },
     "d51b46b6f62749cc8436de4eca500de1": {
      "model_module": "@jupyter-widgets/base",
      "model_module_version": "1.2.0",
      "model_name": "LayoutModel",
      "state": {
       "flex": "2"
      }
     },
     "d520556b8ec84e7babdb423702e4f3d8": {
      "model_module": "@jupyter-widgets/base",
      "model_module_version": "1.2.0",
      "model_name": "LayoutModel",
      "state": {
       "flex": "2"
      }
     },
     "d57416bf018f41ee863b2c74444b5bcc": {
      "model_module": "@jupyter-widgets/base",
      "model_module_version": "1.2.0",
      "model_name": "LayoutModel",
      "state": {
       "flex": "2"
      }
     },
     "d577408ed5aa4bcab42dcb5cbf00732a": {
      "model_module": "@jupyter-widgets/base",
      "model_module_version": "1.2.0",
      "model_name": "LayoutModel",
      "state": {}
     },
     "d64324467383427d81595b80bd133ae5": {
      "model_module": "@jupyter-widgets/controls",
      "model_module_version": "1.5.0",
      "model_name": "HBoxModel",
      "state": {
       "children": [
        "IPY_MODEL_b4999a813f4d4e84beeea78118746bb7",
        "IPY_MODEL_6f2fc7ec762e4eeea8b8efd46dac3c9b"
       ],
       "layout": "IPY_MODEL_9f2590f8cdf44ea5a82eebec1484057d"
      }
     },
     "d69bf9ee93e84c2399d63b5abd890a9d": {
      "model_module": "@jupyter-widgets/controls",
      "model_module_version": "1.5.0",
      "model_name": "HBoxModel",
      "state": {
       "children": [
        "IPY_MODEL_c649af3548844609bfd762444ce3e421",
        "IPY_MODEL_526765177b344e9da1d1459f89ce0b1e"
       ],
       "layout": "IPY_MODEL_45f2edd1e53d4429b43da191725a2d9b"
      }
     },
     "d6c6edc2f51f47c29580917aa2dbb74c": {
      "model_module": "@jupyter-widgets/controls",
      "model_module_version": "1.5.0",
      "model_name": "HTMLModel",
      "state": {
       "layout": "IPY_MODEL_7836842afcb04e2c9bd5ba11263567f9",
       "style": "IPY_MODEL_630531efcda54d1ea85bf80fbcbd8a5d",
       "value": " 23/23 [00:16&lt;00:00,  1.37it/s]"
      }
     },
     "d6e8fb34bd8b4bfa9ee2a3c80d48e612": {
      "model_module": "@jupyter-widgets/base",
      "model_module_version": "1.2.0",
      "model_name": "LayoutModel",
      "state": {
       "display": "inline-flex",
       "flex_flow": "row wrap",
       "width": "100%"
      }
     },
     "d7207a806053458baa65fe72ae48dd1e": {
      "model_module": "@jupyter-widgets/base",
      "model_module_version": "1.2.0",
      "model_name": "LayoutModel",
      "state": {}
     },
     "d73cce3bb82e4ff1941857611196330d": {
      "model_module": "@jupyter-widgets/controls",
      "model_module_version": "1.5.0",
      "model_name": "ProgressStyleModel",
      "state": {
       "description_width": "initial"
      }
     },
     "d74e94edbaec4ab8ab4c0c27e89de001": {
      "model_module": "@jupyter-widgets/controls",
      "model_module_version": "1.5.0",
      "model_name": "HBoxModel",
      "state": {
       "children": [
        "IPY_MODEL_c93d04d3be0f41018226af64869e90b1",
        "IPY_MODEL_eeb3a66bcd72479aab6257d547f7350b"
       ],
       "layout": "IPY_MODEL_59739584bf9d4172b7bc78b99181f258"
      }
     },
     "d778d076feda4f9c8b883dc0fe0ea3c1": {
      "model_module": "@jupyter-widgets/base",
      "model_module_version": "1.2.0",
      "model_name": "LayoutModel",
      "state": {
       "display": "inline-flex",
       "flex_flow": "row wrap",
       "width": "100%"
      }
     },
     "d7b52191a452465fa7d2f67f56d46f5d": {
      "model_module": "@jupyter-widgets/base",
      "model_module_version": "1.2.0",
      "model_name": "LayoutModel",
      "state": {
       "display": "inline-flex",
       "flex_flow": "row wrap",
       "width": "100%"
      }
     },
     "d7f3848b792e4530ad5aa5f1062caf5f": {
      "model_module": "@jupyter-widgets/controls",
      "model_module_version": "1.5.0",
      "model_name": "HBoxModel",
      "state": {
       "children": [
        "IPY_MODEL_326eb6829a664ce6bded34ea336b0f21",
        "IPY_MODEL_afb806b747774e309d8a5aaa02223c7e"
       ],
       "layout": "IPY_MODEL_1e79d89b173248fa8d75f689927062ce"
      }
     },
     "d80422aedf9341689da10bae9a866bf3": {
      "model_module": "@jupyter-widgets/controls",
      "model_module_version": "1.5.0",
      "model_name": "IntProgressModel",
      "state": {
       "bar_style": "success",
       "description": "[25/30][Train][22] Loss_avg: 0.19417, Loss: 0.1824, LR: 0.001: 100%",
       "layout": "IPY_MODEL_9d84b9219edc4fd7bb2e0971266c90ae",
       "max": 23,
       "style": "IPY_MODEL_67e5648238c64cb39fbc20c40facc649",
       "value": 23
      }
     },
     "d8186061629944e280e1c173d06de192": {
      "model_module": "@jupyter-widgets/controls",
      "model_module_version": "1.5.0",
      "model_name": "ProgressStyleModel",
      "state": {
       "description_width": "initial"
      }
     },
     "d8a14f984e144481ba25c33b2fcd99e7": {
      "model_module": "@jupyter-widgets/controls",
      "model_module_version": "1.5.0",
      "model_name": "IntProgressModel",
      "state": {
       "bar_style": "success",
       "description": "[17/30][Test][14] Loss_avg: 0.45367, Metric_avg: 0.49008: 100%",
       "layout": "IPY_MODEL_789a44e4d7294e1d93552a69fbdd324c",
       "max": 15,
       "style": "IPY_MODEL_132b469b8314422d9619c9c8668507da",
       "value": 15
      }
     },
     "d8cb5731f05244e7bc99c737ed4a4e2a": {
      "model_module": "@jupyter-widgets/controls",
      "model_module_version": "1.5.0",
      "model_name": "IntProgressModel",
      "state": {
       "bar_style": "success",
       "description": "[16/30][Test][14] Loss_avg: 0.3833, Metric_avg: 0.5286: 100%",
       "layout": "IPY_MODEL_51410e9293e0434badc6bd803daba11b",
       "max": 15,
       "style": "IPY_MODEL_4529ed63814343198c9352c8024e3c70",
       "value": 15
      }
     },
     "d8ec9465444944df9e1349604b6fe2ce": {
      "model_module": "@jupyter-widgets/controls",
      "model_module_version": "1.5.0",
      "model_name": "HBoxModel",
      "state": {
       "children": [
        "IPY_MODEL_d90d77b0fe0e42d0880c19fe614334be",
        "IPY_MODEL_f65a81436dbc4639b9076f33b7009af8"
       ],
       "layout": "IPY_MODEL_bd8e5e7ad04e49dba8c4c5221eb9a028"
      }
     },
     "d9031915d0a542a7a91e58be322da06c": {
      "model_module": "@jupyter-widgets/base",
      "model_module_version": "1.2.0",
      "model_name": "LayoutModel",
      "state": {
       "flex": "2"
      }
     },
     "d90d77b0fe0e42d0880c19fe614334be": {
      "model_module": "@jupyter-widgets/controls",
      "model_module_version": "1.5.0",
      "model_name": "IntProgressModel",
      "state": {
       "bar_style": "success",
       "description": "[6/30][Test][14] Loss_avg: 0.5286, Metric_avg: 0.4592: 100%",
       "layout": "IPY_MODEL_a2fe7f9b1dc24c71bd8452d24e56fa8b",
       "max": 15,
       "style": "IPY_MODEL_2ad0ed3f51ca49099d96cecebc02073d",
       "value": 15
      }
     },
     "d91500ce06d74f11993ff7ea88adbe75": {
      "model_module": "@jupyter-widgets/controls",
      "model_module_version": "1.5.0",
      "model_name": "DescriptionStyleModel",
      "state": {
       "description_width": ""
      }
     },
     "d9f942ffd1a24a22ad883fb9e2003465": {
      "model_module": "@jupyter-widgets/controls",
      "model_module_version": "1.5.0",
      "model_name": "DescriptionStyleModel",
      "state": {
       "description_width": ""
      }
     },
     "d9f9705efb734f62b9647dbeb2ad4c1f": {
      "model_module": "@jupyter-widgets/base",
      "model_module_version": "1.2.0",
      "model_name": "LayoutModel",
      "state": {
       "display": "inline-flex",
       "flex_flow": "row wrap",
       "width": "100%"
      }
     },
     "da60cd09aee24226ac2b8f019a3fd6da": {
      "model_module": "@jupyter-widgets/base",
      "model_module_version": "1.2.0",
      "model_name": "LayoutModel",
      "state": {
       "display": "inline-flex",
       "flex_flow": "row wrap",
       "width": "100%"
      }
     },
     "da84fb937f664df1be96dc90b5b0ab41": {
      "model_module": "@jupyter-widgets/base",
      "model_module_version": "1.2.0",
      "model_name": "LayoutModel",
      "state": {
       "flex": "2"
      }
     },
     "db06d16b2f4846c7ab24b4cbe8fa1c75": {
      "model_module": "@jupyter-widgets/base",
      "model_module_version": "1.2.0",
      "model_name": "LayoutModel",
      "state": {}
     },
     "db45d01ad73a4610b8b824df08b73f0f": {
      "model_module": "@jupyter-widgets/controls",
      "model_module_version": "1.5.0",
      "model_name": "HTMLModel",
      "state": {
       "layout": "IPY_MODEL_ad1a9bea8c9b40778eb3ea30eab8fd53",
       "style": "IPY_MODEL_343e1d38597641d899128e04bb1640ba",
       "value": " 15/15 [00:03&lt;00:00,  3.91it/s]"
      }
     },
     "db545b808c6245dea13c273a351d3535": {
      "model_module": "@jupyter-widgets/controls",
      "model_module_version": "1.5.0",
      "model_name": "DescriptionStyleModel",
      "state": {
       "description_width": ""
      }
     },
     "db5c10d879e04ba88f236703a96ad349": {
      "model_module": "@jupyter-widgets/base",
      "model_module_version": "1.2.0",
      "model_name": "LayoutModel",
      "state": {
       "flex": "2"
      }
     },
     "dbb2e3f86d73406e99ed78408f6f4a09": {
      "model_module": "@jupyter-widgets/controls",
      "model_module_version": "1.5.0",
      "model_name": "HBoxModel",
      "state": {
       "children": [
        "IPY_MODEL_b0026a573dfd42cc97490fbd0eba73da",
        "IPY_MODEL_20aae0f4a8134a9a800a5b8da864d942"
       ],
       "layout": "IPY_MODEL_d6e8fb34bd8b4bfa9ee2a3c80d48e612"
      }
     },
     "dbdb265731ed4cf59cb28ec17dff4e35": {
      "model_module": "@jupyter-widgets/base",
      "model_module_version": "1.2.0",
      "model_name": "LayoutModel",
      "state": {}
     },
     "dbfa8db9fadd4d7faff80f52513adc60": {
      "model_module": "@jupyter-widgets/base",
      "model_module_version": "1.2.0",
      "model_name": "LayoutModel",
      "state": {
       "display": "inline-flex",
       "flex_flow": "row wrap",
       "width": "100%"
      }
     },
     "dc202c4f45a041998002ef98f0b3a966": {
      "model_module": "@jupyter-widgets/controls",
      "model_module_version": "1.5.0",
      "model_name": "HBoxModel",
      "state": {
       "children": [
        "IPY_MODEL_e55fbcfb0fa34545bb23419afc03d557",
        "IPY_MODEL_8ff912b0abb54510977bce93f6923016"
       ],
       "layout": "IPY_MODEL_a966993a37684b4b8b0976100dbfc42d"
      }
     },
     "dc3ad9af4e2f4b228fd8128d944ab8af": {
      "model_module": "@jupyter-widgets/controls",
      "model_module_version": "1.5.0",
      "model_name": "HBoxModel",
      "state": {
       "children": [
        "IPY_MODEL_6bc123afbf2f492f8649bebfb7e6cfb5",
        "IPY_MODEL_82c6c32d319b41d8a90411be0cf7f473"
       ],
       "layout": "IPY_MODEL_20108ac2bbd8496db9f1374381286a84"
      }
     },
     "dc6f54be390b4c3eb5dcb74079d4f78e": {
      "model_module": "@jupyter-widgets/base",
      "model_module_version": "1.2.0",
      "model_name": "LayoutModel",
      "state": {
       "display": "inline-flex",
       "flex_flow": "row wrap",
       "width": "100%"
      }
     },
     "dc9aa5ead1a44659979577cab21aaa74": {
      "model_module": "@jupyter-widgets/controls",
      "model_module_version": "1.5.0",
      "model_name": "IntProgressModel",
      "state": {
       "bar_style": "success",
       "description": "100%",
       "layout": "IPY_MODEL_f66397a65c454cff802af0cc67a3405c",
       "max": 233,
       "style": "IPY_MODEL_55fcb573cbcb4498a04eb269d272abba",
       "value": 233
      }
     },
     "dcebe9e492994bf1bd2c4c205e6114f3": {
      "model_module": "@jupyter-widgets/controls",
      "model_module_version": "1.5.0",
      "model_name": "HTMLModel",
      "state": {
       "layout": "IPY_MODEL_e0a3586d49354d2d82629d88a8a70ffb",
       "style": "IPY_MODEL_e6aa82e9f6014ff3b9d93173852ad8bc",
       "value": " 23/23 [00:55&lt;00:00,  2.43s/it]"
      }
     },
     "ddf09c30edfb464eaf61423ff4422422": {
      "model_module": "@jupyter-widgets/base",
      "model_module_version": "1.2.0",
      "model_name": "LayoutModel",
      "state": {
       "display": "inline-flex",
       "flex_flow": "row wrap",
       "width": "100%"
      }
     },
     "de3302329f1648b79cd944df7109edc0": {
      "model_module": "@jupyter-widgets/controls",
      "model_module_version": "1.5.0",
      "model_name": "ProgressStyleModel",
      "state": {
       "description_width": "initial"
      }
     },
     "dff87c80774f4532b0ca90c20f97b00a": {
      "model_module": "@jupyter-widgets/base",
      "model_module_version": "1.2.0",
      "model_name": "LayoutModel",
      "state": {}
     },
     "e02ebfdb7d6f458ba74f408943194aab": {
      "model_module": "@jupyter-widgets/controls",
      "model_module_version": "1.5.0",
      "model_name": "ProgressStyleModel",
      "state": {
       "description_width": "initial"
      }
     },
     "e0559061aaf24860863cbe20eb4da57a": {
      "model_module": "@jupyter-widgets/base",
      "model_module_version": "1.2.0",
      "model_name": "LayoutModel",
      "state": {}
     },
     "e05e08a323514378b8c0c68d85227175": {
      "model_module": "@jupyter-widgets/controls",
      "model_module_version": "1.5.0",
      "model_name": "IntProgressModel",
      "state": {
       "bar_style": "success",
       "description": "[21/30][Test][14] Loss_avg: 0.42875, Metric_avg: 0.53068: 100%",
       "layout": "IPY_MODEL_160ec5ad99f141adaf04ae141a1b4bf6",
       "max": 15,
       "style": "IPY_MODEL_c2ed6ebf367a4571aa2b6c8abe126dc8",
       "value": 15
      }
     },
     "e0782d544aa04f5dbd1e9d4b8c56e562": {
      "model_module": "@jupyter-widgets/controls",
      "model_module_version": "1.5.0",
      "model_name": "HTMLModel",
      "state": {
       "layout": "IPY_MODEL_c6fe23a3f3a64b4db26ec28e8f2c0f10",
       "style": "IPY_MODEL_ec7fb77890db49ff94b2da2320239773",
       "value": " 23/23 [00:08&lt;00:00,  2.85it/s]"
      }
     },
     "e0a3586d49354d2d82629d88a8a70ffb": {
      "model_module": "@jupyter-widgets/base",
      "model_module_version": "1.2.0",
      "model_name": "LayoutModel",
      "state": {}
     },
     "e0b1f45ecf3b47a3ab40dfaab64185cd": {
      "model_module": "@jupyter-widgets/controls",
      "model_module_version": "1.5.0",
      "model_name": "HBoxModel",
      "state": {
       "children": [
        "IPY_MODEL_9b283af822f5475b81c34e62637803b7",
        "IPY_MODEL_5331733ed28a43778d4508e07f48c8d4"
       ],
       "layout": "IPY_MODEL_a92d49bc0ad6455a9b802403c92be867"
      }
     },
     "e0bc574b9d884c6a94afb1b66911d302": {
      "model_module": "@jupyter-widgets/controls",
      "model_module_version": "1.5.0",
      "model_name": "DescriptionStyleModel",
      "state": {
       "description_width": ""
      }
     },
     "e0c96a1b9b2b45d29dfab58d39ed15f0": {
      "model_module": "@jupyter-widgets/controls",
      "model_module_version": "1.5.0",
      "model_name": "ProgressStyleModel",
      "state": {
       "description_width": "initial"
      }
     },
     "e0df6d6e12094708bbb6865b54ae092d": {
      "model_module": "@jupyter-widgets/base",
      "model_module_version": "1.2.0",
      "model_name": "LayoutModel",
      "state": {
       "flex": "2"
      }
     },
     "e1b117e480c4439fb71416290f99cf3b": {
      "model_module": "@jupyter-widgets/controls",
      "model_module_version": "1.5.0",
      "model_name": "DescriptionStyleModel",
      "state": {
       "description_width": ""
      }
     },
     "e1ba30bd99344fcdaa7a4e666fc2789e": {
      "model_module": "@jupyter-widgets/base",
      "model_module_version": "1.2.0",
      "model_name": "LayoutModel",
      "state": {
       "flex": "2"
      }
     },
     "e2169b03c4054c61a8139126fd39f80c": {
      "model_module": "@jupyter-widgets/controls",
      "model_module_version": "1.5.0",
      "model_name": "HTMLModel",
      "state": {
       "layout": "IPY_MODEL_ccced26132ca40aca4aac6f47209bd20",
       "style": "IPY_MODEL_503384cb1d1f4c9f9dc04e83f09fc39e",
       "value": " 15/15 [00:20&lt;00:00,  1.37s/it]"
      }
     },
     "e21d441b0a174e909d84d6d9beda04f1": {
      "model_module": "@jupyter-widgets/base",
      "model_module_version": "1.2.0",
      "model_name": "LayoutModel",
      "state": {
       "display": "inline-flex",
       "flex_flow": "row wrap",
       "width": "100%"
      }
     },
     "e26d4358b16a4737ac144d7ba9228859": {
      "model_module": "@jupyter-widgets/controls",
      "model_module_version": "1.5.0",
      "model_name": "ProgressStyleModel",
      "state": {
       "description_width": "initial"
      }
     },
     "e281e882b3ba4b06861ebd6907d070be": {
      "model_module": "@jupyter-widgets/base",
      "model_module_version": "1.2.0",
      "model_name": "LayoutModel",
      "state": {
       "display": "inline-flex",
       "flex_flow": "row wrap",
       "width": "100%"
      }
     },
     "e2955e9b572145f28f4206bb9f846455": {
      "model_module": "@jupyter-widgets/base",
      "model_module_version": "1.2.0",
      "model_name": "LayoutModel",
      "state": {
       "display": "inline-flex",
       "flex_flow": "row wrap",
       "width": "100%"
      }
     },
     "e35c4db5f982410b822061163b722fc1": {
      "model_module": "@jupyter-widgets/controls",
      "model_module_version": "1.5.0",
      "model_name": "HTMLModel",
      "state": {
       "layout": "IPY_MODEL_fb69d8f22bfa4f788dfdcde5cdff7237",
       "style": "IPY_MODEL_396b7381235446568aa1fb161205b333",
       "value": " 15/15 [00:04&lt;00:00,  3.51it/s]"
      }
     },
     "e35fc45eb476479caa23b03f18079be0": {
      "model_module": "@jupyter-widgets/controls",
      "model_module_version": "1.5.0",
      "model_name": "HBoxModel",
      "state": {
       "children": [
        "IPY_MODEL_63b30271d0cc470090cedbcbceecb416",
        "IPY_MODEL_7ceeb5a823e34a398a29aaf3064721cd"
       ],
       "layout": "IPY_MODEL_a26eb309283348658b0ca2112162b80d"
      }
     },
     "e3c5cbe1a6fc4df7badee37679294754": {
      "model_module": "@jupyter-widgets/controls",
      "model_module_version": "1.5.0",
      "model_name": "DescriptionStyleModel",
      "state": {
       "description_width": ""
      }
     },
     "e3f49a57b9484af08400d7a448d4a6de": {
      "model_module": "@jupyter-widgets/controls",
      "model_module_version": "1.5.0",
      "model_name": "ProgressStyleModel",
      "state": {
       "description_width": "initial"
      }
     },
     "e43a896a68d94543ac16c0e1f0766840": {
      "model_module": "@jupyter-widgets/controls",
      "model_module_version": "1.5.0",
      "model_name": "DescriptionStyleModel",
      "state": {
       "description_width": ""
      }
     },
     "e452fc18887b40f5b450751be7a5da01": {
      "model_module": "@jupyter-widgets/controls",
      "model_module_version": "1.5.0",
      "model_name": "IntProgressModel",
      "state": {
       "bar_style": "success",
       "description": "[1/30][Test][14] Loss_avg: 0.83851, Metric_avg: 0.3603: 100%",
       "layout": "IPY_MODEL_ae3adb3bdd3d4ff2bd52e24cfa00e2f3",
       "max": 15,
       "style": "IPY_MODEL_d405cbdf82644ca59571c0fcafc0279e",
       "value": 15
      }
     },
     "e4700ae9db8541ae80084ab6adac0c6a": {
      "model_module": "@jupyter-widgets/controls",
      "model_module_version": "1.5.0",
      "model_name": "DescriptionStyleModel",
      "state": {
       "description_width": ""
      }
     },
     "e4bd7ad3868245689c9bbd9814dc753a": {
      "model_module": "@jupyter-widgets/controls",
      "model_module_version": "1.5.0",
      "model_name": "ProgressStyleModel",
      "state": {
       "description_width": "initial"
      }
     },
     "e4ca32a43d774f7fb928a28f8868f644": {
      "model_module": "@jupyter-widgets/controls",
      "model_module_version": "1.5.0",
      "model_name": "DescriptionStyleModel",
      "state": {
       "description_width": ""
      }
     },
     "e4cd7c5e2cf54954b5777daee319f396": {
      "model_module": "@jupyter-widgets/base",
      "model_module_version": "1.2.0",
      "model_name": "LayoutModel",
      "state": {
       "flex": "2"
      }
     },
     "e4ce229686cf4f34abecaaa5cdb5b1e1": {
      "model_module": "@jupyter-widgets/controls",
      "model_module_version": "1.5.0",
      "model_name": "HTMLModel",
      "state": {
       "layout": "IPY_MODEL_6aef813e5334411e9b9d8a5b077fa679",
       "style": "IPY_MODEL_a90e10ca156149c3a3b551712596d72a",
       "value": " 30/30 [04:43&lt;00:00,  9.43s/it]"
      }
     },
     "e4d1bbfc93784539b307cef43562535e": {
      "model_module": "@jupyter-widgets/base",
      "model_module_version": "1.2.0",
      "model_name": "LayoutModel",
      "state": {}
     },
     "e4ea8106899c4ef3a7090f415d745e4c": {
      "model_module": "@jupyter-widgets/base",
      "model_module_version": "1.2.0",
      "model_name": "LayoutModel",
      "state": {}
     },
     "e4fa0026588349ad87993a4ba722dd3c": {
      "model_module": "@jupyter-widgets/base",
      "model_module_version": "1.2.0",
      "model_name": "LayoutModel",
      "state": {
       "flex": "2"
      }
     },
     "e54b5a91f3a44e4fb75df43d5f7ec4c4": {
      "model_module": "@jupyter-widgets/base",
      "model_module_version": "1.2.0",
      "model_name": "LayoutModel",
      "state": {}
     },
     "e55fbcfb0fa34545bb23419afc03d557": {
      "model_module": "@jupyter-widgets/controls",
      "model_module_version": "1.5.0",
      "model_name": "IntProgressModel",
      "state": {
       "bar_style": "success",
       "description": "[29/30][Test][14] Loss_avg: 0.52574, Metric_avg: 0.47964: 100%",
       "layout": "IPY_MODEL_e0df6d6e12094708bbb6865b54ae092d",
       "max": 15,
       "style": "IPY_MODEL_e0c96a1b9b2b45d29dfab58d39ed15f0",
       "value": 15
      }
     },
     "e5948d1454da476fb7fdfc9d99086e04": {
      "model_module": "@jupyter-widgets/base",
      "model_module_version": "1.2.0",
      "model_name": "LayoutModel",
      "state": {}
     },
     "e64c2241677b40109444e29dc0cb11fb": {
      "model_module": "@jupyter-widgets/base",
      "model_module_version": "1.2.0",
      "model_name": "LayoutModel",
      "state": {
       "display": "inline-flex",
       "flex_flow": "row wrap",
       "width": "100%"
      }
     },
     "e68078d7c1944026ba8008e03685cc7b": {
      "model_module": "@jupyter-widgets/controls",
      "model_module_version": "1.5.0",
      "model_name": "HTMLModel",
      "state": {
       "layout": "IPY_MODEL_56834cac404144d8913b8277da2c527f",
       "style": "IPY_MODEL_d29bcdde251a47dabcb113c30614e9ab",
       "value": " 15/15 [00:03&lt;00:00,  3.96it/s]"
      }
     },
     "e68df3e2681649a28524b13c148f4aa2": {
      "model_module": "@jupyter-widgets/controls",
      "model_module_version": "1.5.0",
      "model_name": "IntProgressModel",
      "state": {
       "bar_style": "success",
       "description": "[17/30][Test][14] Loss_avg: 0.30491, Metric_avg: 0.59962: 100%",
       "layout": "IPY_MODEL_e752e6a13bd245deaf578ac8c0ca11de",
       "max": 15,
       "style": "IPY_MODEL_d73cce3bb82e4ff1941857611196330d",
       "value": 15
      }
     },
     "e69e418c89054552bc9ad9901771f340": {
      "model_module": "@jupyter-widgets/controls",
      "model_module_version": "1.5.0",
      "model_name": "HBoxModel",
      "state": {
       "children": [
        "IPY_MODEL_2e7496a6ba5746728c1ac6a5fa280aea",
        "IPY_MODEL_9e024023556a4972aee2249b4cc90b9b"
       ],
       "layout": "IPY_MODEL_5e79dc52115a4c6a86aa8b72f7115030"
      }
     },
     "e6aa82e9f6014ff3b9d93173852ad8bc": {
      "model_module": "@jupyter-widgets/controls",
      "model_module_version": "1.5.0",
      "model_name": "DescriptionStyleModel",
      "state": {
       "description_width": ""
      }
     },
     "e73a984a09164d9e90bccdcc4ef3d553": {
      "model_module": "@jupyter-widgets/controls",
      "model_module_version": "1.5.0",
      "model_name": "DescriptionStyleModel",
      "state": {
       "description_width": ""
      }
     },
     "e752e6a13bd245deaf578ac8c0ca11de": {
      "model_module": "@jupyter-widgets/base",
      "model_module_version": "1.2.0",
      "model_name": "LayoutModel",
      "state": {
       "flex": "2"
      }
     },
     "e76ade63f5e64e5382bd29df1ce51c13": {
      "model_module": "@jupyter-widgets/base",
      "model_module_version": "1.2.0",
      "model_name": "LayoutModel",
      "state": {
       "flex": "2"
      }
     },
     "e7b8c73920eb408bbed8760b72cd706d": {
      "model_module": "@jupyter-widgets/base",
      "model_module_version": "1.2.0",
      "model_name": "LayoutModel",
      "state": {
       "display": "inline-flex",
       "flex_flow": "row wrap",
       "width": "100%"
      }
     },
     "e7d3b96b06364920910c804c96340280": {
      "model_module": "@jupyter-widgets/controls",
      "model_module_version": "1.5.0",
      "model_name": "ProgressStyleModel",
      "state": {
       "description_width": "initial"
      }
     },
     "e8fe52db58f34694bc1e514e7b9bfba0": {
      "model_module": "@jupyter-widgets/controls",
      "model_module_version": "1.5.0",
      "model_name": "ProgressStyleModel",
      "state": {
       "description_width": "initial"
      }
     },
     "e908bd482ce9417ebbadedf76041e028": {
      "model_module": "@jupyter-widgets/controls",
      "model_module_version": "1.5.0",
      "model_name": "ProgressStyleModel",
      "state": {
       "description_width": "initial"
      }
     },
     "e91ecf04c91841c7b61dd8c53f8a3be2": {
      "model_module": "@jupyter-widgets/base",
      "model_module_version": "1.2.0",
      "model_name": "LayoutModel",
      "state": {
       "flex": "2"
      }
     },
     "e9273726dc094a349882f930c66cbef7": {
      "model_module": "@jupyter-widgets/base",
      "model_module_version": "1.2.0",
      "model_name": "LayoutModel",
      "state": {
       "display": "inline-flex",
       "flex_flow": "row wrap",
       "width": "100%"
      }
     },
     "e9761a1724d74be9bf8c1c952d8b7228": {
      "model_module": "@jupyter-widgets/controls",
      "model_module_version": "1.5.0",
      "model_name": "DescriptionStyleModel",
      "state": {
       "description_width": ""
      }
     },
     "e9bf27f16c024731822d20028795396f": {
      "model_module": "@jupyter-widgets/base",
      "model_module_version": "1.2.0",
      "model_name": "LayoutModel",
      "state": {}
     },
     "eaa6f46b1e5a438cbea4cd9f375d911f": {
      "model_module": "@jupyter-widgets/controls",
      "model_module_version": "1.5.0",
      "model_name": "HBoxModel",
      "state": {
       "children": [
        "IPY_MODEL_e452fc18887b40f5b450751be7a5da01",
        "IPY_MODEL_8c8b7b08217248ee94ff2b7768a91513"
       ],
       "layout": "IPY_MODEL_c0f4f7fe1b504947a207ac2a200244e8"
      }
     },
     "eada43d8c89f4356a6150790d2465e90": {
      "model_module": "@jupyter-widgets/controls",
      "model_module_version": "1.5.0",
      "model_name": "IntProgressModel",
      "state": {
       "bar_style": "success",
       "description": "[10/30][Test][14] Loss_avg: 0.33794, Metric_avg: 0.53828: 100%",
       "layout": "IPY_MODEL_eecc5c0ed74849b2a3314957186a6efa",
       "max": 15,
       "style": "IPY_MODEL_1cd8b8c06f5e4e0e929fdbb0ac6ea355",
       "value": 15
      }
     },
     "eafedcf8ff0740b88459576f56543aac": {
      "model_module": "@jupyter-widgets/controls",
      "model_module_version": "1.5.0",
      "model_name": "DescriptionStyleModel",
      "state": {
       "description_width": ""
      }
     },
     "eb25e1d21ef046999c07ce9272400356": {
      "model_module": "@jupyter-widgets/base",
      "model_module_version": "1.2.0",
      "model_name": "LayoutModel",
      "state": {}
     },
     "eb705469fee349909d0dc93b744c9790": {
      "model_module": "@jupyter-widgets/controls",
      "model_module_version": "1.5.0",
      "model_name": "ProgressStyleModel",
      "state": {
       "description_width": "initial"
      }
     },
     "eb8fce132ead4d5ab4fbf92378d5ff39": {
      "model_module": "@jupyter-widgets/controls",
      "model_module_version": "1.5.0",
      "model_name": "HTMLModel",
      "state": {
       "layout": "IPY_MODEL_7e35e8a23f9644bab977979c215a1f50",
       "style": "IPY_MODEL_2e9acbfca6d24f58b22203bc6817ba71",
       "value": " 15/15 [00:03&lt;00:00,  3.75it/s]"
      }
     },
     "ebdab7c5783740f8a934cd590e40fbc3": {
      "model_module": "@jupyter-widgets/controls",
      "model_module_version": "1.5.0",
      "model_name": "HTMLModel",
      "state": {
       "layout": "IPY_MODEL_20d34317f65440e9a8b7c150db48a901",
       "style": "IPY_MODEL_ede991b4691b4a448553c308c362685b",
       "value": " 15/15 [00:03&lt;00:00,  3.93it/s]"
      }
     },
     "ec2f587d53e84c4fbbd9b970ca59d408": {
      "model_module": "@jupyter-widgets/controls",
      "model_module_version": "1.5.0",
      "model_name": "HTMLModel",
      "state": {
       "layout": "IPY_MODEL_18eeb866b0b046fd95e41fdcbdb4cb7e",
       "style": "IPY_MODEL_3b01964215ca40709b01183437b98ce5",
       "value": " 23/23 [00:09&lt;00:00,  2.55it/s]"
      }
     },
     "ec65ffe8c19745e2a823cdc4906c1955": {
      "model_module": "@jupyter-widgets/controls",
      "model_module_version": "1.5.0",
      "model_name": "HBoxModel",
      "state": {
       "children": [
        "IPY_MODEL_63850b7f4c3d442790f12992951a085b",
        "IPY_MODEL_13805a8b1e6f4cb4884dbd1016a8947c"
       ],
       "layout": "IPY_MODEL_5a29de9112174bc4b0f7b27137e996c3"
      }
     },
     "ec7fb77890db49ff94b2da2320239773": {
      "model_module": "@jupyter-widgets/controls",
      "model_module_version": "1.5.0",
      "model_name": "DescriptionStyleModel",
      "state": {
       "description_width": ""
      }
     },
     "ed1f87ad9944467d98f5192ca78f5557": {
      "model_module": "@jupyter-widgets/controls",
      "model_module_version": "1.5.0",
      "model_name": "IntProgressModel",
      "state": {
       "bar_style": "success",
       "description": "[13/30][Train][22] Loss_avg: 0.25037, Loss: 0.24235, LR: 0.001: 100%",
       "layout": "IPY_MODEL_72a68cd7504d478e9d600ce479392005",
       "max": 23,
       "style": "IPY_MODEL_a630f6cf76ca4bf28dcc7e5bc6b278d3",
       "value": 23
      }
     },
     "ed48b73839144460814faf2b56f3868b": {
      "model_module": "@jupyter-widgets/base",
      "model_module_version": "1.2.0",
      "model_name": "LayoutModel",
      "state": {}
     },
     "edb8588e14af4642936f294fb4731046": {
      "model_module": "@jupyter-widgets/controls",
      "model_module_version": "1.5.0",
      "model_name": "IntProgressModel",
      "state": {
       "bar_style": "success",
       "description": "[3/30][Train][22] Loss_avg: 0.35855, Loss: 0.38747, LR: 0.001: 100%",
       "layout": "IPY_MODEL_be446fcfb1344e6ebe350026e88cfcbd",
       "max": 23,
       "style": "IPY_MODEL_b037932736294c48a52f1254afaac5fa",
       "value": 23
      }
     },
     "ede991b4691b4a448553c308c362685b": {
      "model_module": "@jupyter-widgets/controls",
      "model_module_version": "1.5.0",
      "model_name": "DescriptionStyleModel",
      "state": {
       "description_width": ""
      }
     },
     "ee07210456844a55ac16b44dffed8a48": {
      "model_module": "@jupyter-widgets/controls",
      "model_module_version": "1.5.0",
      "model_name": "HTMLModel",
      "state": {
       "layout": "IPY_MODEL_db06d16b2f4846c7ab24b4cbe8fa1c75",
       "style": "IPY_MODEL_274e5a5ce4f5440b88086b816b15596e",
       "value": " 23/23 [00:13&lt;00:00,  1.75it/s]"
      }
     },
     "ee72785131294da58f82097ea9409371": {
      "model_module": "@jupyter-widgets/controls",
      "model_module_version": "1.5.0",
      "model_name": "DescriptionStyleModel",
      "state": {
       "description_width": ""
      }
     },
     "eeb13ced43f346718abad49018f247fd": {
      "model_module": "@jupyter-widgets/controls",
      "model_module_version": "1.5.0",
      "model_name": "HBoxModel",
      "state": {
       "children": [
        "IPY_MODEL_6b86994eaebb4023b8f8ef9292d3e58f",
        "IPY_MODEL_f27128728f8f45cc975f5e39740fcc6f"
       ],
       "layout": "IPY_MODEL_069ccfbee27e4e7ba4ae1122c810cba9"
      }
     },
     "eeb3a66bcd72479aab6257d547f7350b": {
      "model_module": "@jupyter-widgets/controls",
      "model_module_version": "1.5.0",
      "model_name": "HTMLModel",
      "state": {
       "layout": "IPY_MODEL_25bbe66d08d54f10a1610491466e02fd",
       "style": "IPY_MODEL_1abfea4f66e74730b1b6f322b6a93333",
       "value": " 23/23 [00:08&lt;00:00,  2.56it/s]"
      }
     },
     "eecc5c0ed74849b2a3314957186a6efa": {
      "model_module": "@jupyter-widgets/base",
      "model_module_version": "1.2.0",
      "model_name": "LayoutModel",
      "state": {
       "flex": "2"
      }
     },
     "ef0533820bcf47f797f3f6be3adfb77b": {
      "model_module": "@jupyter-widgets/controls",
      "model_module_version": "1.5.0",
      "model_name": "HBoxModel",
      "state": {
       "children": [
        "IPY_MODEL_5787c8ffae43415386a98d171b900a61",
        "IPY_MODEL_ebdab7c5783740f8a934cd590e40fbc3"
       ],
       "layout": "IPY_MODEL_929573872dca456e84e76b369f370b6c"
      }
     },
     "ef4c8dcc2dc7434286d3f6be49f1939c": {
      "model_module": "@jupyter-widgets/controls",
      "model_module_version": "1.5.0",
      "model_name": "HTMLModel",
      "state": {
       "layout": "IPY_MODEL_8fde65b95d5e4ef582e5e4d5285d9816",
       "style": "IPY_MODEL_733dbb4304a94ba2b20c22cde23d0862",
       "value": " 15/15 [02:35&lt;00:00, 10.37s/it]"
      }
     },
     "ef6127915df9417ab5819e865a917244": {
      "model_module": "@jupyter-widgets/base",
      "model_module_version": "1.2.0",
      "model_name": "LayoutModel",
      "state": {
       "display": "inline-flex",
       "flex_flow": "row wrap",
       "width": "100%"
      }
     },
     "ef6d28b1ad8049d599ec65a5b2c93b14": {
      "model_module": "@jupyter-widgets/base",
      "model_module_version": "1.2.0",
      "model_name": "LayoutModel",
      "state": {}
     },
     "ef86fcaed401407cabfc6ea174ee704d": {
      "model_module": "@jupyter-widgets/base",
      "model_module_version": "1.2.0",
      "model_name": "LayoutModel",
      "state": {
       "flex": "2"
      }
     },
     "f09875d73ded4652b53388366d4f7e75": {
      "model_module": "@jupyter-widgets/controls",
      "model_module_version": "1.5.0",
      "model_name": "HTMLModel",
      "state": {
       "layout": "IPY_MODEL_a9125d7140d847709f8fd03f1ddc292f",
       "style": "IPY_MODEL_fdcffcddb10949f795643f4cc11303ed",
       "value": " 23/23 [04:07&lt;00:00, 10.77s/it]"
      }
     },
     "f0e2f914100346949c3350e91ec4dc7f": {
      "model_module": "@jupyter-widgets/controls",
      "model_module_version": "1.5.0",
      "model_name": "ProgressStyleModel",
      "state": {
       "description_width": "initial"
      }
     },
     "f1117ef44f6d4c2081f304d9ca9f23da": {
      "model_module": "@jupyter-widgets/controls",
      "model_module_version": "1.5.0",
      "model_name": "ProgressStyleModel",
      "state": {
       "description_width": "initial"
      }
     },
     "f1515f029ccd4ab99f8645b3c333db93": {
      "model_module": "@jupyter-widgets/controls",
      "model_module_version": "1.5.0",
      "model_name": "DescriptionStyleModel",
      "state": {
       "description_width": ""
      }
     },
     "f1e3d3b140634ea5b4753d8c58dfc5bc": {
      "model_module": "@jupyter-widgets/controls",
      "model_module_version": "1.5.0",
      "model_name": "HBoxModel",
      "state": {
       "children": [
        "IPY_MODEL_d80422aedf9341689da10bae9a866bf3",
        "IPY_MODEL_f8b907e2d9624e40aef29642a7721dcd"
       ],
       "layout": "IPY_MODEL_04daad944fc74563b7dcfc83d1d3d2ec"
      }
     },
     "f22f7403c41d4eddacc29e2d04541d40": {
      "model_module": "@jupyter-widgets/controls",
      "model_module_version": "1.5.0",
      "model_name": "IntProgressModel",
      "state": {
       "bar_style": "success",
       "description": "[9/30][Train][22] Loss_avg: 0.36222, Loss: 0.31003, LR: 0.001: 100%",
       "layout": "IPY_MODEL_680ef74aa01e4c8a8d9519e68fd6d772",
       "max": 23,
       "style": "IPY_MODEL_b349035a23db4d4ea1f67cb74355b87c",
       "value": 23
      }
     },
     "f240b72a5c7a4c428eea126732436fff": {
      "model_module": "@jupyter-widgets/base",
      "model_module_version": "1.2.0",
      "model_name": "LayoutModel",
      "state": {
       "display": "inline-flex",
       "flex_flow": "row wrap",
       "width": "100%"
      }
     },
     "f24634dbf86d41998869562091d96dfb": {
      "model_module": "@jupyter-widgets/base",
      "model_module_version": "1.2.0",
      "model_name": "LayoutModel",
      "state": {}
     },
     "f268ffb73dd848deb29de5540652b28f": {
      "model_module": "@jupyter-widgets/controls",
      "model_module_version": "1.5.0",
      "model_name": "IntProgressModel",
      "state": {
       "bar_style": "success",
       "description": "[22/30][Train][22] Loss_avg: 0.20634, Loss: 0.20672, LR: 0.001: 100%",
       "layout": "IPY_MODEL_b5d45c22be3146db865252e1f246769b",
       "max": 23,
       "style": "IPY_MODEL_c58b54c6f6704075b87995d22d2830d5",
       "value": 23
      }
     },
     "f27128728f8f45cc975f5e39740fcc6f": {
      "model_module": "@jupyter-widgets/controls",
      "model_module_version": "1.5.0",
      "model_name": "HTMLModel",
      "state": {
       "layout": "IPY_MODEL_7b4a2637035c4514a41adb10f8afa4e2",
       "style": "IPY_MODEL_9f267a6952f4461782dff01708159cb5",
       "value": " 23/23 [00:04&lt;00:00,  4.85it/s]"
      }
     },
     "f338e0b4a22b4aea95990ed48b7008f2": {
      "model_module": "@jupyter-widgets/controls",
      "model_module_version": "1.5.0",
      "model_name": "ProgressStyleModel",
      "state": {
       "description_width": "initial"
      }
     },
     "f3963b668927436eb52a45b0bbcdd4f5": {
      "model_module": "@jupyter-widgets/controls",
      "model_module_version": "1.5.0",
      "model_name": "IntProgressModel",
      "state": {
       "bar_style": "success",
       "description": "epoch: 29, test_miou: 0.47964, train_loss: 0.18479, test_loss: 0.52574: 100%",
       "layout": "IPY_MODEL_a69462112dcb4e6daa443b380cbaa5d4",
       "max": 30,
       "style": "IPY_MODEL_6510fe194b5949c5b99ca10a746df798",
       "value": 30
      }
     },
     "f3c4b5504b7c41e78ee2800cd8456fcc": {
      "model_module": "@jupyter-widgets/controls",
      "model_module_version": "1.5.0",
      "model_name": "HBoxModel",
      "state": {
       "children": [
        "IPY_MODEL_4c3a30b5efa640e1bf73f9e662ec915d",
        "IPY_MODEL_4443ef1c7ec44691b58048b01a9eb13b"
       ],
       "layout": "IPY_MODEL_dc6f54be390b4c3eb5dcb74079d4f78e"
      }
     },
     "f3c999a5d90d40e48e9606b11cfea71c": {
      "model_module": "@jupyter-widgets/controls",
      "model_module_version": "1.5.0",
      "model_name": "HBoxModel",
      "state": {
       "children": [
        "IPY_MODEL_45dab96c8d904365900bd5ddc52050fb",
        "IPY_MODEL_b8ef45e162814a27860d26f0aa70a22a"
       ],
       "layout": "IPY_MODEL_a2fbb14cb66c4eac91f7bf147c7d71e9"
      }
     },
     "f3fe534521f546078a333ed7aab0deb7": {
      "model_module": "@jupyter-widgets/controls",
      "model_module_version": "1.5.0",
      "model_name": "ProgressStyleModel",
      "state": {
       "description_width": "initial"
      }
     },
     "f4ff147092894132a5b88e139c3174a1": {
      "model_module": "@jupyter-widgets/controls",
      "model_module_version": "1.5.0",
      "model_name": "ProgressStyleModel",
      "state": {
       "description_width": "initial"
      }
     },
     "f504bd490a4d4d76bda7cf089eac1a68": {
      "model_module": "@jupyter-widgets/controls",
      "model_module_version": "1.5.0",
      "model_name": "DescriptionStyleModel",
      "state": {
       "description_width": ""
      }
     },
     "f56049e2136e4a04b9707ee3957bc313": {
      "model_module": "@jupyter-widgets/controls",
      "model_module_version": "1.5.0",
      "model_name": "ProgressStyleModel",
      "state": {
       "description_width": "initial"
      }
     },
     "f588412d07a44ef7b971cbab63fe35fd": {
      "model_module": "@jupyter-widgets/base",
      "model_module_version": "1.2.0",
      "model_name": "LayoutModel",
      "state": {}
     },
     "f5eae949fafc498a82714a900a5f04cb": {
      "model_module": "@jupyter-widgets/controls",
      "model_module_version": "1.5.0",
      "model_name": "ProgressStyleModel",
      "state": {
       "description_width": "initial"
      }
     },
     "f6275733020e4400988613e0c4cd2634": {
      "model_module": "@jupyter-widgets/base",
      "model_module_version": "1.2.0",
      "model_name": "LayoutModel",
      "state": {}
     },
     "f65a81436dbc4639b9076f33b7009af8": {
      "model_module": "@jupyter-widgets/controls",
      "model_module_version": "1.5.0",
      "model_name": "HTMLModel",
      "state": {
       "layout": "IPY_MODEL_4e99e702486b40c5965e95652c8632e4",
       "style": "IPY_MODEL_4b7117982e604ef2b4b2bba9d649482f",
       "value": " 15/15 [00:13&lt;00:00,  1.12it/s]"
      }
     },
     "f66397a65c454cff802af0cc67a3405c": {
      "model_module": "@jupyter-widgets/base",
      "model_module_version": "1.2.0",
      "model_name": "LayoutModel",
      "state": {}
     },
     "f66cc467251b453fad85d16276976d7f": {
      "model_module": "@jupyter-widgets/controls",
      "model_module_version": "1.5.0",
      "model_name": "ProgressStyleModel",
      "state": {
       "description_width": "initial"
      }
     },
     "f70b615c9ce24edeb39a2f8fab99bcf1": {
      "model_module": "@jupyter-widgets/base",
      "model_module_version": "1.2.0",
      "model_name": "LayoutModel",
      "state": {
       "flex": "2"
      }
     },
     "f7118d9407a74e0b99ff17fe074059ed": {
      "model_module": "@jupyter-widgets/controls",
      "model_module_version": "1.5.0",
      "model_name": "ProgressStyleModel",
      "state": {
       "description_width": "initial"
      }
     },
     "f721aeeda0e840cc84e739f1937f06b6": {
      "model_module": "@jupyter-widgets/controls",
      "model_module_version": "1.5.0",
      "model_name": "ProgressStyleModel",
      "state": {
       "description_width": "initial"
      }
     },
     "f781ccfb58eb47ecac7fcd4d827bce32": {
      "model_module": "@jupyter-widgets/controls",
      "model_module_version": "1.5.0",
      "model_name": "IntProgressModel",
      "state": {
       "bar_style": "success",
       "description": "[9/30][Train][22] Loss_avg: 0.28018, Loss: 0.28403, LR: 0.001: 100%",
       "layout": "IPY_MODEL_51e9a8fd30ca47348ba92acd3721e770",
       "max": 23,
       "style": "IPY_MODEL_742c20b17a7347328b5875e37aff8120",
       "value": 23
      }
     },
     "f8386f8489c54d7ba76f94b8f9e6b681": {
      "model_module": "@jupyter-widgets/base",
      "model_module_version": "1.2.0",
      "model_name": "LayoutModel",
      "state": {}
     },
     "f83a4c6bda244591b1ecb0a155cb69c5": {
      "model_module": "@jupyter-widgets/base",
      "model_module_version": "1.2.0",
      "model_name": "LayoutModel",
      "state": {}
     },
     "f864e40a01d943f6ab8fc5f00b254d4a": {
      "model_module": "@jupyter-widgets/controls",
      "model_module_version": "1.5.0",
      "model_name": "ProgressStyleModel",
      "state": {
       "description_width": "initial"
      }
     },
     "f8890dbfb7024eb9aa59df3b9dd17170": {
      "model_module": "@jupyter-widgets/base",
      "model_module_version": "1.2.0",
      "model_name": "LayoutModel",
      "state": {
       "flex": "2"
      }
     },
     "f8b907e2d9624e40aef29642a7721dcd": {
      "model_module": "@jupyter-widgets/controls",
      "model_module_version": "1.5.0",
      "model_name": "HTMLModel",
      "state": {
       "layout": "IPY_MODEL_2bc7336d4a86478098305cf9ca78c66d",
       "style": "IPY_MODEL_300d2e3ac7cb4523b8eb015cd95d0fab",
       "value": " 23/23 [00:08&lt;00:00,  2.86it/s]"
      }
     },
     "f938df38e2764d9c8ce5b8a2e81a8f40": {
      "model_module": "@jupyter-widgets/base",
      "model_module_version": "1.2.0",
      "model_name": "LayoutModel",
      "state": {}
     },
     "fa27482a71f14d31bcd04ed1e2b5c1cf": {
      "model_module": "@jupyter-widgets/controls",
      "model_module_version": "1.5.0",
      "model_name": "DescriptionStyleModel",
      "state": {
       "description_width": ""
      }
     },
     "fa652af136974a06a7ce2203f9b2e437": {
      "model_module": "@jupyter-widgets/base",
      "model_module_version": "1.2.0",
      "model_name": "LayoutModel",
      "state": {
       "display": "inline-flex",
       "flex_flow": "row wrap",
       "width": "100%"
      }
     },
     "fb28bd224bff4d6193bdacb42cb85f1b": {
      "model_module": "@jupyter-widgets/controls",
      "model_module_version": "1.5.0",
      "model_name": "HBoxModel",
      "state": {
       "children": [
        "IPY_MODEL_8bc2db06684f4c24b5750fd5ee102047",
        "IPY_MODEL_42b76233a2cc4eba80e85cc42378039f"
       ],
       "layout": "IPY_MODEL_36fb531ef78246a7bce12c56e493a65c"
      }
     },
     "fb3c5b55abe44ef79f5f5b34f838f240": {
      "model_module": "@jupyter-widgets/base",
      "model_module_version": "1.2.0",
      "model_name": "LayoutModel",
      "state": {}
     },
     "fb69d8f22bfa4f788dfdcde5cdff7237": {
      "model_module": "@jupyter-widgets/base",
      "model_module_version": "1.2.0",
      "model_name": "LayoutModel",
      "state": {}
     },
     "fbb7a135202b418abe57652082813e32": {
      "model_module": "@jupyter-widgets/base",
      "model_module_version": "1.2.0",
      "model_name": "LayoutModel",
      "state": {}
     },
     "fc0940eaf8644980b3ec939e3c9f08de": {
      "model_module": "@jupyter-widgets/controls",
      "model_module_version": "1.5.0",
      "model_name": "HBoxModel",
      "state": {
       "children": [
        "IPY_MODEL_b4606d544a6f438fbe947b9888315330",
        "IPY_MODEL_58c5ee16b3eb41d683556c74a4404f99"
       ],
       "layout": "IPY_MODEL_207c75d680e6436fbb6b9fe7fa2c09a0"
      }
     },
     "fc0efcedaca54c2a9711d9e557e5f6a6": {
      "model_module": "@jupyter-widgets/base",
      "model_module_version": "1.2.0",
      "model_name": "LayoutModel",
      "state": {
       "flex": "2"
      }
     },
     "fc406326b691493782ffc9d63481277a": {
      "model_module": "@jupyter-widgets/controls",
      "model_module_version": "1.5.0",
      "model_name": "ProgressStyleModel",
      "state": {
       "description_width": "initial"
      }
     },
     "fc4d8b11c04741deb8d3b62b0d802d78": {
      "model_module": "@jupyter-widgets/controls",
      "model_module_version": "1.5.0",
      "model_name": "ProgressStyleModel",
      "state": {
       "description_width": "initial"
      }
     },
     "fc4d96c734444c61995209fbd2bd7e37": {
      "model_module": "@jupyter-widgets/controls",
      "model_module_version": "1.5.0",
      "model_name": "DescriptionStyleModel",
      "state": {
       "description_width": ""
      }
     },
     "fd16aa303aa04940aff21162d02aa2c7": {
      "model_module": "@jupyter-widgets/controls",
      "model_module_version": "1.5.0",
      "model_name": "HBoxModel",
      "state": {
       "children": [
        "IPY_MODEL_100523bcff624dad97f59ea46ed305ce",
        "IPY_MODEL_d33d6914db5d409e85c27c63e0f46748"
       ],
       "layout": "IPY_MODEL_d4848d57793e4872815c88d1293cfbfd"
      }
     },
     "fd37be40030e4f8ea520b359d6532430": {
      "model_module": "@jupyter-widgets/controls",
      "model_module_version": "1.5.0",
      "model_name": "HTMLModel",
      "state": {
       "layout": "IPY_MODEL_7eb2dad137d2465a861c6056f9e93315",
       "style": "IPY_MODEL_05e243df818e4f45be699f214e3a9b88",
       "value": " 23/23 [00:08&lt;00:00,  2.85it/s]"
      }
     },
     "fdcffcddb10949f795643f4cc11303ed": {
      "model_module": "@jupyter-widgets/controls",
      "model_module_version": "1.5.0",
      "model_name": "DescriptionStyleModel",
      "state": {
       "description_width": ""
      }
     },
     "fdf24bb7911347daaf8d57ceafda1218": {
      "model_module": "@jupyter-widgets/base",
      "model_module_version": "1.2.0",
      "model_name": "LayoutModel",
      "state": {}
     },
     "fe2f0560acdf4d5a84107e779dd508ea": {
      "model_module": "@jupyter-widgets/controls",
      "model_module_version": "1.5.0",
      "model_name": "DescriptionStyleModel",
      "state": {
       "description_width": ""
      }
     },
     "fe3a993715d648db9f8c0ec7d55631e1": {
      "model_module": "@jupyter-widgets/base",
      "model_module_version": "1.2.0",
      "model_name": "LayoutModel",
      "state": {}
     },
     "fe7ec4331e85443d9bf788c6120e40f9": {
      "model_module": "@jupyter-widgets/controls",
      "model_module_version": "1.5.0",
      "model_name": "DescriptionStyleModel",
      "state": {
       "description_width": ""
      }
     },
     "fe92444ff2a540c7a2a8f9c97ca79d55": {
      "model_module": "@jupyter-widgets/base",
      "model_module_version": "1.2.0",
      "model_name": "LayoutModel",
      "state": {
       "display": "inline-flex",
       "flex_flow": "row wrap",
       "width": "100%"
      }
     },
     "fe9b301863204961bb6e482f9f9d263e": {
      "model_module": "@jupyter-widgets/controls",
      "model_module_version": "1.5.0",
      "model_name": "IntProgressModel",
      "state": {
       "bar_style": "success",
       "description": "[10/30][Train][22] Loss_avg: 0.2525, Loss: 0.29102, LR: 0.001: 100%",
       "layout": "IPY_MODEL_0258d8f75fb44a2380cd70f4aa672592",
       "max": 23,
       "style": "IPY_MODEL_43e6d750b475445782aa8b17d31a9882",
       "value": 23
      }
     },
     "fec7da451c024cd6846a8b6be94fc3bf": {
      "model_module": "@jupyter-widgets/controls",
      "model_module_version": "1.5.0",
      "model_name": "DescriptionStyleModel",
      "state": {
       "description_width": ""
      }
     },
     "fecc458823c544d8a70b5a1102588755": {
      "model_module": "@jupyter-widgets/controls",
      "model_module_version": "1.5.0",
      "model_name": "ProgressStyleModel",
      "state": {
       "description_width": "initial"
      }
     },
     "fede84cc7f08444a9245d1a402ad218b": {
      "model_module": "@jupyter-widgets/base",
      "model_module_version": "1.2.0",
      "model_name": "LayoutModel",
      "state": {
       "flex": "2"
      }
     },
     "ff05832428224af0a4281116bbffaa4d": {
      "model_module": "@jupyter-widgets/controls",
      "model_module_version": "1.5.0",
      "model_name": "HBoxModel",
      "state": {
       "children": [
        "IPY_MODEL_05e926f1a57540528562e82ad7e8d996",
        "IPY_MODEL_b85a6012461e4781a6b1f800c2e942f5"
       ],
       "layout": "IPY_MODEL_738d9e2736454b498ca4ed4eb64b7765"
      }
     },
     "ff1c28ec4d34442497b5f3a2f5e45c52": {
      "model_module": "@jupyter-widgets/base",
      "model_module_version": "1.2.0",
      "model_name": "LayoutModel",
      "state": {}
     },
     "ff944fde815f473a9702de87357f5e13": {
      "model_module": "@jupyter-widgets/controls",
      "model_module_version": "1.5.0",
      "model_name": "HTMLModel",
      "state": {
       "layout": "IPY_MODEL_07c558596ad74210aefe5502afcb3bcb",
       "style": "IPY_MODEL_745f9cd25d0f4fe9a39854fcb9e17539",
       "value": " 15/15 [00:03&lt;00:00,  3.87it/s]"
      }
     },
     "ffb37635f7884251bbc3c5054590d817": {
      "model_module": "@jupyter-widgets/controls",
      "model_module_version": "1.5.0",
      "model_name": "HTMLModel",
      "state": {
       "layout": "IPY_MODEL_54fe2aa8d0134d6989ad55298ff242d7",
       "style": "IPY_MODEL_80e8d44dc2e144d4a59c4ccb7f7451a7",
       "value": " 15/15 [00:22&lt;00:00,  1.52s/it]"
      }
     },
     "ffb7c938ce1b4df2bd4c899c7bee39ba": {
      "model_module": "@jupyter-widgets/controls",
      "model_module_version": "1.5.0",
      "model_name": "HTMLModel",
      "state": {
       "layout": "IPY_MODEL_ed48b73839144460814faf2b56f3868b",
       "style": "IPY_MODEL_cf5f1de1f24a460da8132f1318bd1f65",
       "value": " 15/15 [00:17&lt;00:00,  1.19s/it]"
      }
     },
     "fffce8f3ef6046488faec45a32183646": {
      "model_module": "@jupyter-widgets/controls",
      "model_module_version": "1.5.0",
      "model_name": "HTMLModel",
      "state": {
       "layout": "IPY_MODEL_8b693303a8e94cce993fa2d914f91fc6",
       "style": "IPY_MODEL_2840632230724eccb51fd90838d1386c",
       "value": " 15/15 [00:29&lt;00:00,  1.96s/it]"
      }
     }
    },
    "version_major": 2,
    "version_minor": 0
   }
  }
 },
 "nbformat": 4,
 "nbformat_minor": 2
}
